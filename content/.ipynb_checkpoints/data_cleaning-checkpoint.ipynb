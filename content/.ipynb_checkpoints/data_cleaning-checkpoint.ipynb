{
 "cells": [
  {
   "cell_type": "markdown",
   "id": "6a8d7d56",
   "metadata": {},
   "source": [
    "# Data Cleaning"
   ]
  },
  {
   "cell_type": "markdown",
   "id": "0408e77b",
   "metadata": {},
   "source": [
    "In den folgenden Zeilen werden die gescrapten Daten bereinitgt und weitere Spalten erstellt."
   ]
  },
  {
   "cell_type": "markdown",
   "id": "84a5ddd3",
   "metadata": {},
   "source": [
    "## Import Dependencies "
   ]
  },
  {
   "cell_type": "code",
   "execution_count": 1,
   "id": "2458aa01",
   "metadata": {},
   "outputs": [],
   "source": [
    "import numpy as np\n",
    "import pandas as pd\n",
    "import matplotlib as plt\n",
    "import seaborn as sns"
   ]
  },
  {
   "cell_type": "markdown",
   "id": "9b52427b",
   "metadata": {},
   "source": [
    "## Import Data"
   ]
  },
  {
   "cell_type": "code",
   "execution_count": 2,
   "id": "b5b7a891",
   "metadata": {},
   "outputs": [],
   "source": [
    "df = pd.read_excel('/Users/cenkyagkan/Desktop/OMM/7.Semester/Applied Data Analytics/Mobile.de/zsf_031021_mobile_data_1000_200000.xlsx')"
   ]
  },
  {
   "cell_type": "code",
   "execution_count": 3,
   "id": "11bfed03",
   "metadata": {},
   "outputs": [
    {
     "data": {
      "text/html": [
       "<div>\n",
       "<style scoped>\n",
       "    .dataframe tbody tr th:only-of-type {\n",
       "        vertical-align: middle;\n",
       "    }\n",
       "\n",
       "    .dataframe tbody tr th {\n",
       "        vertical-align: top;\n",
       "    }\n",
       "\n",
       "    .dataframe thead th {\n",
       "        text-align: right;\n",
       "    }\n",
       "</style>\n",
       "<table border=\"1\" class=\"dataframe\">\n",
       "  <thead>\n",
       "    <tr style=\"text-align: right;\">\n",
       "      <th></th>\n",
       "      <th>carname</th>\n",
       "      <th>price</th>\n",
       "      <th>milage</th>\n",
       "      <th>hubraum</th>\n",
       "      <th>power</th>\n",
       "      <th>fuel_type</th>\n",
       "      <th>transmission</th>\n",
       "      <th>construction_year</th>\n",
       "      <th>first_registration</th>\n",
       "      <th>num_seats</th>\n",
       "      <th>num_doors</th>\n",
       "      <th>emission_class</th>\n",
       "      <th>car_type</th>\n",
       "      <th>num_owners</th>\n",
       "      <th>damage</th>\n",
       "    </tr>\n",
       "  </thead>\n",
       "  <tbody>\n",
       "    <tr>\n",
       "      <th>0</th>\n",
       "      <td>Mercedes-Benz Sprinter II Kasten 214 CDI Klima...</td>\n",
       "      <td>16.950 € (Brutto)</td>\n",
       "      <td>198.245 km</td>\n",
       "      <td>2.143 cm³</td>\n",
       "      <td>105 kW (143 PS)</td>\n",
       "      <td>Diesel</td>\n",
       "      <td>Schaltgetriebe</td>\n",
       "      <td>-1</td>\n",
       "      <td>07/2017</td>\n",
       "      <td>3</td>\n",
       "      <td>4/5</td>\n",
       "      <td>Euro6</td>\n",
       "      <td>Van / Minibus</td>\n",
       "      <td>1</td>\n",
       "      <td>Unfallfrei</td>\n",
       "    </tr>\n",
       "    <tr>\n",
       "      <th>1</th>\n",
       "      <td>Mercedes-Benz GLB 220 d 4M Progressive AHK Dis...</td>\n",
       "      <td>60.490 € (Brutto)</td>\n",
       "      <td>10.529 km</td>\n",
       "      <td>1.950 cm³</td>\n",
       "      <td>140 kW (190 PS)</td>\n",
       "      <td>Diesel</td>\n",
       "      <td>Automatik</td>\n",
       "      <td>-1</td>\n",
       "      <td>05/2020</td>\n",
       "      <td>5</td>\n",
       "      <td>4/5</td>\n",
       "      <td>Euro6d</td>\n",
       "      <td>SUV / Geländewagen / Pickup</td>\n",
       "      <td>1</td>\n",
       "      <td>Unfallfrei</td>\n",
       "    </tr>\n",
       "    <tr>\n",
       "      <th>2</th>\n",
       "      <td>Mercedes-Benz A 200 7G*1.HAND*LED*NAVI*LEDER*K...</td>\n",
       "      <td>24.990 € (Brutto)</td>\n",
       "      <td>91.205 km</td>\n",
       "      <td>1.332 cm³</td>\n",
       "      <td>100 kW (136 PS)</td>\n",
       "      <td>Benzin</td>\n",
       "      <td>Automatik</td>\n",
       "      <td>-1</td>\n",
       "      <td>04/2019</td>\n",
       "      <td>5</td>\n",
       "      <td>4/5</td>\n",
       "      <td>Euro6d-TEMP</td>\n",
       "      <td>Limousine</td>\n",
       "      <td>1</td>\n",
       "      <td>-1</td>\n",
       "    </tr>\n",
       "    <tr>\n",
       "      <th>3</th>\n",
       "      <td>Mercedes-Benz S 63 AMG COUPE 4MATIC+*360CAM*BU...</td>\n",
       "      <td>129900</td>\n",
       "      <td>50.696 km</td>\n",
       "      <td>3.982 cm³</td>\n",
       "      <td>450 kW (612 PS)</td>\n",
       "      <td>Benzin</td>\n",
       "      <td>Automatik</td>\n",
       "      <td>-1</td>\n",
       "      <td>05/2018</td>\n",
       "      <td>4</td>\n",
       "      <td>2/3</td>\n",
       "      <td>Euro6</td>\n",
       "      <td>Sportwagen / Coupé</td>\n",
       "      <td>2</td>\n",
       "      <td>-1</td>\n",
       "    </tr>\n",
       "    <tr>\n",
       "      <th>4</th>\n",
       "      <td>Mercedes-Benz C 63 AMG S*KERAMIK*SCHMIDT*SCHAL...</td>\n",
       "      <td>79990</td>\n",
       "      <td>39.000 km</td>\n",
       "      <td>3.982 cm³</td>\n",
       "      <td>375 kW (510 PS)</td>\n",
       "      <td>Benzin</td>\n",
       "      <td>Automatik</td>\n",
       "      <td>-1</td>\n",
       "      <td>09/2017</td>\n",
       "      <td>4</td>\n",
       "      <td>2/3</td>\n",
       "      <td>Euro6</td>\n",
       "      <td>Cabrio / Roadster</td>\n",
       "      <td>2</td>\n",
       "      <td>-1</td>\n",
       "    </tr>\n",
       "  </tbody>\n",
       "</table>\n",
       "</div>"
      ],
      "text/plain": [
       "                                             carname              price  \\\n",
       "0  Mercedes-Benz Sprinter II Kasten 214 CDI Klima...  16.950 € (Brutto)   \n",
       "1  Mercedes-Benz GLB 220 d 4M Progressive AHK Dis...  60.490 € (Brutto)   \n",
       "2  Mercedes-Benz A 200 7G*1.HAND*LED*NAVI*LEDER*K...  24.990 € (Brutto)   \n",
       "3  Mercedes-Benz S 63 AMG COUPE 4MATIC+*360CAM*BU...             129900   \n",
       "4  Mercedes-Benz C 63 AMG S*KERAMIK*SCHMIDT*SCHAL...              79990   \n",
       "\n",
       "       milage    hubraum            power fuel_type    transmission  \\\n",
       "0  198.245 km  2.143 cm³  105 kW (143 PS)    Diesel  Schaltgetriebe   \n",
       "1   10.529 km  1.950 cm³  140 kW (190 PS)    Diesel       Automatik   \n",
       "2   91.205 km  1.332 cm³  100 kW (136 PS)    Benzin       Automatik   \n",
       "3   50.696 km  3.982 cm³  450 kW (612 PS)    Benzin       Automatik   \n",
       "4   39.000 km  3.982 cm³  375 kW (510 PS)    Benzin       Automatik   \n",
       "\n",
       "   construction_year first_registration  num_seats num_doors emission_class  \\\n",
       "0                 -1            07/2017          3       4/5          Euro6   \n",
       "1                 -1            05/2020          5       4/5         Euro6d   \n",
       "2                 -1            04/2019          5       4/5    Euro6d-TEMP   \n",
       "3                 -1            05/2018          4       2/3          Euro6   \n",
       "4                 -1            09/2017          4       2/3          Euro6   \n",
       "\n",
       "                      car_type  num_owners      damage  \n",
       "0                Van / Minibus           1  Unfallfrei  \n",
       "1  SUV / Geländewagen / Pickup           1  Unfallfrei  \n",
       "2                    Limousine           1          -1  \n",
       "3           Sportwagen / Coupé           2          -1  \n",
       "4            Cabrio / Roadster           2          -1  "
      ]
     },
     "execution_count": 3,
     "metadata": {},
     "output_type": "execute_result"
    }
   ],
   "source": [
    "df.head()"
   ]
  },
  {
   "cell_type": "code",
   "execution_count": 4,
   "id": "86b76654",
   "metadata": {},
   "outputs": [
    {
     "data": {
      "text/html": [
       "<div>\n",
       "<style scoped>\n",
       "    .dataframe tbody tr th:only-of-type {\n",
       "        vertical-align: middle;\n",
       "    }\n",
       "\n",
       "    .dataframe tbody tr th {\n",
       "        vertical-align: top;\n",
       "    }\n",
       "\n",
       "    .dataframe thead th {\n",
       "        text-align: right;\n",
       "    }\n",
       "</style>\n",
       "<table border=\"1\" class=\"dataframe\">\n",
       "  <thead>\n",
       "    <tr style=\"text-align: right;\">\n",
       "      <th></th>\n",
       "      <th>carname</th>\n",
       "      <th>price</th>\n",
       "      <th>milage</th>\n",
       "      <th>hubraum</th>\n",
       "      <th>power</th>\n",
       "      <th>fuel_type</th>\n",
       "      <th>transmission</th>\n",
       "      <th>construction_year</th>\n",
       "      <th>first_registration</th>\n",
       "      <th>num_seats</th>\n",
       "      <th>num_doors</th>\n",
       "      <th>emission_class</th>\n",
       "      <th>car_type</th>\n",
       "      <th>num_owners</th>\n",
       "      <th>damage</th>\n",
       "    </tr>\n",
       "  </thead>\n",
       "  <tbody>\n",
       "    <tr>\n",
       "      <th>1410</th>\n",
       "      <td>Mercedes-Benz Mercedes Benz C63 AMG</td>\n",
       "      <td>66.500 € (Brutto)</td>\n",
       "      <td>11.355 km</td>\n",
       "      <td>1.991 cm³</td>\n",
       "      <td>190 kW (258 PS)</td>\n",
       "      <td>Benzin, E10-geeignet</td>\n",
       "      <td>Automatik</td>\n",
       "      <td>2020</td>\n",
       "      <td>10/2020</td>\n",
       "      <td>5</td>\n",
       "      <td>4/5</td>\n",
       "      <td>Euro6d-TEMP</td>\n",
       "      <td>Limousine</td>\n",
       "      <td>1</td>\n",
       "      <td>-1</td>\n",
       "    </tr>\n",
       "    <tr>\n",
       "      <th>1411</th>\n",
       "      <td>Mercedes-Benz Mercedes V 250 d Avangard Edition</td>\n",
       "      <td>42.849 € (Brutto)</td>\n",
       "      <td>60.105 km</td>\n",
       "      <td>2.143 cm³</td>\n",
       "      <td>150 kW (204 PS)</td>\n",
       "      <td>Diesel</td>\n",
       "      <td>Automatik</td>\n",
       "      <td>-1</td>\n",
       "      <td>09/2018</td>\n",
       "      <td>5</td>\n",
       "      <td>4/5</td>\n",
       "      <td>Euro6c</td>\n",
       "      <td>SUV / Geländewagen / Pickup</td>\n",
       "      <td>1</td>\n",
       "      <td>-1</td>\n",
       "    </tr>\n",
       "    <tr>\n",
       "      <th>1412</th>\n",
       "      <td>Mercedes-Benz Mercedes-Benz</td>\n",
       "      <td>54.849 € (Brutto)</td>\n",
       "      <td>46.419 km</td>\n",
       "      <td>2.925 cm³</td>\n",
       "      <td>250 kW (340 PS)</td>\n",
       "      <td>Diesel</td>\n",
       "      <td>Automatik</td>\n",
       "      <td>-1</td>\n",
       "      <td>03/2020</td>\n",
       "      <td>5</td>\n",
       "      <td>4/5</td>\n",
       "      <td>Euro6d-TEMP</td>\n",
       "      <td>Kombi</td>\n",
       "      <td>1</td>\n",
       "      <td>Unfallfrei</td>\n",
       "    </tr>\n",
       "    <tr>\n",
       "      <th>1413</th>\n",
       "      <td>Mercedes-Benz E 2200 d Avantgarde NIGHT 360° L...</td>\n",
       "      <td>46.849 € (Brutto)</td>\n",
       "      <td>52.553 km</td>\n",
       "      <td>2.987 cm³</td>\n",
       "      <td>190 kW (258 PS)</td>\n",
       "      <td>Diesel</td>\n",
       "      <td>Automatik</td>\n",
       "      <td>-1</td>\n",
       "      <td>01/2017</td>\n",
       "      <td>5</td>\n",
       "      <td>4/5</td>\n",
       "      <td>Euro6</td>\n",
       "      <td>SUV / Geländewagen / Pickup</td>\n",
       "      <td>-1</td>\n",
       "      <td>-1</td>\n",
       "    </tr>\n",
       "    <tr>\n",
       "      <th>1414</th>\n",
       "      <td>Mercedes-Benz CLA 250 Shooting Brake 4Matic AM...</td>\n",
       "      <td>49.849 € (Brutto)</td>\n",
       "      <td>72.820 km</td>\n",
       "      <td>2.996 cm³</td>\n",
       "      <td>270 kW (367 PS)</td>\n",
       "      <td>Benzin</td>\n",
       "      <td>Automatik</td>\n",
       "      <td>-1</td>\n",
       "      <td>01/2019</td>\n",
       "      <td>5</td>\n",
       "      <td>4/5</td>\n",
       "      <td>Euro6d-TEMP</td>\n",
       "      <td>SUV / Geländewagen / Pickup</td>\n",
       "      <td>1</td>\n",
       "      <td>-1</td>\n",
       "    </tr>\n",
       "  </tbody>\n",
       "</table>\n",
       "</div>"
      ],
      "text/plain": [
       "                                                carname              price  \\\n",
       "1410                Mercedes-Benz Mercedes Benz C63 AMG  66.500 € (Brutto)   \n",
       "1411    Mercedes-Benz Mercedes V 250 d Avangard Edition  42.849 € (Brutto)   \n",
       "1412                        Mercedes-Benz Mercedes-Benz  54.849 € (Brutto)   \n",
       "1413  Mercedes-Benz E 2200 d Avantgarde NIGHT 360° L...  46.849 € (Brutto)   \n",
       "1414  Mercedes-Benz CLA 250 Shooting Brake 4Matic AM...  49.849 € (Brutto)   \n",
       "\n",
       "         milage    hubraum            power             fuel_type  \\\n",
       "1410  11.355 km  1.991 cm³  190 kW (258 PS)  Benzin, E10-geeignet   \n",
       "1411  60.105 km  2.143 cm³  150 kW (204 PS)                Diesel   \n",
       "1412  46.419 km  2.925 cm³  250 kW (340 PS)                Diesel   \n",
       "1413  52.553 km  2.987 cm³  190 kW (258 PS)                Diesel   \n",
       "1414  72.820 km  2.996 cm³  270 kW (367 PS)                Benzin   \n",
       "\n",
       "     transmission  construction_year first_registration  num_seats num_doors  \\\n",
       "1410    Automatik               2020            10/2020          5       4/5   \n",
       "1411    Automatik                 -1            09/2018          5       4/5   \n",
       "1412    Automatik                 -1            03/2020          5       4/5   \n",
       "1413    Automatik                 -1            01/2017          5       4/5   \n",
       "1414    Automatik                 -1            01/2019          5       4/5   \n",
       "\n",
       "     emission_class                     car_type  num_owners      damage  \n",
       "1410    Euro6d-TEMP                    Limousine           1          -1  \n",
       "1411         Euro6c  SUV / Geländewagen / Pickup           1          -1  \n",
       "1412    Euro6d-TEMP                        Kombi           1  Unfallfrei  \n",
       "1413          Euro6  SUV / Geländewagen / Pickup          -1          -1  \n",
       "1414    Euro6d-TEMP  SUV / Geländewagen / Pickup           1          -1  "
      ]
     },
     "execution_count": 4,
     "metadata": {},
     "output_type": "execute_result"
    }
   ],
   "source": [
    "df.tail()"
   ]
  },
  {
   "cell_type": "code",
   "execution_count": 5,
   "id": "1b217033",
   "metadata": {},
   "outputs": [
    {
     "name": "stdout",
     "output_type": "stream",
     "text": [
      "<class 'pandas.core.frame.DataFrame'>\n",
      "RangeIndex: 1415 entries, 0 to 1414\n",
      "Data columns (total 15 columns):\n",
      " #   Column              Non-Null Count  Dtype \n",
      "---  ------              --------------  ----- \n",
      " 0   carname             1415 non-null   object\n",
      " 1   price               1415 non-null   object\n",
      " 2   milage              1415 non-null   object\n",
      " 3   hubraum             1415 non-null   object\n",
      " 4   power               1415 non-null   object\n",
      " 5   fuel_type           1415 non-null   object\n",
      " 6   transmission        1415 non-null   object\n",
      " 7   construction_year   1415 non-null   int64 \n",
      " 8   first_registration  1415 non-null   object\n",
      " 9   num_seats           1415 non-null   int64 \n",
      " 10  num_doors           1415 non-null   object\n",
      " 11  emission_class      1415 non-null   object\n",
      " 12  car_type            1415 non-null   object\n",
      " 13  num_owners          1415 non-null   int64 \n",
      " 14  damage              1415 non-null   object\n",
      "dtypes: int64(3), object(12)\n",
      "memory usage: 165.9+ KB\n"
     ]
    }
   ],
   "source": [
    "df.info()"
   ]
  },
  {
   "cell_type": "code",
   "execution_count": 6,
   "id": "74c9c34b-a3c9-4a03-8f8c-a8861a365b0b",
   "metadata": {},
   "outputs": [
    {
     "data": {
      "text/html": [
       "<div>\n",
       "<style scoped>\n",
       "    .dataframe tbody tr th:only-of-type {\n",
       "        vertical-align: middle;\n",
       "    }\n",
       "\n",
       "    .dataframe tbody tr th {\n",
       "        vertical-align: top;\n",
       "    }\n",
       "\n",
       "    .dataframe thead th {\n",
       "        text-align: right;\n",
       "    }\n",
       "</style>\n",
       "<table border=\"1\" class=\"dataframe\">\n",
       "  <thead>\n",
       "    <tr style=\"text-align: right;\">\n",
       "      <th></th>\n",
       "      <th>construction_year</th>\n",
       "      <th>num_seats</th>\n",
       "      <th>num_owners</th>\n",
       "    </tr>\n",
       "  </thead>\n",
       "  <tbody>\n",
       "    <tr>\n",
       "      <th>count</th>\n",
       "      <td>1415.000000</td>\n",
       "      <td>1415.000000</td>\n",
       "      <td>1415.000000</td>\n",
       "    </tr>\n",
       "    <tr>\n",
       "      <th>mean</th>\n",
       "      <td>290.195760</td>\n",
       "      <td>3.371025</td>\n",
       "      <td>0.488339</td>\n",
       "    </tr>\n",
       "    <tr>\n",
       "      <th>std</th>\n",
       "      <td>709.734086</td>\n",
       "      <td>2.756786</td>\n",
       "      <td>1.152317</td>\n",
       "    </tr>\n",
       "    <tr>\n",
       "      <th>min</th>\n",
       "      <td>-1.000000</td>\n",
       "      <td>-1.000000</td>\n",
       "      <td>-1.000000</td>\n",
       "    </tr>\n",
       "    <tr>\n",
       "      <th>25%</th>\n",
       "      <td>-1.000000</td>\n",
       "      <td>-1.000000</td>\n",
       "      <td>-1.000000</td>\n",
       "    </tr>\n",
       "    <tr>\n",
       "      <th>50%</th>\n",
       "      <td>-1.000000</td>\n",
       "      <td>5.000000</td>\n",
       "      <td>1.000000</td>\n",
       "    </tr>\n",
       "    <tr>\n",
       "      <th>75%</th>\n",
       "      <td>-1.000000</td>\n",
       "      <td>5.000000</td>\n",
       "      <td>1.000000</td>\n",
       "    </tr>\n",
       "    <tr>\n",
       "      <th>max</th>\n",
       "      <td>2021.000000</td>\n",
       "      <td>9.000000</td>\n",
       "      <td>10.000000</td>\n",
       "    </tr>\n",
       "  </tbody>\n",
       "</table>\n",
       "</div>"
      ],
      "text/plain": [
       "       construction_year    num_seats   num_owners\n",
       "count        1415.000000  1415.000000  1415.000000\n",
       "mean          290.195760     3.371025     0.488339\n",
       "std           709.734086     2.756786     1.152317\n",
       "min            -1.000000    -1.000000    -1.000000\n",
       "25%            -1.000000    -1.000000    -1.000000\n",
       "50%            -1.000000     5.000000     1.000000\n",
       "75%            -1.000000     5.000000     1.000000\n",
       "max          2021.000000     9.000000    10.000000"
      ]
     },
     "execution_count": 6,
     "metadata": {},
     "output_type": "execute_result"
    }
   ],
   "source": [
    "df.describe() # liefert hier noch wenig Erkenntnisse, da die Daten noch nicht in der richtigen Form vorliegen"
   ]
  },
  {
   "cell_type": "markdown",
   "id": "50fdc05a",
   "metadata": {},
   "source": [
    "### Clean Column \"price\""
   ]
  },
  {
   "cell_type": "code",
   "execution_count": 7,
   "id": "96d0b5e5",
   "metadata": {},
   "outputs": [
    {
     "data": {
      "text/plain": [
       "0       16.950 € (Brutto)\n",
       "1       60.490 € (Brutto)\n",
       "2       24.990 € (Brutto)\n",
       "3                  129900\n",
       "4                   79990\n",
       "              ...        \n",
       "1410    66.500 € (Brutto)\n",
       "1411    42.849 € (Brutto)\n",
       "1412    54.849 € (Brutto)\n",
       "1413    46.849 € (Brutto)\n",
       "1414    49.849 € (Brutto)\n",
       "Name: price, Length: 1415, dtype: object"
      ]
     },
     "execution_count": 7,
     "metadata": {},
     "output_type": "execute_result"
    }
   ],
   "source": [
    "df.price"
   ]
  },
  {
   "cell_type": "code",
   "execution_count": 8,
   "id": "a7d4fb76",
   "metadata": {},
   "outputs": [
    {
     "data": {
      "text/plain": [
       "<class 'str'>    757\n",
       "<class 'int'>    658\n",
       "Name: price, dtype: int64"
      ]
     },
     "execution_count": 8,
     "metadata": {},
     "output_type": "execute_result"
    }
   ],
   "source": [
    "# Zwei Datentypen (int, str) in der Spalte \"price\"\n",
    "df.price.apply(type).value_counts()"
   ]
  },
  {
   "cell_type": "code",
   "execution_count": 9,
   "id": "cd367667",
   "metadata": {},
   "outputs": [],
   "source": [
    "df_str = df[df.price.apply(type) == str]\n",
    "df_int = df[df.price.apply(type) == int]"
   ]
  },
  {
   "cell_type": "code",
   "execution_count": 10,
   "id": "ec5cbbca",
   "metadata": {},
   "outputs": [
    {
     "name": "stderr",
     "output_type": "stream",
     "text": [
      "<ipython-input-10-842851fea67b>:2: SettingWithCopyWarning: \n",
      "A value is trying to be set on a copy of a slice from a DataFrame.\n",
      "Try using .loc[row_indexer,col_indexer] = value instead\n",
      "\n",
      "See the caveats in the documentation: https://pandas.pydata.org/pandas-docs/stable/user_guide/indexing.html#returning-a-view-versus-a-copy\n",
      "  df_str['price'] = df_str['price'].apply(lambda x: float(x.lower().replace('(brutto)', '').replace('.','').replace('€','')))\n",
      "/Users/cenkyagkan/opt/anaconda3/lib/python3.8/site-packages/pandas/core/generic.py:5516: SettingWithCopyWarning: \n",
      "A value is trying to be set on a copy of a slice from a DataFrame.\n",
      "Try using .loc[row_indexer,col_indexer] = value instead\n",
      "\n",
      "See the caveats in the documentation: https://pandas.pydata.org/pandas-docs/stable/user_guide/indexing.html#returning-a-view-versus-a-copy\n",
      "  self[name] = value\n"
     ]
    }
   ],
   "source": [
    "# Entfernen von ., € und Brutto\n",
    "df_str['price'] = df_str['price'].apply(lambda x: float(x.lower().replace('(brutto)', '').replace('.','').replace('€','')))\n",
    "df_int.price = df_int.price.astype(float)\n",
    "df_new = pd.concat([df_str, df_int], axis=0)"
   ]
  },
  {
   "cell_type": "code",
   "execution_count": 11,
   "id": "cbf1d899-8d32-462b-af93-9588eac318b5",
   "metadata": {},
   "outputs": [
    {
     "data": {
      "text/plain": [
       "<class 'float'>    1415\n",
       "Name: price, dtype: int64"
      ]
     },
     "execution_count": 11,
     "metadata": {},
     "output_type": "execute_result"
    }
   ],
   "source": [
    "df_new.price.apply(type).value_counts()"
   ]
  },
  {
   "cell_type": "code",
   "execution_count": 12,
   "id": "ea836693",
   "metadata": {},
   "outputs": [
    {
     "data": {
      "text/plain": [
       "<AxesSubplot:xlabel='price', ylabel='Count'>"
      ]
     },
     "execution_count": 12,
     "metadata": {},
     "output_type": "execute_result"
    },
    {
     "data": {
      "image/png": "[encoded data removed]",
      "text/plain": [
       "<Figure size 432x288 with 1 Axes>"
      ]
     },
     "metadata": {
      "needs_background": "light"
     },
     "output_type": "display_data"
    }
   ],
   "source": [
    "sns.histplot(data=df_new, x=\"price\")"
   ]
  },
  {
   "cell_type": "markdown",
   "id": "030faa34",
   "metadata": {},
   "source": [
    "### Create Modelname from Carname"
   ]
  },
  {
   "cell_type": "code",
   "execution_count": 13,
   "id": "51d94488",
   "metadata": {},
   "outputs": [],
   "source": [
    "def make_car_model(x):\n",
    "    xl = x.lower()\n",
    "    if 'a-klasse' in xl or 'a klasse' in xl or ' A ' in x or 'A1' in x or 'A2' in x or 'A4' in x:\n",
    "        return 'A-Klasse'\n",
    "    \n",
    "    elif 'b-klasse' in xl or 'b klasse' in xl or ' B ' in x or 'B1' in x or 'B2' in x:\n",
    "        return 'B-Klasse'\n",
    "    \n",
    "    elif 'c-klasse' in xl or 'c klasse' in xl or ' c ' in xl or 'c1' in xl or 'c2' in xl or 'c3' in xl:\n",
    "        return 'C-Klasse'\n",
    "    \n",
    "    elif 'e-klasse' in xl or 'e klasse' in xl or ' E ' in x or 'e2' in xl or 'e3' in xl:\n",
    "        return 'E-Klasse'\n",
    "    \n",
    "    elif 's-klasse' in xl or 's klasse' in xl or ' S ' in x:\n",
    "        return 'S-Klasse'\n",
    "    \n",
    "    elif 'g-klasse' in xl or 'g klasse' in xl or ' G ' in x:\n",
    "        return 'G-Klasse'\n",
    "    \n",
    "    elif 'm-klasse' in xl or 'm klasse' in xl or 'ML' in x or 'ml' in xl:\n",
    "        return 'M-Klasse'\n",
    "    \n",
    "    elif 'x-klasse' in xl or 'x klasse' in xl:\n",
    "        return 'X-Klasse'\n",
    "    \n",
    "    elif 'r-klasse' in xl or 'r klasse' in xl or ' r ' in xl:\n",
    "        return 'R-Klasse'\n",
    "    \n",
    "    elif 'v-klasse' in xl or 'v klasse' in xl or ' v ' in xl or 'viano' in xl:\n",
    "        return 'V-Klasse'\n",
    "    \n",
    "    elif 'marco polo' in xl or 'marco' in xl or 'polo' in xl:\n",
    "        return 'MarcoPolo'\n",
    "    \n",
    "    elif 'cla' in xl:\n",
    "        return 'CLA'\n",
    "    \n",
    "    elif 'clc' in xl:\n",
    "        return 'CLC'\n",
    "    \n",
    "    elif 'clk' in xl:\n",
    "        return 'CLK'\n",
    "    \n",
    "    elif 'cl' in xl:\n",
    "        return 'CL'\n",
    "    \n",
    "    elif 'cls' in xl:\n",
    "        return 'CLS'\n",
    "    \n",
    "    elif 'sl' in xl:\n",
    "        return 'SL'\n",
    "    \n",
    "    elif 'slc' in xl:\n",
    "        return 'SLC'\n",
    "    \n",
    "    elif 'slk' in xl:\n",
    "        return 'SLK'\n",
    "    \n",
    "    elif 'slr' in xl:\n",
    "        return 'SLR'\n",
    "    \n",
    "    elif 'sls' in xl:\n",
    "        return 'SLS'\n",
    "    \n",
    "    elif 'gla' in xl:\n",
    "        return 'GLA'\n",
    "    \n",
    "    elif 'glb' in xl:\n",
    "        return 'GLB'\n",
    "    \n",
    "    elif 'glc' in xl:\n",
    "        return 'GLC'\n",
    "    \n",
    "    elif 'glk' in xl:\n",
    "        return 'GLK'\n",
    "    \n",
    "    elif 'gle' in xl:\n",
    "        return 'GLE'\n",
    "    \n",
    "    elif 'gls' in xl:\n",
    "        return 'GLS'\n",
    "    \n",
    "    elif 'gl' in xl:\n",
    "        return 'GL'\n",
    "    \n",
    "    elif 'GT' in x:\n",
    "        return 'GT'\n",
    "    \n",
    "    elif 'vaneo' in xl or 'citan' in xl:\n",
    "        return 'Vaneo'\n",
    "    \n",
    "    elif 'vito' in xl:\n",
    "        return 'Vito'\n",
    "    \n",
    "    elif 'sprinter' in xl:\n",
    "        return 'Sprinter'\n",
    "    \n",
    "    else:\n",
    "        return 'OTHER'"
   ]
  },
  {
   "cell_type": "code",
   "execution_count": 14,
   "id": "443be1f6",
   "metadata": {},
   "outputs": [],
   "source": [
    "df_new.carname.apply(type).value_counts()\n",
    "df_new[df_new.carname.apply(type) == int]\n",
    "df_new = df_new.drop(660)"
   ]
  },
  {
   "cell_type": "code",
   "execution_count": 15,
   "id": "6804fc9c",
   "metadata": {},
   "outputs": [],
   "source": [
    "df_new['Model'] = df_new['carname'].apply(make_car_model)"
   ]
  },
  {
   "cell_type": "code",
   "execution_count": 16,
   "id": "edb972de-e8d9-406e-b016-0fffd5a36a3f",
   "metadata": {},
   "outputs": [
    {
     "data": {
      "text/plain": [
       "C-Klasse     259\n",
       "E-Klasse     237\n",
       "A-Klasse     120\n",
       "GLC          115\n",
       "CLA           91\n",
       "OTHER         81\n",
       "Vito          70\n",
       "Sprinter      60\n",
       "GLE           60\n",
       "V-Klasse      58\n",
       "S-Klasse      54\n",
       "B-Klasse      49\n",
       "GLA           39\n",
       "CL            29\n",
       "GT            17\n",
       "G-Klasse      16\n",
       "GLB           15\n",
       "Vaneo         15\n",
       "GLS           12\n",
       "MarcoPolo      6\n",
       "M-Klasse       4\n",
       "SL             2\n",
       "CLC            2\n",
       "GL             1\n",
       "CLK            1\n",
       "R-Klasse       1\n",
       "Name: Model, dtype: int64"
      ]
     },
     "execution_count": 16,
     "metadata": {},
     "output_type": "execute_result"
    }
   ],
   "source": [
    "df_new.Model.value_counts()"
   ]
  },
  {
   "cell_type": "code",
   "execution_count": 17,
   "id": "72cc07c3",
   "metadata": {},
   "outputs": [
    {
     "data": {
      "text/html": [
       "<div>\n",
       "<style scoped>\n",
       "    .dataframe tbody tr th:only-of-type {\n",
       "        vertical-align: middle;\n",
       "    }\n",
       "\n",
       "    .dataframe tbody tr th {\n",
       "        vertical-align: top;\n",
       "    }\n",
       "\n",
       "    .dataframe thead th {\n",
       "        text-align: right;\n",
       "    }\n",
       "</style>\n",
       "<table border=\"1\" class=\"dataframe\">\n",
       "  <thead>\n",
       "    <tr style=\"text-align: right;\">\n",
       "      <th></th>\n",
       "      <th>carname</th>\n",
       "      <th>price</th>\n",
       "      <th>milage</th>\n",
       "      <th>hubraum</th>\n",
       "      <th>power</th>\n",
       "      <th>fuel_type</th>\n",
       "      <th>transmission</th>\n",
       "      <th>construction_year</th>\n",
       "      <th>first_registration</th>\n",
       "      <th>num_seats</th>\n",
       "      <th>num_doors</th>\n",
       "      <th>emission_class</th>\n",
       "      <th>car_type</th>\n",
       "      <th>num_owners</th>\n",
       "      <th>damage</th>\n",
       "      <th>Model</th>\n",
       "    </tr>\n",
       "  </thead>\n",
       "  <tbody>\n",
       "    <tr>\n",
       "      <th>0</th>\n",
       "      <td>Mercedes-Benz Sprinter II Kasten 214 CDI Klima...</td>\n",
       "      <td>16950.0</td>\n",
       "      <td>198.245 km</td>\n",
       "      <td>2.143 cm³</td>\n",
       "      <td>105 kW (143 PS)</td>\n",
       "      <td>Diesel</td>\n",
       "      <td>Schaltgetriebe</td>\n",
       "      <td>-1</td>\n",
       "      <td>07/2017</td>\n",
       "      <td>3</td>\n",
       "      <td>4/5</td>\n",
       "      <td>Euro6</td>\n",
       "      <td>Van / Minibus</td>\n",
       "      <td>1</td>\n",
       "      <td>Unfallfrei</td>\n",
       "      <td>Sprinter</td>\n",
       "    </tr>\n",
       "    <tr>\n",
       "      <th>1</th>\n",
       "      <td>Mercedes-Benz GLB 220 d 4M Progressive AHK Dis...</td>\n",
       "      <td>60490.0</td>\n",
       "      <td>10.529 km</td>\n",
       "      <td>1.950 cm³</td>\n",
       "      <td>140 kW (190 PS)</td>\n",
       "      <td>Diesel</td>\n",
       "      <td>Automatik</td>\n",
       "      <td>-1</td>\n",
       "      <td>05/2020</td>\n",
       "      <td>5</td>\n",
       "      <td>4/5</td>\n",
       "      <td>Euro6d</td>\n",
       "      <td>SUV / Geländewagen / Pickup</td>\n",
       "      <td>1</td>\n",
       "      <td>Unfallfrei</td>\n",
       "      <td>GLB</td>\n",
       "    </tr>\n",
       "    <tr>\n",
       "      <th>2</th>\n",
       "      <td>Mercedes-Benz A 200 7G*1.HAND*LED*NAVI*LEDER*K...</td>\n",
       "      <td>24990.0</td>\n",
       "      <td>91.205 km</td>\n",
       "      <td>1.332 cm³</td>\n",
       "      <td>100 kW (136 PS)</td>\n",
       "      <td>Benzin</td>\n",
       "      <td>Automatik</td>\n",
       "      <td>-1</td>\n",
       "      <td>04/2019</td>\n",
       "      <td>5</td>\n",
       "      <td>4/5</td>\n",
       "      <td>Euro6d-TEMP</td>\n",
       "      <td>Limousine</td>\n",
       "      <td>1</td>\n",
       "      <td>-1</td>\n",
       "      <td>A-Klasse</td>\n",
       "    </tr>\n",
       "    <tr>\n",
       "      <th>5</th>\n",
       "      <td>Mercedes-Benz C 180 *CABRIO*AMG LINE*9G*2.HAND...</td>\n",
       "      <td>31990.0</td>\n",
       "      <td>84.925 km</td>\n",
       "      <td>1.595 cm³</td>\n",
       "      <td>115 kW (156 PS)</td>\n",
       "      <td>Benzin</td>\n",
       "      <td>Automatik</td>\n",
       "      <td>-1</td>\n",
       "      <td>01/2017</td>\n",
       "      <td>4</td>\n",
       "      <td>2/3</td>\n",
       "      <td>Euro6</td>\n",
       "      <td>Cabrio / Roadster</td>\n",
       "      <td>2</td>\n",
       "      <td>-1</td>\n",
       "      <td>C-Klasse</td>\n",
       "    </tr>\n",
       "    <tr>\n",
       "      <th>7</th>\n",
       "      <td>Mercedes-Benz A 180 7G*1.HAND*LED*NAVI*LEDER*K...</td>\n",
       "      <td>24990.0</td>\n",
       "      <td>91.205 km</td>\n",
       "      <td>1.332 cm³</td>\n",
       "      <td>100 kW (136 PS)</td>\n",
       "      <td>Benzin</td>\n",
       "      <td>Automatik</td>\n",
       "      <td>-1</td>\n",
       "      <td>04/2019</td>\n",
       "      <td>5</td>\n",
       "      <td>4/5</td>\n",
       "      <td>Euro6d-TEMP</td>\n",
       "      <td>Limousine</td>\n",
       "      <td>1</td>\n",
       "      <td>-1</td>\n",
       "      <td>A-Klasse</td>\n",
       "    </tr>\n",
       "    <tr>\n",
       "      <th>...</th>\n",
       "      <td>...</td>\n",
       "      <td>...</td>\n",
       "      <td>...</td>\n",
       "      <td>...</td>\n",
       "      <td>...</td>\n",
       "      <td>...</td>\n",
       "      <td>...</td>\n",
       "      <td>...</td>\n",
       "      <td>...</td>\n",
       "      <td>...</td>\n",
       "      <td>...</td>\n",
       "      <td>...</td>\n",
       "      <td>...</td>\n",
       "      <td>...</td>\n",
       "      <td>...</td>\n",
       "      <td>...</td>\n",
       "    </tr>\n",
       "    <tr>\n",
       "      <th>1405</th>\n",
       "      <td>Mercedes-Benz S -Klasse Lim. S 350 d L AMG</td>\n",
       "      <td>44500.0</td>\n",
       "      <td>115.000 km</td>\n",
       "      <td>-1</td>\n",
       "      <td>295 kW (401 PS)</td>\n",
       "      <td>Benzin</td>\n",
       "      <td>Automatik</td>\n",
       "      <td>-1</td>\n",
       "      <td>08/2017</td>\n",
       "      <td>-1</td>\n",
       "      <td>-1</td>\n",
       "      <td>-1</td>\n",
       "      <td>Limousine</td>\n",
       "      <td>-1</td>\n",
       "      <td>-1</td>\n",
       "      <td>S-Klasse</td>\n",
       "    </tr>\n",
       "    <tr>\n",
       "      <th>1406</th>\n",
       "      <td>Mercedes-Benz Vito 119 CDI Tourer Select 4-Mat...</td>\n",
       "      <td>36000.0</td>\n",
       "      <td>66.000 km</td>\n",
       "      <td>-1</td>\n",
       "      <td>280 kW (381 PS)</td>\n",
       "      <td>Benzin</td>\n",
       "      <td>Automatik</td>\n",
       "      <td>-1</td>\n",
       "      <td>05/2017</td>\n",
       "      <td>-1</td>\n",
       "      <td>-1</td>\n",
       "      <td>-1</td>\n",
       "      <td>Sportwagen / Coupé</td>\n",
       "      <td>-1</td>\n",
       "      <td>-1</td>\n",
       "      <td>Vito</td>\n",
       "    </tr>\n",
       "    <tr>\n",
       "      <th>1407</th>\n",
       "      <td>Mercedes-Benz Vito Tourer 116 CDI Lang BlueTEC...</td>\n",
       "      <td>33900.0</td>\n",
       "      <td>35.000 km</td>\n",
       "      <td>-1</td>\n",
       "      <td>143 kW (194 PS)</td>\n",
       "      <td>Diesel</td>\n",
       "      <td>Automatik</td>\n",
       "      <td>-1</td>\n",
       "      <td>07/2017</td>\n",
       "      <td>-1</td>\n",
       "      <td>4/5</td>\n",
       "      <td>Euro6d</td>\n",
       "      <td>Limousine</td>\n",
       "      <td>1</td>\n",
       "      <td>Unfallfrei</td>\n",
       "      <td>Vito</td>\n",
       "    </tr>\n",
       "    <tr>\n",
       "      <th>1408</th>\n",
       "      <td>Mercedes-Benz AMG GT 63 S 4Matic+</td>\n",
       "      <td>78000.0</td>\n",
       "      <td>55.000 km</td>\n",
       "      <td>3.982 cm³</td>\n",
       "      <td>350 kW (476 PS)</td>\n",
       "      <td>Benzin, E10-geeignet</td>\n",
       "      <td>Automatik</td>\n",
       "      <td>-1</td>\n",
       "      <td>07/2017</td>\n",
       "      <td>2</td>\n",
       "      <td>2/3</td>\n",
       "      <td>Euro6c</td>\n",
       "      <td>Sportwagen / Coupé</td>\n",
       "      <td>1</td>\n",
       "      <td>-1</td>\n",
       "      <td>S-Klasse</td>\n",
       "    </tr>\n",
       "    <tr>\n",
       "      <th>1409</th>\n",
       "      <td>Mercedes-Benz Vito Marco Polo 220d Activity Ed...</td>\n",
       "      <td>22400.0</td>\n",
       "      <td>67.500 km</td>\n",
       "      <td>-1</td>\n",
       "      <td>130 kW (177 PS)</td>\n",
       "      <td>Diesel</td>\n",
       "      <td>Automatik</td>\n",
       "      <td>-1</td>\n",
       "      <td>03/2017</td>\n",
       "      <td>5</td>\n",
       "      <td>4/5</td>\n",
       "      <td>Euro6</td>\n",
       "      <td>Kombi</td>\n",
       "      <td>1</td>\n",
       "      <td>Unfallfrei</td>\n",
       "      <td>MarcoPolo</td>\n",
       "    </tr>\n",
       "  </tbody>\n",
       "</table>\n",
       "<p>1414 rows × 16 columns</p>\n",
       "</div>"
      ],
      "text/plain": [
       "                                                carname    price      milage  \\\n",
       "0     Mercedes-Benz Sprinter II Kasten 214 CDI Klima...  16950.0  198.245 km   \n",
       "1     Mercedes-Benz GLB 220 d 4M Progressive AHK Dis...  60490.0   10.529 km   \n",
       "2     Mercedes-Benz A 200 7G*1.HAND*LED*NAVI*LEDER*K...  24990.0   91.205 km   \n",
       "5     Mercedes-Benz C 180 *CABRIO*AMG LINE*9G*2.HAND...  31990.0   84.925 km   \n",
       "7     Mercedes-Benz A 180 7G*1.HAND*LED*NAVI*LEDER*K...  24990.0   91.205 km   \n",
       "...                                                 ...      ...         ...   \n",
       "1405         Mercedes-Benz S -Klasse Lim. S 350 d L AMG  44500.0  115.000 km   \n",
       "1406  Mercedes-Benz Vito 119 CDI Tourer Select 4-Mat...  36000.0   66.000 km   \n",
       "1407  Mercedes-Benz Vito Tourer 116 CDI Lang BlueTEC...  33900.0   35.000 km   \n",
       "1408                  Mercedes-Benz AMG GT 63 S 4Matic+  78000.0   55.000 km   \n",
       "1409  Mercedes-Benz Vito Marco Polo 220d Activity Ed...  22400.0   67.500 km   \n",
       "\n",
       "        hubraum            power             fuel_type    transmission  \\\n",
       "0     2.143 cm³  105 kW (143 PS)                Diesel  Schaltgetriebe   \n",
       "1     1.950 cm³  140 kW (190 PS)                Diesel       Automatik   \n",
       "2     1.332 cm³  100 kW (136 PS)                Benzin       Automatik   \n",
       "5     1.595 cm³  115 kW (156 PS)                Benzin       Automatik   \n",
       "7     1.332 cm³  100 kW (136 PS)                Benzin       Automatik   \n",
       "...         ...              ...                   ...             ...   \n",
       "1405         -1  295 kW (401 PS)                Benzin       Automatik   \n",
       "1406         -1  280 kW (381 PS)                Benzin       Automatik   \n",
       "1407         -1  143 kW (194 PS)                Diesel       Automatik   \n",
       "1408  3.982 cm³  350 kW (476 PS)  Benzin, E10-geeignet       Automatik   \n",
       "1409         -1  130 kW (177 PS)                Diesel       Automatik   \n",
       "\n",
       "      construction_year first_registration  num_seats num_doors  \\\n",
       "0                    -1            07/2017          3       4/5   \n",
       "1                    -1            05/2020          5       4/5   \n",
       "2                    -1            04/2019          5       4/5   \n",
       "5                    -1            01/2017          4       2/3   \n",
       "7                    -1            04/2019          5       4/5   \n",
       "...                 ...                ...        ...       ...   \n",
       "1405                 -1            08/2017         -1        -1   \n",
       "1406                 -1            05/2017         -1        -1   \n",
       "1407                 -1            07/2017         -1       4/5   \n",
       "1408                 -1            07/2017          2       2/3   \n",
       "1409                 -1            03/2017          5       4/5   \n",
       "\n",
       "     emission_class                     car_type  num_owners      damage  \\\n",
       "0             Euro6                Van / Minibus           1  Unfallfrei   \n",
       "1            Euro6d  SUV / Geländewagen / Pickup           1  Unfallfrei   \n",
       "2       Euro6d-TEMP                    Limousine           1          -1   \n",
       "5             Euro6            Cabrio / Roadster           2          -1   \n",
       "7       Euro6d-TEMP                    Limousine           1          -1   \n",
       "...             ...                          ...         ...         ...   \n",
       "1405             -1                    Limousine          -1          -1   \n",
       "1406             -1           Sportwagen / Coupé          -1          -1   \n",
       "1407         Euro6d                    Limousine           1  Unfallfrei   \n",
       "1408         Euro6c           Sportwagen / Coupé           1          -1   \n",
       "1409          Euro6                        Kombi           1  Unfallfrei   \n",
       "\n",
       "          Model  \n",
       "0      Sprinter  \n",
       "1           GLB  \n",
       "2      A-Klasse  \n",
       "5      C-Klasse  \n",
       "7      A-Klasse  \n",
       "...         ...  \n",
       "1405   S-Klasse  \n",
       "1406       Vito  \n",
       "1407       Vito  \n",
       "1408   S-Klasse  \n",
       "1409  MarcoPolo  \n",
       "\n",
       "[1414 rows x 16 columns]"
      ]
     },
     "execution_count": 17,
     "metadata": {},
     "output_type": "execute_result"
    }
   ],
   "source": [
    "df_new"
   ]
  },
  {
   "cell_type": "markdown",
   "id": "40dbcb64",
   "metadata": {},
   "source": [
    "### Clean column \"milage\""
   ]
  },
  {
   "cell_type": "code",
   "execution_count": 18,
   "id": "6b239ce7",
   "metadata": {},
   "outputs": [],
   "source": [
    "df_new['milage'] = df_new['milage'].apply(lambda x: float(x.lower().replace('km', '').replace('.','')))"
   ]
  },
  {
   "cell_type": "code",
   "execution_count": 19,
   "id": "656c035e-e123-47eb-ab65-f7736fd12c7d",
   "metadata": {},
   "outputs": [
    {
     "data": {
      "text/plain": [
       "<AxesSubplot:xlabel='milage', ylabel='Count'>"
      ]
     },
     "execution_count": 19,
     "metadata": {},
     "output_type": "execute_result"
    },
    {
     "data": {
      "image/png": "[encoded data removed]",
      "text/plain": [
       "<Figure size 432x288 with 1 Axes>"
      ]
     },
     "metadata": {
      "needs_background": "light"
     },
     "output_type": "display_data"
    }
   ],
   "source": [
    "sns.histplot(data=df_new, x=\"milage\")"
   ]
  },
  {
   "cell_type": "markdown",
   "id": "54a1e8f1",
   "metadata": {},
   "source": [
    "### Clean column \"hubraum\""
   ]
  },
  {
   "cell_type": "code",
   "execution_count": 20,
   "id": "d313cb28",
   "metadata": {},
   "outputs": [],
   "source": [
    "df_str = df_new[df_new.hubraum.apply(type) == str]\n",
    "df_int = df_new[df_new.hubraum.apply(type) == int]"
   ]
  },
  {
   "cell_type": "code",
   "execution_count": 21,
   "id": "31b8ce63",
   "metadata": {},
   "outputs": [
    {
     "name": "stderr",
     "output_type": "stream",
     "text": [
      "<ipython-input-21-d1240cbb6fbc>:1: SettingWithCopyWarning: \n",
      "A value is trying to be set on a copy of a slice from a DataFrame.\n",
      "Try using .loc[row_indexer,col_indexer] = value instead\n",
      "\n",
      "See the caveats in the documentation: https://pandas.pydata.org/pandas-docs/stable/user_guide/indexing.html#returning-a-view-versus-a-copy\n",
      "  df_int['hubraum'] = df_int['hubraum'].replace(-1, np.nan)\n",
      "<ipython-input-21-d1240cbb6fbc>:2: SettingWithCopyWarning: \n",
      "A value is trying to be set on a copy of a slice from a DataFrame.\n",
      "Try using .loc[row_indexer,col_indexer] = value instead\n",
      "\n",
      "See the caveats in the documentation: https://pandas.pydata.org/pandas-docs/stable/user_guide/indexing.html#returning-a-view-versus-a-copy\n",
      "  df_str['hubraum'] = df_str['hubraum'].str.replace(' cm³', '')\n",
      "<ipython-input-21-d1240cbb6fbc>:3: SettingWithCopyWarning: \n",
      "A value is trying to be set on a copy of a slice from a DataFrame.\n",
      "Try using .loc[row_indexer,col_indexer] = value instead\n",
      "\n",
      "See the caveats in the documentation: https://pandas.pydata.org/pandas-docs/stable/user_guide/indexing.html#returning-a-view-versus-a-copy\n",
      "  df_str['hubraum'] = df_str['hubraum'].astype(float)\n"
     ]
    }
   ],
   "source": [
    "df_int['hubraum'] = df_int['hubraum'].replace(-1, np.nan)\n",
    "df_str['hubraum'] = df_str['hubraum'].str.replace(' cm³', '')\n",
    "df_str['hubraum'] = df_str['hubraum'].astype(float)\n",
    "df_new = pd.concat([df_str, df_int], axis=0)"
   ]
  },
  {
   "cell_type": "code",
   "execution_count": 22,
   "id": "406a11f3-e6d7-4705-8780-d2222bfc9a18",
   "metadata": {},
   "outputs": [
    {
     "data": {
      "text/plain": [
       "<AxesSubplot:xlabel='hubraum', ylabel='count'>"
      ]
     },
     "execution_count": 22,
     "metadata": {},
     "output_type": "execute_result"
    },
    {
     "data": {
      "image/png": "[encoded data removed]",
      "text/plain": [
       "<Figure size 842.4x595.44 with 1 Axes>"
      ]
     },
     "metadata": {},
     "output_type": "display_data"
    }
   ],
   "source": [
    "sns.set(rc={'figure.figsize':(11.7,8.27)})\n",
    "sns.countplot(data=df_new, x=\"hubraum\")"
   ]
  },
  {
   "cell_type": "code",
   "execution_count": 23,
   "id": "5c2dd164",
   "metadata": {},
   "outputs": [
    {
     "data": {
      "text/html": [
       "<div>\n",
       "<style scoped>\n",
       "    .dataframe tbody tr th:only-of-type {\n",
       "        vertical-align: middle;\n",
       "    }\n",
       "\n",
       "    .dataframe tbody tr th {\n",
       "        vertical-align: top;\n",
       "    }\n",
       "\n",
       "    .dataframe thead th {\n",
       "        text-align: right;\n",
       "    }\n",
       "</style>\n",
       "<table border=\"1\" class=\"dataframe\">\n",
       "  <thead>\n",
       "    <tr style=\"text-align: right;\">\n",
       "      <th></th>\n",
       "      <th>carname</th>\n",
       "      <th>price</th>\n",
       "      <th>milage</th>\n",
       "      <th>hubraum</th>\n",
       "      <th>power</th>\n",
       "      <th>fuel_type</th>\n",
       "      <th>transmission</th>\n",
       "      <th>construction_year</th>\n",
       "      <th>first_registration</th>\n",
       "      <th>num_seats</th>\n",
       "      <th>num_doors</th>\n",
       "      <th>emission_class</th>\n",
       "      <th>car_type</th>\n",
       "      <th>num_owners</th>\n",
       "      <th>damage</th>\n",
       "      <th>Model</th>\n",
       "    </tr>\n",
       "  </thead>\n",
       "  <tbody>\n",
       "    <tr>\n",
       "      <th>0</th>\n",
       "      <td>Mercedes-Benz Sprinter II Kasten 214 CDI Klima...</td>\n",
       "      <td>16950.0</td>\n",
       "      <td>198245.0</td>\n",
       "      <td>2.143</td>\n",
       "      <td>105 kW (143 PS)</td>\n",
       "      <td>Diesel</td>\n",
       "      <td>Schaltgetriebe</td>\n",
       "      <td>-1</td>\n",
       "      <td>07/2017</td>\n",
       "      <td>3</td>\n",
       "      <td>4/5</td>\n",
       "      <td>Euro6</td>\n",
       "      <td>Van / Minibus</td>\n",
       "      <td>1</td>\n",
       "      <td>Unfallfrei</td>\n",
       "      <td>Sprinter</td>\n",
       "    </tr>\n",
       "    <tr>\n",
       "      <th>1</th>\n",
       "      <td>Mercedes-Benz GLB 220 d 4M Progressive AHK Dis...</td>\n",
       "      <td>60490.0</td>\n",
       "      <td>10529.0</td>\n",
       "      <td>1.950</td>\n",
       "      <td>140 kW (190 PS)</td>\n",
       "      <td>Diesel</td>\n",
       "      <td>Automatik</td>\n",
       "      <td>-1</td>\n",
       "      <td>05/2020</td>\n",
       "      <td>5</td>\n",
       "      <td>4/5</td>\n",
       "      <td>Euro6d</td>\n",
       "      <td>SUV / Geländewagen / Pickup</td>\n",
       "      <td>1</td>\n",
       "      <td>Unfallfrei</td>\n",
       "      <td>GLB</td>\n",
       "    </tr>\n",
       "    <tr>\n",
       "      <th>2</th>\n",
       "      <td>Mercedes-Benz A 200 7G*1.HAND*LED*NAVI*LEDER*K...</td>\n",
       "      <td>24990.0</td>\n",
       "      <td>91205.0</td>\n",
       "      <td>1.332</td>\n",
       "      <td>100 kW (136 PS)</td>\n",
       "      <td>Benzin</td>\n",
       "      <td>Automatik</td>\n",
       "      <td>-1</td>\n",
       "      <td>04/2019</td>\n",
       "      <td>5</td>\n",
       "      <td>4/5</td>\n",
       "      <td>Euro6d-TEMP</td>\n",
       "      <td>Limousine</td>\n",
       "      <td>1</td>\n",
       "      <td>-1</td>\n",
       "      <td>A-Klasse</td>\n",
       "    </tr>\n",
       "    <tr>\n",
       "      <th>5</th>\n",
       "      <td>Mercedes-Benz C 180 *CABRIO*AMG LINE*9G*2.HAND...</td>\n",
       "      <td>31990.0</td>\n",
       "      <td>84925.0</td>\n",
       "      <td>1.595</td>\n",
       "      <td>115 kW (156 PS)</td>\n",
       "      <td>Benzin</td>\n",
       "      <td>Automatik</td>\n",
       "      <td>-1</td>\n",
       "      <td>01/2017</td>\n",
       "      <td>4</td>\n",
       "      <td>2/3</td>\n",
       "      <td>Euro6</td>\n",
       "      <td>Cabrio / Roadster</td>\n",
       "      <td>2</td>\n",
       "      <td>-1</td>\n",
       "      <td>C-Klasse</td>\n",
       "    </tr>\n",
       "    <tr>\n",
       "      <th>7</th>\n",
       "      <td>Mercedes-Benz A 180 7G*1.HAND*LED*NAVI*LEDER*K...</td>\n",
       "      <td>24990.0</td>\n",
       "      <td>91205.0</td>\n",
       "      <td>1.332</td>\n",
       "      <td>100 kW (136 PS)</td>\n",
       "      <td>Benzin</td>\n",
       "      <td>Automatik</td>\n",
       "      <td>-1</td>\n",
       "      <td>04/2019</td>\n",
       "      <td>5</td>\n",
       "      <td>4/5</td>\n",
       "      <td>Euro6d-TEMP</td>\n",
       "      <td>Limousine</td>\n",
       "      <td>1</td>\n",
       "      <td>-1</td>\n",
       "      <td>A-Klasse</td>\n",
       "    </tr>\n",
       "    <tr>\n",
       "      <th>...</th>\n",
       "      <td>...</td>\n",
       "      <td>...</td>\n",
       "      <td>...</td>\n",
       "      <td>...</td>\n",
       "      <td>...</td>\n",
       "      <td>...</td>\n",
       "      <td>...</td>\n",
       "      <td>...</td>\n",
       "      <td>...</td>\n",
       "      <td>...</td>\n",
       "      <td>...</td>\n",
       "      <td>...</td>\n",
       "      <td>...</td>\n",
       "      <td>...</td>\n",
       "      <td>...</td>\n",
       "      <td>...</td>\n",
       "    </tr>\n",
       "    <tr>\n",
       "      <th>1401</th>\n",
       "      <td>Mercedes-Benz S 500 4M Lim lang AMG Nightp. PD...</td>\n",
       "      <td>15500.0</td>\n",
       "      <td>375000.0</td>\n",
       "      <td>NaN</td>\n",
       "      <td>110 kW (150 PS)</td>\n",
       "      <td>Diesel</td>\n",
       "      <td>Automatik</td>\n",
       "      <td>-1</td>\n",
       "      <td>02/2017</td>\n",
       "      <td>-1</td>\n",
       "      <td>-1</td>\n",
       "      <td>-1</td>\n",
       "      <td>Limousine</td>\n",
       "      <td>-1</td>\n",
       "      <td>-1</td>\n",
       "      <td>S-Klasse</td>\n",
       "    </tr>\n",
       "    <tr>\n",
       "      <th>1405</th>\n",
       "      <td>Mercedes-Benz S -Klasse Lim. S 350 d L AMG</td>\n",
       "      <td>44500.0</td>\n",
       "      <td>115000.0</td>\n",
       "      <td>NaN</td>\n",
       "      <td>295 kW (401 PS)</td>\n",
       "      <td>Benzin</td>\n",
       "      <td>Automatik</td>\n",
       "      <td>-1</td>\n",
       "      <td>08/2017</td>\n",
       "      <td>-1</td>\n",
       "      <td>-1</td>\n",
       "      <td>-1</td>\n",
       "      <td>Limousine</td>\n",
       "      <td>-1</td>\n",
       "      <td>-1</td>\n",
       "      <td>S-Klasse</td>\n",
       "    </tr>\n",
       "    <tr>\n",
       "      <th>1406</th>\n",
       "      <td>Mercedes-Benz Vito 119 CDI Tourer Select 4-Mat...</td>\n",
       "      <td>36000.0</td>\n",
       "      <td>66000.0</td>\n",
       "      <td>NaN</td>\n",
       "      <td>280 kW (381 PS)</td>\n",
       "      <td>Benzin</td>\n",
       "      <td>Automatik</td>\n",
       "      <td>-1</td>\n",
       "      <td>05/2017</td>\n",
       "      <td>-1</td>\n",
       "      <td>-1</td>\n",
       "      <td>-1</td>\n",
       "      <td>Sportwagen / Coupé</td>\n",
       "      <td>-1</td>\n",
       "      <td>-1</td>\n",
       "      <td>Vito</td>\n",
       "    </tr>\n",
       "    <tr>\n",
       "      <th>1407</th>\n",
       "      <td>Mercedes-Benz Vito Tourer 116 CDI Lang BlueTEC...</td>\n",
       "      <td>33900.0</td>\n",
       "      <td>35000.0</td>\n",
       "      <td>NaN</td>\n",
       "      <td>143 kW (194 PS)</td>\n",
       "      <td>Diesel</td>\n",
       "      <td>Automatik</td>\n",
       "      <td>-1</td>\n",
       "      <td>07/2017</td>\n",
       "      <td>-1</td>\n",
       "      <td>4/5</td>\n",
       "      <td>Euro6d</td>\n",
       "      <td>Limousine</td>\n",
       "      <td>1</td>\n",
       "      <td>Unfallfrei</td>\n",
       "      <td>Vito</td>\n",
       "    </tr>\n",
       "    <tr>\n",
       "      <th>1409</th>\n",
       "      <td>Mercedes-Benz Vito Marco Polo 220d Activity Ed...</td>\n",
       "      <td>22400.0</td>\n",
       "      <td>67500.0</td>\n",
       "      <td>NaN</td>\n",
       "      <td>130 kW (177 PS)</td>\n",
       "      <td>Diesel</td>\n",
       "      <td>Automatik</td>\n",
       "      <td>-1</td>\n",
       "      <td>03/2017</td>\n",
       "      <td>5</td>\n",
       "      <td>4/5</td>\n",
       "      <td>Euro6</td>\n",
       "      <td>Kombi</td>\n",
       "      <td>1</td>\n",
       "      <td>Unfallfrei</td>\n",
       "      <td>MarcoPolo</td>\n",
       "    </tr>\n",
       "  </tbody>\n",
       "</table>\n",
       "<p>1414 rows × 16 columns</p>\n",
       "</div>"
      ],
      "text/plain": [
       "                                                carname    price    milage  \\\n",
       "0     Mercedes-Benz Sprinter II Kasten 214 CDI Klima...  16950.0  198245.0   \n",
       "1     Mercedes-Benz GLB 220 d 4M Progressive AHK Dis...  60490.0   10529.0   \n",
       "2     Mercedes-Benz A 200 7G*1.HAND*LED*NAVI*LEDER*K...  24990.0   91205.0   \n",
       "5     Mercedes-Benz C 180 *CABRIO*AMG LINE*9G*2.HAND...  31990.0   84925.0   \n",
       "7     Mercedes-Benz A 180 7G*1.HAND*LED*NAVI*LEDER*K...  24990.0   91205.0   \n",
       "...                                                 ...      ...       ...   \n",
       "1401  Mercedes-Benz S 500 4M Lim lang AMG Nightp. PD...  15500.0  375000.0   \n",
       "1405         Mercedes-Benz S -Klasse Lim. S 350 d L AMG  44500.0  115000.0   \n",
       "1406  Mercedes-Benz Vito 119 CDI Tourer Select 4-Mat...  36000.0   66000.0   \n",
       "1407  Mercedes-Benz Vito Tourer 116 CDI Lang BlueTEC...  33900.0   35000.0   \n",
       "1409  Mercedes-Benz Vito Marco Polo 220d Activity Ed...  22400.0   67500.0   \n",
       "\n",
       "      hubraum            power fuel_type    transmission  construction_year  \\\n",
       "0       2.143  105 kW (143 PS)    Diesel  Schaltgetriebe                 -1   \n",
       "1       1.950  140 kW (190 PS)    Diesel       Automatik                 -1   \n",
       "2       1.332  100 kW (136 PS)    Benzin       Automatik                 -1   \n",
       "5       1.595  115 kW (156 PS)    Benzin       Automatik                 -1   \n",
       "7       1.332  100 kW (136 PS)    Benzin       Automatik                 -1   \n",
       "...       ...              ...       ...             ...                ...   \n",
       "1401      NaN  110 kW (150 PS)    Diesel       Automatik                 -1   \n",
       "1405      NaN  295 kW (401 PS)    Benzin       Automatik                 -1   \n",
       "1406      NaN  280 kW (381 PS)    Benzin       Automatik                 -1   \n",
       "1407      NaN  143 kW (194 PS)    Diesel       Automatik                 -1   \n",
       "1409      NaN  130 kW (177 PS)    Diesel       Automatik                 -1   \n",
       "\n",
       "     first_registration  num_seats num_doors emission_class  \\\n",
       "0               07/2017          3       4/5          Euro6   \n",
       "1               05/2020          5       4/5         Euro6d   \n",
       "2               04/2019          5       4/5    Euro6d-TEMP   \n",
       "5               01/2017          4       2/3          Euro6   \n",
       "7               04/2019          5       4/5    Euro6d-TEMP   \n",
       "...                 ...        ...       ...            ...   \n",
       "1401            02/2017         -1        -1             -1   \n",
       "1405            08/2017         -1        -1             -1   \n",
       "1406            05/2017         -1        -1             -1   \n",
       "1407            07/2017         -1       4/5         Euro6d   \n",
       "1409            03/2017          5       4/5          Euro6   \n",
       "\n",
       "                         car_type  num_owners      damage      Model  \n",
       "0                   Van / Minibus           1  Unfallfrei   Sprinter  \n",
       "1     SUV / Geländewagen / Pickup           1  Unfallfrei        GLB  \n",
       "2                       Limousine           1          -1   A-Klasse  \n",
       "5               Cabrio / Roadster           2          -1   C-Klasse  \n",
       "7                       Limousine           1          -1   A-Klasse  \n",
       "...                           ...         ...         ...        ...  \n",
       "1401                    Limousine          -1          -1   S-Klasse  \n",
       "1405                    Limousine          -1          -1   S-Klasse  \n",
       "1406           Sportwagen / Coupé          -1          -1       Vito  \n",
       "1407                    Limousine           1  Unfallfrei       Vito  \n",
       "1409                        Kombi           1  Unfallfrei  MarcoPolo  \n",
       "\n",
       "[1414 rows x 16 columns]"
      ]
     },
     "execution_count": 23,
     "metadata": {},
     "output_type": "execute_result"
    }
   ],
   "source": [
    "df_new"
   ]
  },
  {
   "cell_type": "markdown",
   "id": "d927e6f2",
   "metadata": {},
   "source": [
    "### Clean column power PS"
   ]
  },
  {
   "cell_type": "code",
   "execution_count": 24,
   "id": "7ae1d3fe",
   "metadata": {},
   "outputs": [],
   "source": [
    "df_new.power.apply(type).value_counts()\n",
    "df_new[df_new.power.apply(type) == int]\n",
    "df_new['power'] = df_new['power'].replace(-1, np.nan)\n",
    "df_new['power'] =  df_new['power'].astype(str)"
   ]
  },
  {
   "cell_type": "code",
   "execution_count": 25,
   "id": "e5eef074",
   "metadata": {},
   "outputs": [
    {
     "name": "stdout",
     "output_type": "stream",
     "text": [
      "<class 'pandas.core.frame.DataFrame'>\n",
      "Int64Index: 1414 entries, 0 to 1409\n",
      "Data columns (total 16 columns):\n",
      " #   Column              Non-Null Count  Dtype  \n",
      "---  ------              --------------  -----  \n",
      " 0   carname             1414 non-null   object \n",
      " 1   price               1414 non-null   float64\n",
      " 2   milage              1414 non-null   float64\n",
      " 3   hubraum             1085 non-null   float64\n",
      " 4   power               1414 non-null   object \n",
      " 5   fuel_type           1414 non-null   object \n",
      " 6   transmission        1414 non-null   object \n",
      " 7   construction_year   1414 non-null   int64  \n",
      " 8   first_registration  1414 non-null   object \n",
      " 9   num_seats           1414 non-null   int64  \n",
      " 10  num_doors           1414 non-null   object \n",
      " 11  emission_class      1414 non-null   object \n",
      " 12  car_type            1414 non-null   object \n",
      " 13  num_owners          1414 non-null   int64  \n",
      " 14  damage              1414 non-null   object \n",
      " 15  Model               1414 non-null   object \n",
      "dtypes: float64(3), int64(3), object(10)\n",
      "memory usage: 220.1+ KB\n"
     ]
    },
    {
     "data": {
      "text/plain": [
       "<class 'str'>    1414\n",
       "Name: power, dtype: int64"
      ]
     },
     "execution_count": 25,
     "metadata": {},
     "output_type": "execute_result"
    }
   ],
   "source": [
    "df_new.info()\n",
    "df_new.power.apply(type).value_counts()"
   ]
  },
  {
   "cell_type": "code",
   "execution_count": 26,
   "id": "67e5ad88",
   "metadata": {},
   "outputs": [],
   "source": [
    "# Extract ps from the column power\n",
    "df_new['power_ps'] = df_new['power'].apply(lambda x: x.lower().replace('(', '').split()[2] if x != \"nan\" else None)"
   ]
  },
  {
   "cell_type": "code",
   "execution_count": 27,
   "id": "fd6e3cea",
   "metadata": {},
   "outputs": [
    {
     "data": {
      "text/html": [
       "<div>\n",
       "<style scoped>\n",
       "    .dataframe tbody tr th:only-of-type {\n",
       "        vertical-align: middle;\n",
       "    }\n",
       "\n",
       "    .dataframe tbody tr th {\n",
       "        vertical-align: top;\n",
       "    }\n",
       "\n",
       "    .dataframe thead th {\n",
       "        text-align: right;\n",
       "    }\n",
       "</style>\n",
       "<table border=\"1\" class=\"dataframe\">\n",
       "  <thead>\n",
       "    <tr style=\"text-align: right;\">\n",
       "      <th></th>\n",
       "      <th>carname</th>\n",
       "      <th>price</th>\n",
       "      <th>milage</th>\n",
       "      <th>hubraum</th>\n",
       "      <th>power</th>\n",
       "      <th>fuel_type</th>\n",
       "      <th>transmission</th>\n",
       "      <th>construction_year</th>\n",
       "      <th>first_registration</th>\n",
       "      <th>num_seats</th>\n",
       "      <th>num_doors</th>\n",
       "      <th>emission_class</th>\n",
       "      <th>car_type</th>\n",
       "      <th>num_owners</th>\n",
       "      <th>damage</th>\n",
       "      <th>Model</th>\n",
       "      <th>power_ps</th>\n",
       "    </tr>\n",
       "  </thead>\n",
       "  <tbody>\n",
       "    <tr>\n",
       "      <th>0</th>\n",
       "      <td>Mercedes-Benz Sprinter II Kasten 214 CDI Klima...</td>\n",
       "      <td>16950.0</td>\n",
       "      <td>198245.0</td>\n",
       "      <td>2.143</td>\n",
       "      <td>105 kW (143 PS)</td>\n",
       "      <td>Diesel</td>\n",
       "      <td>Schaltgetriebe</td>\n",
       "      <td>-1</td>\n",
       "      <td>07/2017</td>\n",
       "      <td>3</td>\n",
       "      <td>4/5</td>\n",
       "      <td>Euro6</td>\n",
       "      <td>Van / Minibus</td>\n",
       "      <td>1</td>\n",
       "      <td>Unfallfrei</td>\n",
       "      <td>Sprinter</td>\n",
       "      <td>143</td>\n",
       "    </tr>\n",
       "    <tr>\n",
       "      <th>1</th>\n",
       "      <td>Mercedes-Benz GLB 220 d 4M Progressive AHK Dis...</td>\n",
       "      <td>60490.0</td>\n",
       "      <td>10529.0</td>\n",
       "      <td>1.950</td>\n",
       "      <td>140 kW (190 PS)</td>\n",
       "      <td>Diesel</td>\n",
       "      <td>Automatik</td>\n",
       "      <td>-1</td>\n",
       "      <td>05/2020</td>\n",
       "      <td>5</td>\n",
       "      <td>4/5</td>\n",
       "      <td>Euro6d</td>\n",
       "      <td>SUV / Geländewagen / Pickup</td>\n",
       "      <td>1</td>\n",
       "      <td>Unfallfrei</td>\n",
       "      <td>GLB</td>\n",
       "      <td>190</td>\n",
       "    </tr>\n",
       "    <tr>\n",
       "      <th>2</th>\n",
       "      <td>Mercedes-Benz A 200 7G*1.HAND*LED*NAVI*LEDER*K...</td>\n",
       "      <td>24990.0</td>\n",
       "      <td>91205.0</td>\n",
       "      <td>1.332</td>\n",
       "      <td>100 kW (136 PS)</td>\n",
       "      <td>Benzin</td>\n",
       "      <td>Automatik</td>\n",
       "      <td>-1</td>\n",
       "      <td>04/2019</td>\n",
       "      <td>5</td>\n",
       "      <td>4/5</td>\n",
       "      <td>Euro6d-TEMP</td>\n",
       "      <td>Limousine</td>\n",
       "      <td>1</td>\n",
       "      <td>-1</td>\n",
       "      <td>A-Klasse</td>\n",
       "      <td>136</td>\n",
       "    </tr>\n",
       "    <tr>\n",
       "      <th>5</th>\n",
       "      <td>Mercedes-Benz C 180 *CABRIO*AMG LINE*9G*2.HAND...</td>\n",
       "      <td>31990.0</td>\n",
       "      <td>84925.0</td>\n",
       "      <td>1.595</td>\n",
       "      <td>115 kW (156 PS)</td>\n",
       "      <td>Benzin</td>\n",
       "      <td>Automatik</td>\n",
       "      <td>-1</td>\n",
       "      <td>01/2017</td>\n",
       "      <td>4</td>\n",
       "      <td>2/3</td>\n",
       "      <td>Euro6</td>\n",
       "      <td>Cabrio / Roadster</td>\n",
       "      <td>2</td>\n",
       "      <td>-1</td>\n",
       "      <td>C-Klasse</td>\n",
       "      <td>156</td>\n",
       "    </tr>\n",
       "    <tr>\n",
       "      <th>7</th>\n",
       "      <td>Mercedes-Benz A 180 7G*1.HAND*LED*NAVI*LEDER*K...</td>\n",
       "      <td>24990.0</td>\n",
       "      <td>91205.0</td>\n",
       "      <td>1.332</td>\n",
       "      <td>100 kW (136 PS)</td>\n",
       "      <td>Benzin</td>\n",
       "      <td>Automatik</td>\n",
       "      <td>-1</td>\n",
       "      <td>04/2019</td>\n",
       "      <td>5</td>\n",
       "      <td>4/5</td>\n",
       "      <td>Euro6d-TEMP</td>\n",
       "      <td>Limousine</td>\n",
       "      <td>1</td>\n",
       "      <td>-1</td>\n",
       "      <td>A-Klasse</td>\n",
       "      <td>136</td>\n",
       "    </tr>\n",
       "    <tr>\n",
       "      <th>...</th>\n",
       "      <td>...</td>\n",
       "      <td>...</td>\n",
       "      <td>...</td>\n",
       "      <td>...</td>\n",
       "      <td>...</td>\n",
       "      <td>...</td>\n",
       "      <td>...</td>\n",
       "      <td>...</td>\n",
       "      <td>...</td>\n",
       "      <td>...</td>\n",
       "      <td>...</td>\n",
       "      <td>...</td>\n",
       "      <td>...</td>\n",
       "      <td>...</td>\n",
       "      <td>...</td>\n",
       "      <td>...</td>\n",
       "      <td>...</td>\n",
       "    </tr>\n",
       "    <tr>\n",
       "      <th>1401</th>\n",
       "      <td>Mercedes-Benz S 500 4M Lim lang AMG Nightp. PD...</td>\n",
       "      <td>15500.0</td>\n",
       "      <td>375000.0</td>\n",
       "      <td>NaN</td>\n",
       "      <td>110 kW (150 PS)</td>\n",
       "      <td>Diesel</td>\n",
       "      <td>Automatik</td>\n",
       "      <td>-1</td>\n",
       "      <td>02/2017</td>\n",
       "      <td>-1</td>\n",
       "      <td>-1</td>\n",
       "      <td>-1</td>\n",
       "      <td>Limousine</td>\n",
       "      <td>-1</td>\n",
       "      <td>-1</td>\n",
       "      <td>S-Klasse</td>\n",
       "      <td>150</td>\n",
       "    </tr>\n",
       "    <tr>\n",
       "      <th>1405</th>\n",
       "      <td>Mercedes-Benz S -Klasse Lim. S 350 d L AMG</td>\n",
       "      <td>44500.0</td>\n",
       "      <td>115000.0</td>\n",
       "      <td>NaN</td>\n",
       "      <td>295 kW (401 PS)</td>\n",
       "      <td>Benzin</td>\n",
       "      <td>Automatik</td>\n",
       "      <td>-1</td>\n",
       "      <td>08/2017</td>\n",
       "      <td>-1</td>\n",
       "      <td>-1</td>\n",
       "      <td>-1</td>\n",
       "      <td>Limousine</td>\n",
       "      <td>-1</td>\n",
       "      <td>-1</td>\n",
       "      <td>S-Klasse</td>\n",
       "      <td>401</td>\n",
       "    </tr>\n",
       "    <tr>\n",
       "      <th>1406</th>\n",
       "      <td>Mercedes-Benz Vito 119 CDI Tourer Select 4-Mat...</td>\n",
       "      <td>36000.0</td>\n",
       "      <td>66000.0</td>\n",
       "      <td>NaN</td>\n",
       "      <td>280 kW (381 PS)</td>\n",
       "      <td>Benzin</td>\n",
       "      <td>Automatik</td>\n",
       "      <td>-1</td>\n",
       "      <td>05/2017</td>\n",
       "      <td>-1</td>\n",
       "      <td>-1</td>\n",
       "      <td>-1</td>\n",
       "      <td>Sportwagen / Coupé</td>\n",
       "      <td>-1</td>\n",
       "      <td>-1</td>\n",
       "      <td>Vito</td>\n",
       "      <td>381</td>\n",
       "    </tr>\n",
       "    <tr>\n",
       "      <th>1407</th>\n",
       "      <td>Mercedes-Benz Vito Tourer 116 CDI Lang BlueTEC...</td>\n",
       "      <td>33900.0</td>\n",
       "      <td>35000.0</td>\n",
       "      <td>NaN</td>\n",
       "      <td>143 kW (194 PS)</td>\n",
       "      <td>Diesel</td>\n",
       "      <td>Automatik</td>\n",
       "      <td>-1</td>\n",
       "      <td>07/2017</td>\n",
       "      <td>-1</td>\n",
       "      <td>4/5</td>\n",
       "      <td>Euro6d</td>\n",
       "      <td>Limousine</td>\n",
       "      <td>1</td>\n",
       "      <td>Unfallfrei</td>\n",
       "      <td>Vito</td>\n",
       "      <td>194</td>\n",
       "    </tr>\n",
       "    <tr>\n",
       "      <th>1409</th>\n",
       "      <td>Mercedes-Benz Vito Marco Polo 220d Activity Ed...</td>\n",
       "      <td>22400.0</td>\n",
       "      <td>67500.0</td>\n",
       "      <td>NaN</td>\n",
       "      <td>130 kW (177 PS)</td>\n",
       "      <td>Diesel</td>\n",
       "      <td>Automatik</td>\n",
       "      <td>-1</td>\n",
       "      <td>03/2017</td>\n",
       "      <td>5</td>\n",
       "      <td>4/5</td>\n",
       "      <td>Euro6</td>\n",
       "      <td>Kombi</td>\n",
       "      <td>1</td>\n",
       "      <td>Unfallfrei</td>\n",
       "      <td>MarcoPolo</td>\n",
       "      <td>177</td>\n",
       "    </tr>\n",
       "  </tbody>\n",
       "</table>\n",
       "<p>1414 rows × 17 columns</p>\n",
       "</div>"
      ],
      "text/plain": [
       "                                                carname    price    milage  \\\n",
       "0     Mercedes-Benz Sprinter II Kasten 214 CDI Klima...  16950.0  198245.0   \n",
       "1     Mercedes-Benz GLB 220 d 4M Progressive AHK Dis...  60490.0   10529.0   \n",
       "2     Mercedes-Benz A 200 7G*1.HAND*LED*NAVI*LEDER*K...  24990.0   91205.0   \n",
       "5     Mercedes-Benz C 180 *CABRIO*AMG LINE*9G*2.HAND...  31990.0   84925.0   \n",
       "7     Mercedes-Benz A 180 7G*1.HAND*LED*NAVI*LEDER*K...  24990.0   91205.0   \n",
       "...                                                 ...      ...       ...   \n",
       "1401  Mercedes-Benz S 500 4M Lim lang AMG Nightp. PD...  15500.0  375000.0   \n",
       "1405         Mercedes-Benz S -Klasse Lim. S 350 d L AMG  44500.0  115000.0   \n",
       "1406  Mercedes-Benz Vito 119 CDI Tourer Select 4-Mat...  36000.0   66000.0   \n",
       "1407  Mercedes-Benz Vito Tourer 116 CDI Lang BlueTEC...  33900.0   35000.0   \n",
       "1409  Mercedes-Benz Vito Marco Polo 220d Activity Ed...  22400.0   67500.0   \n",
       "\n",
       "      hubraum            power fuel_type    transmission  construction_year  \\\n",
       "0       2.143  105 kW (143 PS)    Diesel  Schaltgetriebe                 -1   \n",
       "1       1.950  140 kW (190 PS)    Diesel       Automatik                 -1   \n",
       "2       1.332  100 kW (136 PS)    Benzin       Automatik                 -1   \n",
       "5       1.595  115 kW (156 PS)    Benzin       Automatik                 -1   \n",
       "7       1.332  100 kW (136 PS)    Benzin       Automatik                 -1   \n",
       "...       ...              ...       ...             ...                ...   \n",
       "1401      NaN  110 kW (150 PS)    Diesel       Automatik                 -1   \n",
       "1405      NaN  295 kW (401 PS)    Benzin       Automatik                 -1   \n",
       "1406      NaN  280 kW (381 PS)    Benzin       Automatik                 -1   \n",
       "1407      NaN  143 kW (194 PS)    Diesel       Automatik                 -1   \n",
       "1409      NaN  130 kW (177 PS)    Diesel       Automatik                 -1   \n",
       "\n",
       "     first_registration  num_seats num_doors emission_class  \\\n",
       "0               07/2017          3       4/5          Euro6   \n",
       "1               05/2020          5       4/5         Euro6d   \n",
       "2               04/2019          5       4/5    Euro6d-TEMP   \n",
       "5               01/2017          4       2/3          Euro6   \n",
       "7               04/2019          5       4/5    Euro6d-TEMP   \n",
       "...                 ...        ...       ...            ...   \n",
       "1401            02/2017         -1        -1             -1   \n",
       "1405            08/2017         -1        -1             -1   \n",
       "1406            05/2017         -1        -1             -1   \n",
       "1407            07/2017         -1       4/5         Euro6d   \n",
       "1409            03/2017          5       4/5          Euro6   \n",
       "\n",
       "                         car_type  num_owners      damage      Model power_ps  \n",
       "0                   Van / Minibus           1  Unfallfrei   Sprinter      143  \n",
       "1     SUV / Geländewagen / Pickup           1  Unfallfrei        GLB      190  \n",
       "2                       Limousine           1          -1   A-Klasse      136  \n",
       "5               Cabrio / Roadster           2          -1   C-Klasse      156  \n",
       "7                       Limousine           1          -1   A-Klasse      136  \n",
       "...                           ...         ...         ...        ...      ...  \n",
       "1401                    Limousine          -1          -1   S-Klasse      150  \n",
       "1405                    Limousine          -1          -1   S-Klasse      401  \n",
       "1406           Sportwagen / Coupé          -1          -1       Vito      381  \n",
       "1407                    Limousine           1  Unfallfrei       Vito      194  \n",
       "1409                        Kombi           1  Unfallfrei  MarcoPolo      177  \n",
       "\n",
       "[1414 rows x 17 columns]"
      ]
     },
     "execution_count": 27,
     "metadata": {},
     "output_type": "execute_result"
    }
   ],
   "source": [
    "df_new"
   ]
  },
  {
   "cell_type": "markdown",
   "id": "ea53da74",
   "metadata": {},
   "source": [
    "### Clean column power KW"
   ]
  },
  {
   "cell_type": "code",
   "execution_count": 28,
   "id": "279db1b1",
   "metadata": {},
   "outputs": [],
   "source": [
    "# Extract KW from the column power\n",
    "df_new['power_kw'] = df_new['power'].apply(lambda x: x.lower().replace('(', '').split()[0] if x != \"nan\" else None)"
   ]
  },
  {
   "cell_type": "markdown",
   "id": "64bf2b5d",
   "metadata": {},
   "source": [
    "### Clean column fuel_type"
   ]
  },
  {
   "cell_type": "code",
   "execution_count": 29,
   "id": "c6973e50",
   "metadata": {},
   "outputs": [
    {
     "data": {
      "text/plain": [
       "<class 'str'>    1407\n",
       "<class 'int'>       7\n",
       "Name: fuel_type, dtype: int64"
      ]
     },
     "execution_count": 29,
     "metadata": {},
     "output_type": "execute_result"
    }
   ],
   "source": [
    "df_new.fuel_type.apply(type).value_counts()"
   ]
  },
  {
   "cell_type": "code",
   "execution_count": 30,
   "id": "2ca11642",
   "metadata": {},
   "outputs": [],
   "source": [
    "df_new['fuel_type'] = df_new['fuel_type'].astype(str)"
   ]
  },
  {
   "cell_type": "code",
   "execution_count": 31,
   "id": "9d90485e",
   "metadata": {},
   "outputs": [],
   "source": [
    "def fueltype(x):\n",
    "    if x == '-1':\n",
    "        \n",
    "        return np.nan\n",
    "    else:\n",
    "        return x.split()[0].replace(',', '')"
   ]
  },
  {
   "cell_type": "code",
   "execution_count": 32,
   "id": "651073f5",
   "metadata": {},
   "outputs": [],
   "source": [
    "df_new['fuel_type'] = df_new['fuel_type'].apply(fueltype)"
   ]
  },
  {
   "cell_type": "code",
   "execution_count": 33,
   "id": "3e1d46c4-b769-4909-a362-fd5439124a1a",
   "metadata": {},
   "outputs": [
    {
     "data": {
      "text/plain": [
       "Diesel     794\n",
       "Benzin     554\n",
       "Hybrid      51\n",
       "Elektro      7\n",
       "Andere       1\n",
       "Name: fuel_type, dtype: int64"
      ]
     },
     "execution_count": 33,
     "metadata": {},
     "output_type": "execute_result"
    }
   ],
   "source": [
    "df_new['fuel_type'].value_counts()"
   ]
  },
  {
   "cell_type": "markdown",
   "id": "cbe2c8c4",
   "metadata": {},
   "source": [
    "### Clean column transmission"
   ]
  },
  {
   "cell_type": "code",
   "execution_count": 34,
   "id": "5ef27155",
   "metadata": {},
   "outputs": [
    {
     "data": {
      "text/plain": [
       "<AxesSubplot:>"
      ]
     },
     "execution_count": 34,
     "metadata": {},
     "output_type": "execute_result"
    },
    {
     "data": {
      "image/png": "[encoded data removed]",
      "text/plain": [
       "<Figure size 842.4x595.44 with 1 Axes>"
      ]
     },
     "metadata": {},
     "output_type": "display_data"
    }
   ],
   "source": [
    "df_new['transmission'].value_counts().plot(kind='bar')"
   ]
  },
  {
   "cell_type": "code",
   "execution_count": 35,
   "id": "b7e1b5aa",
   "metadata": {},
   "outputs": [],
   "source": [
    "df_new['transmission'] = df_new['transmission'].replace(-1, np.nan)"
   ]
  },
  {
   "cell_type": "code",
   "execution_count": 36,
   "id": "0e825281",
   "metadata": {},
   "outputs": [
    {
     "name": "stdout",
     "output_type": "stream",
     "text": [
      "<class 'pandas.core.frame.DataFrame'>\n",
      "Int64Index: 1414 entries, 0 to 1409\n",
      "Data columns (total 18 columns):\n",
      " #   Column              Non-Null Count  Dtype  \n",
      "---  ------              --------------  -----  \n",
      " 0   carname             1414 non-null   object \n",
      " 1   price               1414 non-null   float64\n",
      " 2   milage              1414 non-null   float64\n",
      " 3   hubraum             1085 non-null   float64\n",
      " 4   power               1414 non-null   object \n",
      " 5   fuel_type           1407 non-null   object \n",
      " 6   transmission        1406 non-null   object \n",
      " 7   construction_year   1414 non-null   int64  \n",
      " 8   first_registration  1414 non-null   object \n",
      " 9   num_seats           1414 non-null   int64  \n",
      " 10  num_doors           1414 non-null   object \n",
      " 11  emission_class      1414 non-null   object \n",
      " 12  car_type            1414 non-null   object \n",
      " 13  num_owners          1414 non-null   int64  \n",
      " 14  damage              1414 non-null   object \n",
      " 15  Model               1414 non-null   object \n",
      " 16  power_ps            1399 non-null   object \n",
      " 17  power_kw            1399 non-null   object \n",
      "dtypes: float64(3), int64(3), object(12)\n",
      "memory usage: 242.2+ KB\n"
     ]
    }
   ],
   "source": [
    "df_new.info()"
   ]
  },
  {
   "cell_type": "markdown",
   "id": "a4ca0362",
   "metadata": {},
   "source": [
    "### Calculate Age of the Car from frist_registration"
   ]
  },
  {
   "cell_type": "code",
   "execution_count": 37,
   "id": "344a1518",
   "metadata": {},
   "outputs": [],
   "source": [
    "def car_age(x):\n",
    "    year = float(x.split('/')[1])\n",
    "    month = float(x.split('/')[0])\n",
    "    age = 2021.83 - year - (month/12.0)\n",
    "    return age"
   ]
  },
  {
   "cell_type": "code",
   "execution_count": 38,
   "id": "51207986",
   "metadata": {},
   "outputs": [],
   "source": [
    "df_new['age'] = df_new['first_registration'].apply(car_age)"
   ]
  },
  {
   "cell_type": "code",
   "execution_count": 39,
   "id": "06b4be3e-b1e0-4993-b98a-baf47164a0c0",
   "metadata": {},
   "outputs": [
    {
     "data": {
      "text/plain": [
       "<AxesSubplot:xlabel='age', ylabel='Count'>"
      ]
     },
     "execution_count": 39,
     "metadata": {},
     "output_type": "execute_result"
    },
    {
     "data": {
      "image/png": "[encoded data removed]",
      "text/plain": [
       "<Figure size 842.4x595.44 with 1 Axes>"
      ]
     },
     "metadata": {},
     "output_type": "display_data"
    }
   ],
   "source": [
    "sns.histplot(data=df_new, x=\"age\", bins = 15)"
   ]
  },
  {
   "cell_type": "markdown",
   "id": "afcc3ff7",
   "metadata": {},
   "source": [
    "### Clean column num_seats"
   ]
  },
  {
   "cell_type": "code",
   "execution_count": 40,
   "id": "6c686d07",
   "metadata": {},
   "outputs": [],
   "source": [
    "df_new['num_seats'] = df_new['num_seats'].apply(lambda x: str(x) if x != -1 else np.nan)"
   ]
  },
  {
   "cell_type": "code",
   "execution_count": 41,
   "id": "36b52258",
   "metadata": {},
   "outputs": [
    {
     "data": {
      "text/plain": [
       "<AxesSubplot:>"
      ]
     },
     "execution_count": 41,
     "metadata": {},
     "output_type": "execute_result"
    },
    {
     "data": {
      "image/png": "[encoded data removed]",
      "text/plain": [
       "<Figure size 842.4x595.44 with 1 Axes>"
      ]
     },
     "metadata": {},
     "output_type": "display_data"
    }
   ],
   "source": [
    "df_new['num_seats'].value_counts().plot(kind='bar')"
   ]
  },
  {
   "cell_type": "markdown",
   "id": "9d0b22ed",
   "metadata": {},
   "source": [
    "### Clean column num_doors"
   ]
  },
  {
   "cell_type": "code",
   "execution_count": 42,
   "id": "899e5d2b",
   "metadata": {},
   "outputs": [],
   "source": [
    "df_new['num_doors'] = df_new['num_doors'].apply(lambda x: x if x != -1 else np.nan)"
   ]
  },
  {
   "cell_type": "code",
   "execution_count": 43,
   "id": "fa2c3089",
   "metadata": {},
   "outputs": [
    {
     "data": {
      "text/html": [
       "<div>\n",
       "<style scoped>\n",
       "    .dataframe tbody tr th:only-of-type {\n",
       "        vertical-align: middle;\n",
       "    }\n",
       "\n",
       "    .dataframe tbody tr th {\n",
       "        vertical-align: top;\n",
       "    }\n",
       "\n",
       "    .dataframe thead th {\n",
       "        text-align: right;\n",
       "    }\n",
       "</style>\n",
       "<table border=\"1\" class=\"dataframe\">\n",
       "  <thead>\n",
       "    <tr style=\"text-align: right;\">\n",
       "      <th></th>\n",
       "      <th>carname</th>\n",
       "      <th>price</th>\n",
       "      <th>milage</th>\n",
       "      <th>hubraum</th>\n",
       "      <th>power</th>\n",
       "      <th>fuel_type</th>\n",
       "      <th>transmission</th>\n",
       "      <th>construction_year</th>\n",
       "      <th>first_registration</th>\n",
       "      <th>num_seats</th>\n",
       "      <th>num_doors</th>\n",
       "      <th>emission_class</th>\n",
       "      <th>car_type</th>\n",
       "      <th>num_owners</th>\n",
       "      <th>damage</th>\n",
       "      <th>Model</th>\n",
       "      <th>power_ps</th>\n",
       "      <th>power_kw</th>\n",
       "      <th>age</th>\n",
       "    </tr>\n",
       "  </thead>\n",
       "  <tbody>\n",
       "    <tr>\n",
       "      <th>0</th>\n",
       "      <td>Mercedes-Benz Sprinter II Kasten 214 CDI Klima...</td>\n",
       "      <td>16950.0</td>\n",
       "      <td>198245.0</td>\n",
       "      <td>2.143</td>\n",
       "      <td>105 kW (143 PS)</td>\n",
       "      <td>Diesel</td>\n",
       "      <td>Schaltgetriebe</td>\n",
       "      <td>-1</td>\n",
       "      <td>07/2017</td>\n",
       "      <td>3</td>\n",
       "      <td>4/5</td>\n",
       "      <td>Euro6</td>\n",
       "      <td>Van / Minibus</td>\n",
       "      <td>1</td>\n",
       "      <td>Unfallfrei</td>\n",
       "      <td>Sprinter</td>\n",
       "      <td>143</td>\n",
       "      <td>105</td>\n",
       "      <td>4.246667</td>\n",
       "    </tr>\n",
       "    <tr>\n",
       "      <th>1</th>\n",
       "      <td>Mercedes-Benz GLB 220 d 4M Progressive AHK Dis...</td>\n",
       "      <td>60490.0</td>\n",
       "      <td>10529.0</td>\n",
       "      <td>1.950</td>\n",
       "      <td>140 kW (190 PS)</td>\n",
       "      <td>Diesel</td>\n",
       "      <td>Automatik</td>\n",
       "      <td>-1</td>\n",
       "      <td>05/2020</td>\n",
       "      <td>5</td>\n",
       "      <td>4/5</td>\n",
       "      <td>Euro6d</td>\n",
       "      <td>SUV / Geländewagen / Pickup</td>\n",
       "      <td>1</td>\n",
       "      <td>Unfallfrei</td>\n",
       "      <td>GLB</td>\n",
       "      <td>190</td>\n",
       "      <td>140</td>\n",
       "      <td>1.413333</td>\n",
       "    </tr>\n",
       "    <tr>\n",
       "      <th>2</th>\n",
       "      <td>Mercedes-Benz A 200 7G*1.HAND*LED*NAVI*LEDER*K...</td>\n",
       "      <td>24990.0</td>\n",
       "      <td>91205.0</td>\n",
       "      <td>1.332</td>\n",
       "      <td>100 kW (136 PS)</td>\n",
       "      <td>Benzin</td>\n",
       "      <td>Automatik</td>\n",
       "      <td>-1</td>\n",
       "      <td>04/2019</td>\n",
       "      <td>5</td>\n",
       "      <td>4/5</td>\n",
       "      <td>Euro6d-TEMP</td>\n",
       "      <td>Limousine</td>\n",
       "      <td>1</td>\n",
       "      <td>-1</td>\n",
       "      <td>A-Klasse</td>\n",
       "      <td>136</td>\n",
       "      <td>100</td>\n",
       "      <td>2.496667</td>\n",
       "    </tr>\n",
       "    <tr>\n",
       "      <th>5</th>\n",
       "      <td>Mercedes-Benz C 180 *CABRIO*AMG LINE*9G*2.HAND...</td>\n",
       "      <td>31990.0</td>\n",
       "      <td>84925.0</td>\n",
       "      <td>1.595</td>\n",
       "      <td>115 kW (156 PS)</td>\n",
       "      <td>Benzin</td>\n",
       "      <td>Automatik</td>\n",
       "      <td>-1</td>\n",
       "      <td>01/2017</td>\n",
       "      <td>4</td>\n",
       "      <td>2/3</td>\n",
       "      <td>Euro6</td>\n",
       "      <td>Cabrio / Roadster</td>\n",
       "      <td>2</td>\n",
       "      <td>-1</td>\n",
       "      <td>C-Klasse</td>\n",
       "      <td>156</td>\n",
       "      <td>115</td>\n",
       "      <td>4.746667</td>\n",
       "    </tr>\n",
       "    <tr>\n",
       "      <th>7</th>\n",
       "      <td>Mercedes-Benz A 180 7G*1.HAND*LED*NAVI*LEDER*K...</td>\n",
       "      <td>24990.0</td>\n",
       "      <td>91205.0</td>\n",
       "      <td>1.332</td>\n",
       "      <td>100 kW (136 PS)</td>\n",
       "      <td>Benzin</td>\n",
       "      <td>Automatik</td>\n",
       "      <td>-1</td>\n",
       "      <td>04/2019</td>\n",
       "      <td>5</td>\n",
       "      <td>4/5</td>\n",
       "      <td>Euro6d-TEMP</td>\n",
       "      <td>Limousine</td>\n",
       "      <td>1</td>\n",
       "      <td>-1</td>\n",
       "      <td>A-Klasse</td>\n",
       "      <td>136</td>\n",
       "      <td>100</td>\n",
       "      <td>2.496667</td>\n",
       "    </tr>\n",
       "    <tr>\n",
       "      <th>...</th>\n",
       "      <td>...</td>\n",
       "      <td>...</td>\n",
       "      <td>...</td>\n",
       "      <td>...</td>\n",
       "      <td>...</td>\n",
       "      <td>...</td>\n",
       "      <td>...</td>\n",
       "      <td>...</td>\n",
       "      <td>...</td>\n",
       "      <td>...</td>\n",
       "      <td>...</td>\n",
       "      <td>...</td>\n",
       "      <td>...</td>\n",
       "      <td>...</td>\n",
       "      <td>...</td>\n",
       "      <td>...</td>\n",
       "      <td>...</td>\n",
       "      <td>...</td>\n",
       "      <td>...</td>\n",
       "    </tr>\n",
       "    <tr>\n",
       "      <th>1401</th>\n",
       "      <td>Mercedes-Benz S 500 4M Lim lang AMG Nightp. PD...</td>\n",
       "      <td>15500.0</td>\n",
       "      <td>375000.0</td>\n",
       "      <td>NaN</td>\n",
       "      <td>110 kW (150 PS)</td>\n",
       "      <td>Diesel</td>\n",
       "      <td>Automatik</td>\n",
       "      <td>-1</td>\n",
       "      <td>02/2017</td>\n",
       "      <td>NaN</td>\n",
       "      <td>NaN</td>\n",
       "      <td>-1</td>\n",
       "      <td>Limousine</td>\n",
       "      <td>-1</td>\n",
       "      <td>-1</td>\n",
       "      <td>S-Klasse</td>\n",
       "      <td>150</td>\n",
       "      <td>110</td>\n",
       "      <td>4.663333</td>\n",
       "    </tr>\n",
       "    <tr>\n",
       "      <th>1405</th>\n",
       "      <td>Mercedes-Benz S -Klasse Lim. S 350 d L AMG</td>\n",
       "      <td>44500.0</td>\n",
       "      <td>115000.0</td>\n",
       "      <td>NaN</td>\n",
       "      <td>295 kW (401 PS)</td>\n",
       "      <td>Benzin</td>\n",
       "      <td>Automatik</td>\n",
       "      <td>-1</td>\n",
       "      <td>08/2017</td>\n",
       "      <td>NaN</td>\n",
       "      <td>NaN</td>\n",
       "      <td>-1</td>\n",
       "      <td>Limousine</td>\n",
       "      <td>-1</td>\n",
       "      <td>-1</td>\n",
       "      <td>S-Klasse</td>\n",
       "      <td>401</td>\n",
       "      <td>295</td>\n",
       "      <td>4.163333</td>\n",
       "    </tr>\n",
       "    <tr>\n",
       "      <th>1406</th>\n",
       "      <td>Mercedes-Benz Vito 119 CDI Tourer Select 4-Mat...</td>\n",
       "      <td>36000.0</td>\n",
       "      <td>66000.0</td>\n",
       "      <td>NaN</td>\n",
       "      <td>280 kW (381 PS)</td>\n",
       "      <td>Benzin</td>\n",
       "      <td>Automatik</td>\n",
       "      <td>-1</td>\n",
       "      <td>05/2017</td>\n",
       "      <td>NaN</td>\n",
       "      <td>NaN</td>\n",
       "      <td>-1</td>\n",
       "      <td>Sportwagen / Coupé</td>\n",
       "      <td>-1</td>\n",
       "      <td>-1</td>\n",
       "      <td>Vito</td>\n",
       "      <td>381</td>\n",
       "      <td>280</td>\n",
       "      <td>4.413333</td>\n",
       "    </tr>\n",
       "    <tr>\n",
       "      <th>1407</th>\n",
       "      <td>Mercedes-Benz Vito Tourer 116 CDI Lang BlueTEC...</td>\n",
       "      <td>33900.0</td>\n",
       "      <td>35000.0</td>\n",
       "      <td>NaN</td>\n",
       "      <td>143 kW (194 PS)</td>\n",
       "      <td>Diesel</td>\n",
       "      <td>Automatik</td>\n",
       "      <td>-1</td>\n",
       "      <td>07/2017</td>\n",
       "      <td>NaN</td>\n",
       "      <td>4/5</td>\n",
       "      <td>Euro6d</td>\n",
       "      <td>Limousine</td>\n",
       "      <td>1</td>\n",
       "      <td>Unfallfrei</td>\n",
       "      <td>Vito</td>\n",
       "      <td>194</td>\n",
       "      <td>143</td>\n",
       "      <td>4.246667</td>\n",
       "    </tr>\n",
       "    <tr>\n",
       "      <th>1409</th>\n",
       "      <td>Mercedes-Benz Vito Marco Polo 220d Activity Ed...</td>\n",
       "      <td>22400.0</td>\n",
       "      <td>67500.0</td>\n",
       "      <td>NaN</td>\n",
       "      <td>130 kW (177 PS)</td>\n",
       "      <td>Diesel</td>\n",
       "      <td>Automatik</td>\n",
       "      <td>-1</td>\n",
       "      <td>03/2017</td>\n",
       "      <td>5</td>\n",
       "      <td>4/5</td>\n",
       "      <td>Euro6</td>\n",
       "      <td>Kombi</td>\n",
       "      <td>1</td>\n",
       "      <td>Unfallfrei</td>\n",
       "      <td>MarcoPolo</td>\n",
       "      <td>177</td>\n",
       "      <td>130</td>\n",
       "      <td>4.580000</td>\n",
       "    </tr>\n",
       "  </tbody>\n",
       "</table>\n",
       "<p>1414 rows × 19 columns</p>\n",
       "</div>"
      ],
      "text/plain": [
       "                                                carname    price    milage  \\\n",
       "0     Mercedes-Benz Sprinter II Kasten 214 CDI Klima...  16950.0  198245.0   \n",
       "1     Mercedes-Benz GLB 220 d 4M Progressive AHK Dis...  60490.0   10529.0   \n",
       "2     Mercedes-Benz A 200 7G*1.HAND*LED*NAVI*LEDER*K...  24990.0   91205.0   \n",
       "5     Mercedes-Benz C 180 *CABRIO*AMG LINE*9G*2.HAND...  31990.0   84925.0   \n",
       "7     Mercedes-Benz A 180 7G*1.HAND*LED*NAVI*LEDER*K...  24990.0   91205.0   \n",
       "...                                                 ...      ...       ...   \n",
       "1401  Mercedes-Benz S 500 4M Lim lang AMG Nightp. PD...  15500.0  375000.0   \n",
       "1405         Mercedes-Benz S -Klasse Lim. S 350 d L AMG  44500.0  115000.0   \n",
       "1406  Mercedes-Benz Vito 119 CDI Tourer Select 4-Mat...  36000.0   66000.0   \n",
       "1407  Mercedes-Benz Vito Tourer 116 CDI Lang BlueTEC...  33900.0   35000.0   \n",
       "1409  Mercedes-Benz Vito Marco Polo 220d Activity Ed...  22400.0   67500.0   \n",
       "\n",
       "      hubraum            power fuel_type    transmission  construction_year  \\\n",
       "0       2.143  105 kW (143 PS)    Diesel  Schaltgetriebe                 -1   \n",
       "1       1.950  140 kW (190 PS)    Diesel       Automatik                 -1   \n",
       "2       1.332  100 kW (136 PS)    Benzin       Automatik                 -1   \n",
       "5       1.595  115 kW (156 PS)    Benzin       Automatik                 -1   \n",
       "7       1.332  100 kW (136 PS)    Benzin       Automatik                 -1   \n",
       "...       ...              ...       ...             ...                ...   \n",
       "1401      NaN  110 kW (150 PS)    Diesel       Automatik                 -1   \n",
       "1405      NaN  295 kW (401 PS)    Benzin       Automatik                 -1   \n",
       "1406      NaN  280 kW (381 PS)    Benzin       Automatik                 -1   \n",
       "1407      NaN  143 kW (194 PS)    Diesel       Automatik                 -1   \n",
       "1409      NaN  130 kW (177 PS)    Diesel       Automatik                 -1   \n",
       "\n",
       "     first_registration num_seats num_doors emission_class  \\\n",
       "0               07/2017         3       4/5          Euro6   \n",
       "1               05/2020         5       4/5         Euro6d   \n",
       "2               04/2019         5       4/5    Euro6d-TEMP   \n",
       "5               01/2017         4       2/3          Euro6   \n",
       "7               04/2019         5       4/5    Euro6d-TEMP   \n",
       "...                 ...       ...       ...            ...   \n",
       "1401            02/2017       NaN       NaN             -1   \n",
       "1405            08/2017       NaN       NaN             -1   \n",
       "1406            05/2017       NaN       NaN             -1   \n",
       "1407            07/2017       NaN       4/5         Euro6d   \n",
       "1409            03/2017         5       4/5          Euro6   \n",
       "\n",
       "                         car_type  num_owners      damage      Model power_ps  \\\n",
       "0                   Van / Minibus           1  Unfallfrei   Sprinter      143   \n",
       "1     SUV / Geländewagen / Pickup           1  Unfallfrei        GLB      190   \n",
       "2                       Limousine           1          -1   A-Klasse      136   \n",
       "5               Cabrio / Roadster           2          -1   C-Klasse      156   \n",
       "7                       Limousine           1          -1   A-Klasse      136   \n",
       "...                           ...         ...         ...        ...      ...   \n",
       "1401                    Limousine          -1          -1   S-Klasse      150   \n",
       "1405                    Limousine          -1          -1   S-Klasse      401   \n",
       "1406           Sportwagen / Coupé          -1          -1       Vito      381   \n",
       "1407                    Limousine           1  Unfallfrei       Vito      194   \n",
       "1409                        Kombi           1  Unfallfrei  MarcoPolo      177   \n",
       "\n",
       "     power_kw       age  \n",
       "0         105  4.246667  \n",
       "1         140  1.413333  \n",
       "2         100  2.496667  \n",
       "5         115  4.746667  \n",
       "7         100  2.496667  \n",
       "...       ...       ...  \n",
       "1401      110  4.663333  \n",
       "1405      295  4.163333  \n",
       "1406      280  4.413333  \n",
       "1407      143  4.246667  \n",
       "1409      130  4.580000  \n",
       "\n",
       "[1414 rows x 19 columns]"
      ]
     },
     "execution_count": 43,
     "metadata": {},
     "output_type": "execute_result"
    }
   ],
   "source": [
    "df_new"
   ]
  },
  {
   "cell_type": "markdown",
   "id": "eb0a8f3a",
   "metadata": {},
   "source": [
    "### Clean column emission_class"
   ]
  },
  {
   "cell_type": "code",
   "execution_count": 44,
   "id": "c38980eb",
   "metadata": {},
   "outputs": [],
   "source": [
    "df_new['emission_class'] = df_new['emission_class'].apply(lambda x: x if x != -1 else np.nan)"
   ]
  },
  {
   "cell_type": "code",
   "execution_count": 45,
   "id": "29960696",
   "metadata": {},
   "outputs": [],
   "source": [
    "df_new['emission_class'] = df_new['emission_class'].replace('Euro6d-TEMP', 'Euro6d')"
   ]
  },
  {
   "cell_type": "code",
   "execution_count": 46,
   "id": "726357a3",
   "metadata": {},
   "outputs": [
    {
     "data": {
      "text/plain": [
       "<AxesSubplot:>"
      ]
     },
     "execution_count": 46,
     "metadata": {},
     "output_type": "execute_result"
    },
    {
     "data": {
      "image/png": "[encoded data removed]",
      "text/plain": [
       "<Figure size 842.4x595.44 with 1 Axes>"
      ]
     },
     "metadata": {},
     "output_type": "display_data"
    }
   ],
   "source": [
    "df_new['emission_class'].value_counts().plot(kind='bar')"
   ]
  },
  {
   "cell_type": "markdown",
   "id": "9973e216",
   "metadata": {},
   "source": [
    "### Clean column car_type"
   ]
  },
  {
   "cell_type": "code",
   "execution_count": 47,
   "id": "42d5af2b",
   "metadata": {},
   "outputs": [],
   "source": [
    "def simplify_cartype(x):\n",
    "    xl = x.lower()\n",
    "    xl = xl.replace(',','')\n",
    "    xl = xl.replace('tageszulassung', '').replace('vorführfahrzeug', '')\n",
    "    if 'suv' in xl:\n",
    "        return 'suv'\n",
    "    elif 'van' in xl or 'minibus' in xl:\n",
    "        return 'van'\n",
    "    elif 'cabrio' in xl or 'roadster' in xl:\n",
    "        return 'cabrio'\n",
    "    elif 'sportwagen' in xl or 'coup' in xl:\n",
    "        return 'sport'\n",
    "    elif 'limousine' in xl:\n",
    "        return 'limousine'\n",
    "    elif 'kombi' in xl:\n",
    "        return 'kombi'\n",
    "    elif 'kleinwagen' in xl:\n",
    "        return 'kleinwagen'\n",
    "    elif 'andere' in xl:\n",
    "        return 'andere'\n",
    "    else:\n",
    "        return xl"
   ]
  },
  {
   "cell_type": "code",
   "execution_count": 48,
   "id": "fda68db1",
   "metadata": {},
   "outputs": [],
   "source": [
    "df_new['car_type'] = df_new['car_type'].apply(simplify_cartype)"
   ]
  },
  {
   "cell_type": "code",
   "execution_count": 49,
   "id": "325e4874-a703-4a6d-9291-fd3f7197dbe7",
   "metadata": {},
   "outputs": [
    {
     "data": {
      "text/plain": [
       "<AxesSubplot:xlabel='car_type', ylabel='count'>"
      ]
     },
     "execution_count": 49,
     "metadata": {},
     "output_type": "execute_result"
    },
    {
     "data": {
      "image/png": "[encoded data removed]",
      "text/plain": [
       "<Figure size 842.4x595.44 with 1 Axes>"
      ]
     },
     "metadata": {},
     "output_type": "display_data"
    }
   ],
   "source": [
    "sns.countplot(data=df_new, x=\"car_type\")"
   ]
  },
  {
   "cell_type": "markdown",
   "id": "ac143f2d",
   "metadata": {},
   "source": [
    "### Clean column num_owners"
   ]
  },
  {
   "cell_type": "code",
   "execution_count": 50,
   "id": "da53f5d3",
   "metadata": {},
   "outputs": [],
   "source": [
    "df_new['num_owners'] = df_new['num_owners'].apply(lambda x: str(x) if x != -1 else np.nan)"
   ]
  },
  {
   "cell_type": "markdown",
   "id": "78ee9892",
   "metadata": {},
   "source": [
    "### Clean column damage"
   ]
  },
  {
   "cell_type": "code",
   "execution_count": 51,
   "id": "6b1fe6c4",
   "metadata": {},
   "outputs": [],
   "source": [
    "df_new['damage'] = df_new['damage'].astype(str)"
   ]
  },
  {
   "cell_type": "code",
   "execution_count": 52,
   "id": "c0b40213",
   "metadata": {},
   "outputs": [],
   "source": [
    "def damage(x):\n",
    "    xl = x.lower()\n",
    "    if 'repariert' in xl:\n",
    "        return 'repariert'\n",
    "    elif 'unfallfrei' in xl:\n",
    "        return 'unfallfrei'\n",
    "    else:\n",
    "        return np.nan"
   ]
  },
  {
   "cell_type": "code",
   "execution_count": 53,
   "id": "8a16df99",
   "metadata": {},
   "outputs": [
    {
     "data": {
      "text/plain": [
       "<class 'str'>      1407\n",
       "<class 'float'>       7\n",
       "Name: fuel_type, dtype: int64"
      ]
     },
     "execution_count": 53,
     "metadata": {},
     "output_type": "execute_result"
    }
   ],
   "source": [
    "df_new.fuel_type.apply(type).value_counts()"
   ]
  },
  {
   "cell_type": "code",
   "execution_count": 54,
   "id": "635eee6d",
   "metadata": {},
   "outputs": [],
   "source": [
    "df_new['schaden'] = df_new['damage'].apply(damage)"
   ]
  },
  {
   "cell_type": "code",
   "execution_count": 55,
   "id": "ab21f1ea",
   "metadata": {},
   "outputs": [
    {
     "data": {
      "text/plain": [
       "<AxesSubplot:xlabel='schaden', ylabel='count'>"
      ]
     },
     "execution_count": 55,
     "metadata": {},
     "output_type": "execute_result"
    },
    {
     "data": {
      "image/png": "[encoded data removed]",
      "text/plain": [
       "<Figure size 842.4x595.44 with 1 Axes>"
      ]
     },
     "metadata": {},
     "output_type": "display_data"
    }
   ],
   "source": [
    "sns.countplot(data=df_new, x=\"schaden\")"
   ]
  },
  {
   "cell_type": "markdown",
   "id": "07297044",
   "metadata": {},
   "source": [
    "### Remove columns that are no longer needed"
   ]
  },
  {
   "cell_type": "code",
   "execution_count": 56,
   "id": "ded1b0d6",
   "metadata": {},
   "outputs": [],
   "source": [
    "df_cleaned = df_new.drop(['construction_year', 'power', 'first_registration', 'damage'], axis=1)"
   ]
  },
  {
   "cell_type": "code",
   "execution_count": 57,
   "id": "2b5cf3b7",
   "metadata": {},
   "outputs": [
    {
     "name": "stdout",
     "output_type": "stream",
     "text": [
      "<class 'pandas.core.frame.DataFrame'>\n",
      "Int64Index: 1414 entries, 0 to 1409\n",
      "Data columns (total 16 columns):\n",
      " #   Column          Non-Null Count  Dtype  \n",
      "---  ------          --------------  -----  \n",
      " 0   carname         1414 non-null   object \n",
      " 1   price           1414 non-null   float64\n",
      " 2   milage          1414 non-null   float64\n",
      " 3   hubraum         1085 non-null   float64\n",
      " 4   fuel_type       1407 non-null   object \n",
      " 5   transmission    1406 non-null   object \n",
      " 6   num_seats       1043 non-null   object \n",
      " 7   num_doors       1098 non-null   object \n",
      " 8   emission_class  1027 non-null   object \n",
      " 9   car_type        1414 non-null   object \n",
      " 10  num_owners      933 non-null    object \n",
      " 11  Model           1414 non-null   object \n",
      " 12  power_ps        1399 non-null   object \n",
      " 13  power_kw        1399 non-null   object \n",
      " 14  age             1414 non-null   float64\n",
      " 15  schaden         677 non-null    object \n",
      "dtypes: float64(4), object(12)\n",
      "memory usage: 220.1+ KB\n"
     ]
    }
   ],
   "source": [
    "df_cleaned.info()"
   ]
  },
  {
   "cell_type": "markdown",
   "id": "5eeb3b86",
   "metadata": {},
   "source": [
    "### Change dtypes of the columns"
   ]
  },
  {
   "cell_type": "code",
   "execution_count": 58,
   "id": "667e7628",
   "metadata": {},
   "outputs": [],
   "source": [
    "df_cleaned['fuel_type'] = df_cleaned['fuel_type'].astype(\"category\")\n",
    "df_cleaned['transmission'] = df_cleaned['transmission'].astype(\"category\")\n",
    "df_cleaned['num_seats'] = df_cleaned['num_seats'].astype(\"category\")\n",
    "df_cleaned['num_doors'] = df_cleaned['num_doors'].astype(\"category\")\n",
    "df_cleaned['emission_class'] = df_cleaned['emission_class'].astype(\"category\")\n",
    "df_cleaned['car_type'] = df_cleaned['car_type'].astype(\"category\")\n",
    "df_cleaned['num_owners'] = df_cleaned['num_owners'].astype(\"category\")\n",
    "df_cleaned['Model'] = df_cleaned['Model'].astype(\"category\")\n",
    "df_cleaned['power_ps'] = df_cleaned['power_ps'].astype(float)\n",
    "df_cleaned['power_kw'] = df_cleaned['power_kw'].astype(float)\n",
    "df_cleaned['schaden'] = df_cleaned['schaden'].astype(\"category\")"
   ]
  },
  {
   "cell_type": "code",
   "execution_count": 59,
   "id": "dd31a3ba",
   "metadata": {},
   "outputs": [
    {
     "data": {
      "text/html": [
       "<div>\n",
       "<style scoped>\n",
       "    .dataframe tbody tr th:only-of-type {\n",
       "        vertical-align: middle;\n",
       "    }\n",
       "\n",
       "    .dataframe tbody tr th {\n",
       "        vertical-align: top;\n",
       "    }\n",
       "\n",
       "    .dataframe thead th {\n",
       "        text-align: right;\n",
       "    }\n",
       "</style>\n",
       "<table border=\"1\" class=\"dataframe\">\n",
       "  <thead>\n",
       "    <tr style=\"text-align: right;\">\n",
       "      <th></th>\n",
       "      <th>carname</th>\n",
       "      <th>price</th>\n",
       "      <th>milage</th>\n",
       "      <th>hubraum</th>\n",
       "      <th>fuel_type</th>\n",
       "      <th>transmission</th>\n",
       "      <th>num_seats</th>\n",
       "      <th>num_doors</th>\n",
       "      <th>emission_class</th>\n",
       "      <th>car_type</th>\n",
       "      <th>num_owners</th>\n",
       "      <th>Model</th>\n",
       "      <th>power_ps</th>\n",
       "      <th>power_kw</th>\n",
       "      <th>age</th>\n",
       "      <th>schaden</th>\n",
       "    </tr>\n",
       "  </thead>\n",
       "  <tbody>\n",
       "    <tr>\n",
       "      <th>0</th>\n",
       "      <td>Mercedes-Benz Sprinter II Kasten 214 CDI Klima...</td>\n",
       "      <td>16950.0</td>\n",
       "      <td>198245.0</td>\n",
       "      <td>2.143</td>\n",
       "      <td>Diesel</td>\n",
       "      <td>Schaltgetriebe</td>\n",
       "      <td>3</td>\n",
       "      <td>4/5</td>\n",
       "      <td>Euro6</td>\n",
       "      <td>van</td>\n",
       "      <td>1</td>\n",
       "      <td>Sprinter</td>\n",
       "      <td>143.0</td>\n",
       "      <td>105.0</td>\n",
       "      <td>4.246667</td>\n",
       "      <td>unfallfrei</td>\n",
       "    </tr>\n",
       "    <tr>\n",
       "      <th>1</th>\n",
       "      <td>Mercedes-Benz GLB 220 d 4M Progressive AHK Dis...</td>\n",
       "      <td>60490.0</td>\n",
       "      <td>10529.0</td>\n",
       "      <td>1.950</td>\n",
       "      <td>Diesel</td>\n",
       "      <td>Automatik</td>\n",
       "      <td>5</td>\n",
       "      <td>4/5</td>\n",
       "      <td>Euro6d</td>\n",
       "      <td>suv</td>\n",
       "      <td>1</td>\n",
       "      <td>GLB</td>\n",
       "      <td>190.0</td>\n",
       "      <td>140.0</td>\n",
       "      <td>1.413333</td>\n",
       "      <td>unfallfrei</td>\n",
       "    </tr>\n",
       "    <tr>\n",
       "      <th>2</th>\n",
       "      <td>Mercedes-Benz A 200 7G*1.HAND*LED*NAVI*LEDER*K...</td>\n",
       "      <td>24990.0</td>\n",
       "      <td>91205.0</td>\n",
       "      <td>1.332</td>\n",
       "      <td>Benzin</td>\n",
       "      <td>Automatik</td>\n",
       "      <td>5</td>\n",
       "      <td>4/5</td>\n",
       "      <td>Euro6d</td>\n",
       "      <td>limousine</td>\n",
       "      <td>1</td>\n",
       "      <td>A-Klasse</td>\n",
       "      <td>136.0</td>\n",
       "      <td>100.0</td>\n",
       "      <td>2.496667</td>\n",
       "      <td>NaN</td>\n",
       "    </tr>\n",
       "    <tr>\n",
       "      <th>5</th>\n",
       "      <td>Mercedes-Benz C 180 *CABRIO*AMG LINE*9G*2.HAND...</td>\n",
       "      <td>31990.0</td>\n",
       "      <td>84925.0</td>\n",
       "      <td>1.595</td>\n",
       "      <td>Benzin</td>\n",
       "      <td>Automatik</td>\n",
       "      <td>4</td>\n",
       "      <td>2/3</td>\n",
       "      <td>Euro6</td>\n",
       "      <td>cabrio</td>\n",
       "      <td>2</td>\n",
       "      <td>C-Klasse</td>\n",
       "      <td>156.0</td>\n",
       "      <td>115.0</td>\n",
       "      <td>4.746667</td>\n",
       "      <td>NaN</td>\n",
       "    </tr>\n",
       "    <tr>\n",
       "      <th>7</th>\n",
       "      <td>Mercedes-Benz A 180 7G*1.HAND*LED*NAVI*LEDER*K...</td>\n",
       "      <td>24990.0</td>\n",
       "      <td>91205.0</td>\n",
       "      <td>1.332</td>\n",
       "      <td>Benzin</td>\n",
       "      <td>Automatik</td>\n",
       "      <td>5</td>\n",
       "      <td>4/5</td>\n",
       "      <td>Euro6d</td>\n",
       "      <td>limousine</td>\n",
       "      <td>1</td>\n",
       "      <td>A-Klasse</td>\n",
       "      <td>136.0</td>\n",
       "      <td>100.0</td>\n",
       "      <td>2.496667</td>\n",
       "      <td>NaN</td>\n",
       "    </tr>\n",
       "    <tr>\n",
       "      <th>...</th>\n",
       "      <td>...</td>\n",
       "      <td>...</td>\n",
       "      <td>...</td>\n",
       "      <td>...</td>\n",
       "      <td>...</td>\n",
       "      <td>...</td>\n",
       "      <td>...</td>\n",
       "      <td>...</td>\n",
       "      <td>...</td>\n",
       "      <td>...</td>\n",
       "      <td>...</td>\n",
       "      <td>...</td>\n",
       "      <td>...</td>\n",
       "      <td>...</td>\n",
       "      <td>...</td>\n",
       "      <td>...</td>\n",
       "    </tr>\n",
       "    <tr>\n",
       "      <th>1401</th>\n",
       "      <td>Mercedes-Benz S 500 4M Lim lang AMG Nightp. PD...</td>\n",
       "      <td>15500.0</td>\n",
       "      <td>375000.0</td>\n",
       "      <td>NaN</td>\n",
       "      <td>Diesel</td>\n",
       "      <td>Automatik</td>\n",
       "      <td>NaN</td>\n",
       "      <td>NaN</td>\n",
       "      <td>NaN</td>\n",
       "      <td>limousine</td>\n",
       "      <td>NaN</td>\n",
       "      <td>S-Klasse</td>\n",
       "      <td>150.0</td>\n",
       "      <td>110.0</td>\n",
       "      <td>4.663333</td>\n",
       "      <td>NaN</td>\n",
       "    </tr>\n",
       "    <tr>\n",
       "      <th>1405</th>\n",
       "      <td>Mercedes-Benz S -Klasse Lim. S 350 d L AMG</td>\n",
       "      <td>44500.0</td>\n",
       "      <td>115000.0</td>\n",
       "      <td>NaN</td>\n",
       "      <td>Benzin</td>\n",
       "      <td>Automatik</td>\n",
       "      <td>NaN</td>\n",
       "      <td>NaN</td>\n",
       "      <td>NaN</td>\n",
       "      <td>limousine</td>\n",
       "      <td>NaN</td>\n",
       "      <td>S-Klasse</td>\n",
       "      <td>401.0</td>\n",
       "      <td>295.0</td>\n",
       "      <td>4.163333</td>\n",
       "      <td>NaN</td>\n",
       "    </tr>\n",
       "    <tr>\n",
       "      <th>1406</th>\n",
       "      <td>Mercedes-Benz Vito 119 CDI Tourer Select 4-Mat...</td>\n",
       "      <td>36000.0</td>\n",
       "      <td>66000.0</td>\n",
       "      <td>NaN</td>\n",
       "      <td>Benzin</td>\n",
       "      <td>Automatik</td>\n",
       "      <td>NaN</td>\n",
       "      <td>NaN</td>\n",
       "      <td>NaN</td>\n",
       "      <td>sport</td>\n",
       "      <td>NaN</td>\n",
       "      <td>Vito</td>\n",
       "      <td>381.0</td>\n",
       "      <td>280.0</td>\n",
       "      <td>4.413333</td>\n",
       "      <td>NaN</td>\n",
       "    </tr>\n",
       "    <tr>\n",
       "      <th>1407</th>\n",
       "      <td>Mercedes-Benz Vito Tourer 116 CDI Lang BlueTEC...</td>\n",
       "      <td>33900.0</td>\n",
       "      <td>35000.0</td>\n",
       "      <td>NaN</td>\n",
       "      <td>Diesel</td>\n",
       "      <td>Automatik</td>\n",
       "      <td>NaN</td>\n",
       "      <td>4/5</td>\n",
       "      <td>Euro6d</td>\n",
       "      <td>limousine</td>\n",
       "      <td>1</td>\n",
       "      <td>Vito</td>\n",
       "      <td>194.0</td>\n",
       "      <td>143.0</td>\n",
       "      <td>4.246667</td>\n",
       "      <td>unfallfrei</td>\n",
       "    </tr>\n",
       "    <tr>\n",
       "      <th>1409</th>\n",
       "      <td>Mercedes-Benz Vito Marco Polo 220d Activity Ed...</td>\n",
       "      <td>22400.0</td>\n",
       "      <td>67500.0</td>\n",
       "      <td>NaN</td>\n",
       "      <td>Diesel</td>\n",
       "      <td>Automatik</td>\n",
       "      <td>5</td>\n",
       "      <td>4/5</td>\n",
       "      <td>Euro6</td>\n",
       "      <td>kombi</td>\n",
       "      <td>1</td>\n",
       "      <td>MarcoPolo</td>\n",
       "      <td>177.0</td>\n",
       "      <td>130.0</td>\n",
       "      <td>4.580000</td>\n",
       "      <td>unfallfrei</td>\n",
       "    </tr>\n",
       "  </tbody>\n",
       "</table>\n",
       "<p>1414 rows × 16 columns</p>\n",
       "</div>"
      ],
      "text/plain": [
       "                                                carname    price    milage  \\\n",
       "0     Mercedes-Benz Sprinter II Kasten 214 CDI Klima...  16950.0  198245.0   \n",
       "1     Mercedes-Benz GLB 220 d 4M Progressive AHK Dis...  60490.0   10529.0   \n",
       "2     Mercedes-Benz A 200 7G*1.HAND*LED*NAVI*LEDER*K...  24990.0   91205.0   \n",
       "5     Mercedes-Benz C 180 *CABRIO*AMG LINE*9G*2.HAND...  31990.0   84925.0   \n",
       "7     Mercedes-Benz A 180 7G*1.HAND*LED*NAVI*LEDER*K...  24990.0   91205.0   \n",
       "...                                                 ...      ...       ...   \n",
       "1401  Mercedes-Benz S 500 4M Lim lang AMG Nightp. PD...  15500.0  375000.0   \n",
       "1405         Mercedes-Benz S -Klasse Lim. S 350 d L AMG  44500.0  115000.0   \n",
       "1406  Mercedes-Benz Vito 119 CDI Tourer Select 4-Mat...  36000.0   66000.0   \n",
       "1407  Mercedes-Benz Vito Tourer 116 CDI Lang BlueTEC...  33900.0   35000.0   \n",
       "1409  Mercedes-Benz Vito Marco Polo 220d Activity Ed...  22400.0   67500.0   \n",
       "\n",
       "      hubraum fuel_type    transmission num_seats num_doors emission_class  \\\n",
       "0       2.143    Diesel  Schaltgetriebe         3       4/5          Euro6   \n",
       "1       1.950    Diesel       Automatik         5       4/5         Euro6d   \n",
       "2       1.332    Benzin       Automatik         5       4/5         Euro6d   \n",
       "5       1.595    Benzin       Automatik         4       2/3          Euro6   \n",
       "7       1.332    Benzin       Automatik         5       4/5         Euro6d   \n",
       "...       ...       ...             ...       ...       ...            ...   \n",
       "1401      NaN    Diesel       Automatik       NaN       NaN            NaN   \n",
       "1405      NaN    Benzin       Automatik       NaN       NaN            NaN   \n",
       "1406      NaN    Benzin       Automatik       NaN       NaN            NaN   \n",
       "1407      NaN    Diesel       Automatik       NaN       4/5         Euro6d   \n",
       "1409      NaN    Diesel       Automatik         5       4/5          Euro6   \n",
       "\n",
       "       car_type num_owners      Model  power_ps  power_kw       age  \\\n",
       "0           van          1   Sprinter     143.0     105.0  4.246667   \n",
       "1           suv          1        GLB     190.0     140.0  1.413333   \n",
       "2     limousine          1   A-Klasse     136.0     100.0  2.496667   \n",
       "5        cabrio          2   C-Klasse     156.0     115.0  4.746667   \n",
       "7     limousine          1   A-Klasse     136.0     100.0  2.496667   \n",
       "...         ...        ...        ...       ...       ...       ...   \n",
       "1401  limousine        NaN   S-Klasse     150.0     110.0  4.663333   \n",
       "1405  limousine        NaN   S-Klasse     401.0     295.0  4.163333   \n",
       "1406      sport        NaN       Vito     381.0     280.0  4.413333   \n",
       "1407  limousine          1       Vito     194.0     143.0  4.246667   \n",
       "1409      kombi          1  MarcoPolo     177.0     130.0  4.580000   \n",
       "\n",
       "         schaden  \n",
       "0     unfallfrei  \n",
       "1     unfallfrei  \n",
       "2            NaN  \n",
       "5            NaN  \n",
       "7            NaN  \n",
       "...          ...  \n",
       "1401         NaN  \n",
       "1405         NaN  \n",
       "1406         NaN  \n",
       "1407  unfallfrei  \n",
       "1409  unfallfrei  \n",
       "\n",
       "[1414 rows x 16 columns]"
      ]
     },
     "execution_count": 59,
     "metadata": {},
     "output_type": "execute_result"
    }
   ],
   "source": [
    "df_cleaned"
   ]
  },
  {
   "cell_type": "markdown",
   "id": "185bae98-1c08-4e39-96e3-e7b7b1e68a71",
   "metadata": {},
   "source": [
    "## Bereinigung der Missing Values"
   ]
  },
  {
   "cell_type": "markdown",
   "id": "256da689-8af9-475b-b7af-889b37030dba",
   "metadata": {},
   "source": [
    "Nachdem die Daten nun in der ersten Runde aufbereitet wurden, werde ich mich in den kommenden Zeilen um die Missing Values kümmern."
   ]
  },
  {
   "cell_type": "code",
   "execution_count": 60,
   "id": "0f344801-b89c-40e4-89e9-92bd0defda57",
   "metadata": {},
   "outputs": [
    {
     "name": "stdout",
     "output_type": "stream",
     "text": [
      "<class 'pandas.core.frame.DataFrame'>\n",
      "Int64Index: 1414 entries, 0 to 1409\n",
      "Data columns (total 16 columns):\n",
      " #   Column          Non-Null Count  Dtype   \n",
      "---  ------          --------------  -----   \n",
      " 0   carname         1414 non-null   object  \n",
      " 1   price           1414 non-null   float64 \n",
      " 2   milage          1414 non-null   float64 \n",
      " 3   hubraum         1085 non-null   float64 \n",
      " 4   fuel_type       1407 non-null   category\n",
      " 5   transmission    1406 non-null   category\n",
      " 6   num_seats       1043 non-null   category\n",
      " 7   num_doors       1098 non-null   category\n",
      " 8   emission_class  1027 non-null   category\n",
      " 9   car_type        1414 non-null   category\n",
      " 10  num_owners      933 non-null    category\n",
      " 11  Model           1414 non-null   category\n",
      " 12  power_ps        1399 non-null   float64 \n",
      " 13  power_kw        1399 non-null   float64 \n",
      " 14  age             1414 non-null   float64 \n",
      " 15  schaden         677 non-null    category\n",
      "dtypes: category(9), float64(6), object(1)\n",
      "memory usage: 136.0+ KB\n"
     ]
    }
   ],
   "source": [
    "df_cleaned.info()"
   ]
  },
  {
   "cell_type": "code",
   "execution_count": 61,
   "id": "2e3a1e54-9044-4a79-886f-43a7b808018b",
   "metadata": {},
   "outputs": [
    {
     "data": {
      "text/plain": [
       "<AxesSubplot:>"
      ]
     },
     "execution_count": 61,
     "metadata": {},
     "output_type": "execute_result"
    },
    {
     "data": {
      "image/png": "[encoded data removed]",
      "text/plain": [
       "<Figure size 842.4x595.44 with 1 Axes>"
      ]
     },
     "metadata": {},
     "output_type": "display_data"
    }
   ],
   "source": [
    "sns.heatmap(df_cleaned.isnull(), cbar=False)"
   ]
  },
  {
   "cell_type": "code",
   "execution_count": 62,
   "id": "146a1bb3-d134-4545-9c5e-9b9277d7c651",
   "metadata": {},
   "outputs": [
    {
     "data": {
      "text/plain": [
       "carname             0\n",
       "price               0\n",
       "milage              0\n",
       "hubraum           329\n",
       "fuel_type           7\n",
       "transmission        8\n",
       "num_seats         371\n",
       "num_doors         316\n",
       "emission_class    387\n",
       "car_type            0\n",
       "num_owners        481\n",
       "Model               0\n",
       "power_ps           15\n",
       "power_kw           15\n",
       "age                 0\n",
       "schaden           737\n",
       "dtype: int64"
      ]
     },
     "execution_count": 62,
     "metadata": {},
     "output_type": "execute_result"
    }
   ],
   "source": [
    "df_cleaned.isna().sum()"
   ]
  },
  {
   "cell_type": "markdown",
   "id": "46318eb5-bae3-43ee-9966-c332e455a2b6",
   "metadata": {},
   "source": [
    "### Bereinung der MVs von Hubraum"
   ]
  },
  {
   "cell_type": "code",
   "execution_count": 63,
   "id": "e6bff779-aa1a-471d-aa09-1c7aa0592e91",
   "metadata": {},
   "outputs": [
    {
     "data": {
      "text/plain": [
       "2.2498516129032273"
      ]
     },
     "execution_count": 63,
     "metadata": {},
     "output_type": "execute_result"
    },
    {
     "data": {
      "image/png": "[encoded data removed]",
      "text/plain": [
       "<Figure size 842.4x595.44 with 1 Axes>"
      ]
     },
     "metadata": {},
     "output_type": "display_data"
    }
   ],
   "source": [
    "sns.countplot(data=df_cleaned, x=\"hubraum\")\n",
    "df_cleaned.hubraum.mean()"
   ]
  },
  {
   "cell_type": "code",
   "execution_count": 64,
   "id": "096e8e6a-59fd-46af-8d9c-1a4fe2d8d265",
   "metadata": {},
   "outputs": [
    {
     "data": {
      "text/plain": [
       "<AxesSubplot:xlabel='hubraum', ylabel='price'>"
      ]
     },
     "execution_count": 64,
     "metadata": {},
     "output_type": "execute_result"
    },
    {
     "data": {
      "image/png": "[encoded data removed]",
      "text/plain": [
       "<Figure size 842.4x595.44 with 1 Axes>"
      ]
     },
     "metadata": {},
     "output_type": "display_data"
    }
   ],
   "source": [
    "sns.scatterplot(data=df_cleaned, x=\"hubraum\", y=\"price\")"
   ]
  },
  {
   "cell_type": "code",
   "execution_count": 65,
   "id": "435b124c-63b6-48d2-bafe-6ee9b733598f",
   "metadata": {},
   "outputs": [
    {
     "data": {
      "text/html": [
       "<div>\n",
       "<style scoped>\n",
       "    .dataframe tbody tr th:only-of-type {\n",
       "        vertical-align: middle;\n",
       "    }\n",
       "\n",
       "    .dataframe tbody tr th {\n",
       "        vertical-align: top;\n",
       "    }\n",
       "\n",
       "    .dataframe thead th {\n",
       "        text-align: right;\n",
       "    }\n",
       "</style>\n",
       "<table border=\"1\" class=\"dataframe\">\n",
       "  <thead>\n",
       "    <tr style=\"text-align: right;\">\n",
       "      <th></th>\n",
       "      <th>price</th>\n",
       "      <th>hubraum</th>\n",
       "    </tr>\n",
       "  </thead>\n",
       "  <tbody>\n",
       "    <tr>\n",
       "      <th>price</th>\n",
       "      <td>1.000000</td>\n",
       "      <td>0.576906</td>\n",
       "    </tr>\n",
       "    <tr>\n",
       "      <th>hubraum</th>\n",
       "      <td>0.576906</td>\n",
       "      <td>1.000000</td>\n",
       "    </tr>\n",
       "  </tbody>\n",
       "</table>\n",
       "</div>"
      ],
      "text/plain": [
       "            price   hubraum\n",
       "price    1.000000  0.576906\n",
       "hubraum  0.576906  1.000000"
      ]
     },
     "execution_count": 65,
     "metadata": {},
     "output_type": "execute_result"
    }
   ],
   "source": [
    "df_cleaned[['price', 'hubraum']].corr()"
   ]
  },
  {
   "cell_type": "code",
   "execution_count": 66,
   "id": "d5e16945-3d7e-433b-a9a7-2c7abeb7607f",
   "metadata": {},
   "outputs": [
    {
     "data": {
      "text/plain": [
       "<AxesSubplot:>"
      ]
     },
     "execution_count": 66,
     "metadata": {},
     "output_type": "execute_result"
    },
    {
     "data": {
      "image/png": "[encoded data removed]",
      "text/plain": [
       "<Figure size 842.4x595.44 with 2 Axes>"
      ]
     },
     "metadata": {},
     "output_type": "display_data"
    }
   ],
   "source": [
    "corr = df_cleaned.corr()\n",
    "#matrix = np.triu(corr)\n",
    "sns.heatmap(corr, annot = True, square= True)"
   ]
  },
  {
   "cell_type": "code",
   "execution_count": 67,
   "id": "d10471fa-ec19-4012-9b46-4de66d23e9ff",
   "metadata": {},
   "outputs": [
    {
     "data": {
      "text/plain": [
       "array([[1.695e+04, 2.143e+00],\n",
       "       [6.049e+04, 1.950e+00],\n",
       "       [2.499e+04, 1.332e+00],\n",
       "       ...,\n",
       "       [3.600e+04,       nan],\n",
       "       [3.390e+04,       nan],\n",
       "       [2.240e+04,       nan]])"
      ]
     },
     "execution_count": 67,
     "metadata": {},
     "output_type": "execute_result"
    }
   ],
   "source": [
    "x = df_cleaned[['price', 'hubraum']].to_numpy()\n",
    "type(x)\n",
    "x"
   ]
  },
  {
   "cell_type": "markdown",
   "id": "084fba98-4909-425a-8512-8a974cd38c98",
   "metadata": {},
   "source": [
    "Zwischen price und hubraum besteht eine hohe korrelation -> Je höher der Preis, desto größer der Hubraum. Es besteht in diesem Fall eine positive Beziehung. So würde ich mich für eine deterministische Regressions Imputation entscheiden, um die MVs zu berechnen."
   ]
  },
  {
   "cell_type": "code",
   "execution_count": 68,
   "id": "4a9887ee-1d23-4fb5-8c6f-836cf1e06db7",
   "metadata": {},
   "outputs": [
    {
     "name": "stdout",
     "output_type": "stream",
     "text": [
      "Original x: \n",
      " [[1.695e+04 2.143e+00]\n",
      " [6.049e+04 1.950e+00]\n",
      " [2.499e+04 1.332e+00]\n",
      " ...\n",
      " [3.600e+04       nan]\n",
      " [3.390e+04       nan]\n",
      " [2.240e+04       nan]]\n",
      "Deterministic Regression Imputation of x: \n",
      " [[1.69500000e+04 2.14300000e+00]\n",
      " [6.04900000e+04 1.95000000e+00]\n",
      " [2.49900000e+04 1.33200000e+00]\n",
      " ...\n",
      " [3.60000000e+04 2.16195251e+00]\n",
      " [3.39000000e+04 2.13078524e+00]\n",
      " [2.24000000e+04 1.96010734e+00]]\n"
     ]
    }
   ],
   "source": [
    "from sklearn.experimental import enable_iterative_imputer\n",
    "from sklearn.impute import IterativeImputer\n",
    "\n",
    "print(\"Original x: \\n\",x)\n",
    "\n",
    "#Initialize Deterministic Regression Imputation with 10 iterations\n",
    "imp = IterativeImputer(max_iter=10, random_state=0)\n",
    "#imp2 = IterativeImputer(max_iter=10, sample_posterior=True, random_state=0)\n",
    "\n",
    "#Fit and transform array x and print the result\n",
    "imp.fit(x)\n",
    "#imp2.fit(x)\n",
    "x_cleaned = imp.transform(x)\n",
    "#x_cleaned2 = np.round(imp2.transform(x))\n",
    "print(\"Deterministic Regression Imputation of x: \\n\", x_cleaned)"
   ]
  },
  {
   "cell_type": "code",
   "execution_count": 69,
   "id": "089c0332-001d-4c10-8a15-f4115a1002f8",
   "metadata": {},
   "outputs": [],
   "source": [
    "dataset = pd.DataFrame({'price': x_cleaned[:, 0], 'hubraum': x_cleaned[:, 1]})\n",
    "df_cleaned['hubraum_regimputation'] = dataset.hubraum\n",
    "df_cleaned['hubraum_regimputation'] = df_cleaned['hubraum_regimputation'].round(3)"
   ]
  },
  {
   "cell_type": "code",
   "execution_count": 70,
   "id": "ad1fa1da-4749-4653-8a0b-131e64f2de69",
   "metadata": {},
   "outputs": [
    {
     "data": {
      "text/plain": [
       "<AxesSubplot:>"
      ]
     },
     "execution_count": 70,
     "metadata": {},
     "output_type": "execute_result"
    },
    {
     "data": {
      "image/png": "[encoded data removed]",
      "text/plain": [
       "<Figure size 842.4x595.44 with 1 Axes>"
      ]
     },
     "metadata": {},
     "output_type": "display_data"
    }
   ],
   "source": [
    "sns.heatmap(df_cleaned.isnull(), cbar=False)"
   ]
  },
  {
   "cell_type": "code",
   "execution_count": 71,
   "id": "4081a946-9c5e-4b43-8f90-5b39a3ed89d4",
   "metadata": {},
   "outputs": [
    {
     "data": {
      "text/plain": [
       "<AxesSubplot:>"
      ]
     },
     "execution_count": 71,
     "metadata": {},
     "output_type": "execute_result"
    },
    {
     "data": {
      "image/png": "[encoded data removed]",
      "text/plain": [
       "<Figure size 842.4x595.44 with 2 Axes>"
      ]
     },
     "metadata": {},
     "output_type": "display_data"
    }
   ],
   "source": [
    "corr = df_cleaned.corr()\n",
    "#matrix = np.triu(corr)\n",
    "sns.heatmap(corr, annot = True, square= True)"
   ]
  },
  {
   "cell_type": "markdown",
   "id": "8eeecea3-ae17-41a5-9c93-d96359950389",
   "metadata": {},
   "source": [
    "Es hat sich herausgestellt,dass die Beziehung zwischen Hubraum und der Zielvariable price durch die Regressions Imputation deutlich geschwächt wurde. (Von 0,58 auf -0,0015 gesunken) So entscheide ich mich doch dafür die MVs einfach zu droppen."
   ]
  },
  {
   "cell_type": "code",
   "execution_count": 72,
   "id": "6595ad61-674a-4e70-a7b2-9d5579cb3403",
   "metadata": {},
   "outputs": [],
   "source": [
    "df_cleaned = df_cleaned.drop(['hubraum_regimputation'], axis=1)"
   ]
  },
  {
   "cell_type": "code",
   "execution_count": 73,
   "id": "c4272cda-41ee-4c15-98c7-58e93679c0a0",
   "metadata": {},
   "outputs": [],
   "source": [
    "df_cleaned = df_cleaned.dropna(subset=['hubraum'])"
   ]
  },
  {
   "cell_type": "code",
   "execution_count": 74,
   "id": "d6a748f3-6843-47ae-955e-6cbd2a1ab72b",
   "metadata": {},
   "outputs": [
    {
     "name": "stdout",
     "output_type": "stream",
     "text": [
      "<class 'pandas.core.frame.DataFrame'>\n",
      "Int64Index: 1085 entries, 0 to 1408\n",
      "Data columns (total 16 columns):\n",
      " #   Column          Non-Null Count  Dtype   \n",
      "---  ------          --------------  -----   \n",
      " 0   carname         1085 non-null   object  \n",
      " 1   price           1085 non-null   float64 \n",
      " 2   milage          1085 non-null   float64 \n",
      " 3   hubraum         1085 non-null   float64 \n",
      " 4   fuel_type       1084 non-null   category\n",
      " 5   transmission    1081 non-null   category\n",
      " 6   num_seats       1028 non-null   category\n",
      " 7   num_doors       1080 non-null   category\n",
      " 8   emission_class  1012 non-null   category\n",
      " 9   car_type        1085 non-null   category\n",
      " 10  num_owners      921 non-null    category\n",
      " 11  Model           1085 non-null   category\n",
      " 12  power_ps        1084 non-null   float64 \n",
      " 13  power_kw        1084 non-null   float64 \n",
      " 14  age             1085 non-null   float64 \n",
      " 15  schaden         666 non-null    category\n",
      "dtypes: category(9), float64(6), object(1)\n",
      "memory usage: 80.3+ KB\n"
     ]
    }
   ],
   "source": [
    "df_cleaned.info()"
   ]
  },
  {
   "cell_type": "code",
   "execution_count": 75,
   "id": "a4cf5dae-f168-46ab-a3c3-0fb57e6f6b49",
   "metadata": {},
   "outputs": [
    {
     "data": {
      "text/plain": [
       "<AxesSubplot:>"
      ]
     },
     "execution_count": 75,
     "metadata": {},
     "output_type": "execute_result"
    },
    {
     "data": {
      "image/png": "[encoded data removed]",
      "text/plain": [
       "<Figure size 842.4x595.44 with 1 Axes>"
      ]
     },
     "metadata": {},
     "output_type": "display_data"
    }
   ],
   "source": [
    "sns.heatmap(df_cleaned.isnull(), cbar=False)"
   ]
  },
  {
   "cell_type": "markdown",
   "id": "f63dcdfe-8848-4662-acb5-64a413c5587b",
   "metadata": {},
   "source": [
    "### Bereinung der MVs von num_seats"
   ]
  },
  {
   "cell_type": "code",
   "execution_count": 76,
   "id": "d3125e87-81d4-4770-8547-694c50545415",
   "metadata": {},
   "outputs": [
    {
     "data": {
      "text/plain": [
       "57"
      ]
     },
     "execution_count": 76,
     "metadata": {},
     "output_type": "execute_result"
    }
   ],
   "source": [
    "df_cleaned.num_seats.isna().sum()"
   ]
  },
  {
   "cell_type": "code",
   "execution_count": 77,
   "id": "4fb41d75-672f-4be7-86f3-f731c2bcd067",
   "metadata": {},
   "outputs": [
    {
     "data": {
      "text/plain": [
       "<AxesSubplot:xlabel='num_seats', ylabel='count'>"
      ]
     },
     "execution_count": 77,
     "metadata": {},
     "output_type": "execute_result"
    },
    {
     "data": {
      "image/png": "[encoded data removed]",
      "text/plain": [
       "<Figure size 842.4x595.44 with 1 Axes>"
      ]
     },
     "metadata": {},
     "output_type": "display_data"
    }
   ],
   "source": [
    "sns.countplot(data=df_cleaned, x=\"num_seats\")"
   ]
  },
  {
   "cell_type": "markdown",
   "id": "65dda739-ab1b-406f-8e77-a4bc6d8db19a",
   "metadata": {},
   "source": [
    "Da num_seats sehr häufig vorkommt, der ich die MVS mit most_frequent bzw. Modus ersetzen."
   ]
  },
  {
   "cell_type": "code",
   "execution_count": 78,
   "id": "29ac59d1-cb11-4752-9b4f-875ad8854e13",
   "metadata": {},
   "outputs": [],
   "source": [
    "#df_cleaned.num_seats.mode().iloc[0]\n",
    "df_cleaned.num_seats = df_cleaned.num_seats.fillna(df_cleaned.num_seats.mode().iloc[0])"
   ]
  },
  {
   "cell_type": "code",
   "execution_count": 79,
   "id": "eaa04580-b0e6-47d6-b10e-a46b6f8ac58b",
   "metadata": {},
   "outputs": [
    {
     "data": {
      "text/plain": [
       "0"
      ]
     },
     "execution_count": 79,
     "metadata": {},
     "output_type": "execute_result"
    }
   ],
   "source": [
    "df_cleaned.num_seats.isna().sum()"
   ]
  },
  {
   "cell_type": "code",
   "execution_count": 80,
   "id": "5df8f1a1-3657-4ebb-8a84-654c90c4c028",
   "metadata": {},
   "outputs": [
    {
     "data": {
      "text/plain": [
       "<AxesSubplot:>"
      ]
     },
     "execution_count": 80,
     "metadata": {},
     "output_type": "execute_result"
    },
    {
     "data": {
      "image/png": "[encoded data removed]",
      "text/plain": [
       "<Figure size 842.4x595.44 with 1 Axes>"
      ]
     },
     "metadata": {},
     "output_type": "display_data"
    }
   ],
   "source": [
    "sns.heatmap(df_cleaned.isnull(), cbar=False)"
   ]
  },
  {
   "cell_type": "markdown",
   "id": "1e8c9cac-8175-4ada-aeeb-65caa81daa7e",
   "metadata": {},
   "source": [
    "### Bereinung der MVs von emission_class"
   ]
  },
  {
   "cell_type": "code",
   "execution_count": 81,
   "id": "ceb33c9b-09cd-436a-933d-ea93d3436e21",
   "metadata": {},
   "outputs": [
    {
     "data": {
      "text/plain": [
       "73"
      ]
     },
     "execution_count": 81,
     "metadata": {},
     "output_type": "execute_result"
    }
   ],
   "source": [
    "df_cleaned.emission_class.isna().sum()"
   ]
  },
  {
   "cell_type": "code",
   "execution_count": 82,
   "id": "51f64dcb-eed5-433e-9430-c70930c7f2e4",
   "metadata": {},
   "outputs": [],
   "source": [
    "df_cleaned = df_cleaned.dropna(subset=['emission_class'])"
   ]
  },
  {
   "cell_type": "code",
   "execution_count": 83,
   "id": "4549dce0-4881-4f23-8ff2-6816bdd0b233",
   "metadata": {},
   "outputs": [
    {
     "data": {
      "text/plain": [
       "<AxesSubplot:>"
      ]
     },
     "execution_count": 83,
     "metadata": {},
     "output_type": "execute_result"
    },
    {
     "data": {
      "image/png": "[encoded data removed]",
      "text/plain": [
       "<Figure size 842.4x595.44 with 1 Axes>"
      ]
     },
     "metadata": {},
     "output_type": "display_data"
    }
   ],
   "source": [
    "sns.heatmap(df_cleaned.isnull(), cbar=False)"
   ]
  },
  {
   "cell_type": "markdown",
   "id": "88aa5917-5846-4a7e-80c1-c2111dcbb8e7",
   "metadata": {},
   "source": [
    "### Bereinung der MVs von emission_class"
   ]
  },
  {
   "cell_type": "code",
   "execution_count": 84,
   "id": "cebd173f-11a3-41d5-b3ac-5659712bd401",
   "metadata": {},
   "outputs": [
    {
     "data": {
      "text/plain": [
       "105"
      ]
     },
     "execution_count": 84,
     "metadata": {},
     "output_type": "execute_result"
    }
   ],
   "source": [
    "df_cleaned.num_owners.isna().sum()"
   ]
  },
  {
   "cell_type": "code",
   "execution_count": 85,
   "id": "37ca73a0-c4bc-4ae3-b446-e959ac992f16",
   "metadata": {},
   "outputs": [],
   "source": [
    "# Da num_owners ebenfalls eine wichtige Variable für das Modell ist, werde nur die MVS entfernen und nicht die ganze Spalte.\n",
    "df_cleaned = df_cleaned.dropna(subset=['num_owners'])"
   ]
  },
  {
   "cell_type": "code",
   "execution_count": 86,
   "id": "41f1a17e-f979-4f4d-a2f5-a3f216dff959",
   "metadata": {},
   "outputs": [
    {
     "data": {
      "text/plain": [
       "0"
      ]
     },
     "execution_count": 86,
     "metadata": {},
     "output_type": "execute_result"
    }
   ],
   "source": [
    "df_cleaned.num_owners.isna().sum()"
   ]
  },
  {
   "cell_type": "markdown",
   "id": "3c968314-8084-40b2-920c-6f1b73794d96",
   "metadata": {},
   "source": [
    "### Bereinung der MVs von schaden"
   ]
  },
  {
   "cell_type": "code",
   "execution_count": 87,
   "id": "f6a0911a-5462-4562-ab19-d5eb98366082",
   "metadata": {},
   "outputs": [
    {
     "data": {
      "text/plain": [
       "unfallfrei    616\n",
       "repariert       2\n",
       "Name: schaden, dtype: int64"
      ]
     },
     "execution_count": 87,
     "metadata": {},
     "output_type": "execute_result"
    }
   ],
   "source": [
    "df_cleaned.schaden.value_counts()"
   ]
  },
  {
   "cell_type": "code",
   "execution_count": 88,
   "id": "da454266-a1c1-48df-b2f4-6fe4d4ebd92e",
   "metadata": {},
   "outputs": [
    {
     "data": {
      "text/plain": [
       "289"
      ]
     },
     "execution_count": 88,
     "metadata": {},
     "output_type": "execute_result"
    }
   ],
   "source": [
    "df_cleaned.schaden.isna().sum()"
   ]
  },
  {
   "cell_type": "markdown",
   "id": "3c847205-8d87-4b0b-9a69-c69fecb4f7a4",
   "metadata": {},
   "source": [
    "Da sehr viele MVs vorliegen und es hauptsächlich um unfallfreie Fahrzeuge handelt, hat dieses Feature keine Aussagekraft für die Zielvariable price. Deshalb werde ich dieses Feature entfernen."
   ]
  },
  {
   "cell_type": "code",
   "execution_count": 89,
   "id": "f2ba0a11-cee7-468d-ba93-6f9aeba850bb",
   "metadata": {},
   "outputs": [],
   "source": [
    "df_cleaned = df_cleaned.drop(['schaden'], axis=1)"
   ]
  },
  {
   "cell_type": "code",
   "execution_count": 90,
   "id": "2aa39a25-2796-4621-bc53-3293911420d7",
   "metadata": {},
   "outputs": [
    {
     "data": {
      "text/plain": [
       "carname           0\n",
       "price             0\n",
       "milage            0\n",
       "hubraum           0\n",
       "fuel_type         1\n",
       "transmission      2\n",
       "num_seats         0\n",
       "num_doors         4\n",
       "emission_class    0\n",
       "car_type          0\n",
       "num_owners        0\n",
       "Model             0\n",
       "power_ps          1\n",
       "power_kw          1\n",
       "age               0\n",
       "dtype: int64"
      ]
     },
     "execution_count": 90,
     "metadata": {},
     "output_type": "execute_result"
    }
   ],
   "source": [
    "df_cleaned.isna().sum()"
   ]
  },
  {
   "cell_type": "code",
   "execution_count": 91,
   "id": "005f08e3-f62f-4269-ae95-c121a6079682",
   "metadata": {},
   "outputs": [],
   "source": [
    "df_cleaned = df_cleaned.dropna()"
   ]
  },
  {
   "cell_type": "code",
   "execution_count": 92,
   "id": "793dceae-e64f-4385-aa7a-84b9ddd70dd9",
   "metadata": {},
   "outputs": [
    {
     "data": {
      "text/plain": [
       "carname           0\n",
       "price             0\n",
       "milage            0\n",
       "hubraum           0\n",
       "fuel_type         0\n",
       "transmission      0\n",
       "num_seats         0\n",
       "num_doors         0\n",
       "emission_class    0\n",
       "car_type          0\n",
       "num_owners        0\n",
       "Model             0\n",
       "power_ps          0\n",
       "power_kw          0\n",
       "age               0\n",
       "dtype: int64"
      ]
     },
     "execution_count": 92,
     "metadata": {},
     "output_type": "execute_result"
    }
   ],
   "source": [
    "df_cleaned.isna().sum()"
   ]
  },
  {
   "cell_type": "code",
   "execution_count": 93,
   "id": "6cdb124f-74aa-41ba-942c-b37444d974ad",
   "metadata": {},
   "outputs": [
    {
     "name": "stdout",
     "output_type": "stream",
     "text": [
      "<class 'pandas.core.frame.DataFrame'>\n",
      "Int64Index: 900 entries, 0 to 1408\n",
      "Data columns (total 15 columns):\n",
      " #   Column          Non-Null Count  Dtype   \n",
      "---  ------          --------------  -----   \n",
      " 0   carname         900 non-null    object  \n",
      " 1   price           900 non-null    float64 \n",
      " 2   milage          900 non-null    float64 \n",
      " 3   hubraum         900 non-null    float64 \n",
      " 4   fuel_type       900 non-null    category\n",
      " 5   transmission    900 non-null    category\n",
      " 6   num_seats       900 non-null    category\n",
      " 7   num_doors       900 non-null    category\n",
      " 8   emission_class  900 non-null    category\n",
      " 9   car_type        900 non-null    category\n",
      " 10  num_owners      900 non-null    category\n",
      " 11  Model           900 non-null    category\n",
      " 12  power_ps        900 non-null    float64 \n",
      " 13  power_kw        900 non-null    float64 \n",
      " 14  age             900 non-null    float64 \n",
      "dtypes: category(8), float64(6), object(1)\n",
      "memory usage: 66.1+ KB\n"
     ]
    }
   ],
   "source": [
    "df_cleaned.info()"
   ]
  },
  {
   "cell_type": "code",
   "execution_count": null,
   "id": "2a6277af-204a-4e31-a968-3c6cafc57c10",
   "metadata": {},
   "outputs": [],
   "source": []
  }
 ],
 "metadata": {
  "kernelspec": {
   "display_name": "Python 3",
   "language": "python",
   "name": "python3"
  },
  "language_info": {
   "codemirror_mode": {
    "name": "ipython",
    "version": 3
   },
   "file_extension": ".py",
   "mimetype": "text/x-python",
   "name": "python",
   "nbconvert_exporter": "python",
   "pygments_lexer": "ipython3",
   "version": "3.8.8"
  }
 },
 "nbformat": 4,
 "nbformat_minor": 5
}
