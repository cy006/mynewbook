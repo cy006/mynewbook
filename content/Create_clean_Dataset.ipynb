{
 "cells": [
  {
   "cell_type": "markdown",
   "id": "5bb65483-ff58-4ec4-8f28-877362e50b09",
   "metadata": {},
   "source": [
    "# 2. Create clean Dataset"
   ]
  },
  {
   "cell_type": "markdown",
   "id": "2d791d56-788b-476f-8334-88c69f85241e",
   "metadata": {},
   "source": [
    "## Import dependencies"
   ]
  },
  {
   "cell_type": "code",
   "execution_count": 1,
   "id": "d72ef9d5-4027-4c32-b109-75fc93b4fb1d",
   "metadata": {},
   "outputs": [],
   "source": [
    "import numpy as np\n",
    "import pandas as pd\n",
    "import matplotlib.pyplot as plt\n",
    "import seaborn as sns"
   ]
  },
  {
   "cell_type": "markdown",
   "id": "1c563ae3-a6dc-44c1-9ee4-e07951165f7d",
   "metadata": {},
   "source": [
    "## Cleaning dataset"
   ]
  },
  {
   "cell_type": "code",
   "execution_count": 2,
   "id": "b95f361d-76b1-4aa6-b13c-708cbf443657",
   "metadata": {},
   "outputs": [],
   "source": [
    "df = pd.read_csv('/Users/cenkyagkan/Desktop/OMM/7.Semester/Applied Data Analytics/Leasing_risk/Dataset1/train_u6lujuX_CVtuZ9i.csv')"
   ]
  },
  {
   "cell_type": "code",
   "execution_count": 3,
   "id": "a9ce1da0-26c6-4a62-a501-796da93948c4",
   "metadata": {},
   "outputs": [
    {
     "name": "stdout",
     "output_type": "stream",
     "text": [
      "<class 'pandas.core.frame.DataFrame'>\n",
      "RangeIndex: 614 entries, 0 to 613\n",
      "Data columns (total 13 columns):\n",
      " #   Column             Non-Null Count  Dtype  \n",
      "---  ------             --------------  -----  \n",
      " 0   Loan_ID            614 non-null    object \n",
      " 1   Gender             601 non-null    object \n",
      " 2   Married            611 non-null    object \n",
      " 3   Dependents         599 non-null    object \n",
      " 4   Education          614 non-null    object \n",
      " 5   Self_Employed      582 non-null    object \n",
      " 6   ApplicantIncome    614 non-null    int64  \n",
      " 7   CoapplicantIncome  614 non-null    float64\n",
      " 8   LoanAmount         592 non-null    float64\n",
      " 9   Loan_Amount_Term   600 non-null    float64\n",
      " 10  Credit_History     564 non-null    float64\n",
      " 11  Property_Area      614 non-null    object \n",
      " 12  Loan_Status        614 non-null    object \n",
      "dtypes: float64(4), int64(1), object(8)\n",
      "memory usage: 62.5+ KB\n"
     ]
    }
   ],
   "source": [
    "df.info()"
   ]
  },
  {
   "cell_type": "markdown",
   "id": "1c9b5e74-5a11-4572-8357-ac117383a215",
   "metadata": {},
   "source": [
    "### Removing features that have no informative value"
   ]
  },
  {
   "cell_type": "code",
   "execution_count": 4,
   "id": "0a466c72-acb8-43d0-bb7b-cd85d86394d8",
   "metadata": {},
   "outputs": [
    {
     "data": {
      "text/html": [
       "<div>\n",
       "<style scoped>\n",
       "    .dataframe tbody tr th:only-of-type {\n",
       "        vertical-align: middle;\n",
       "    }\n",
       "\n",
       "    .dataframe tbody tr th {\n",
       "        vertical-align: top;\n",
       "    }\n",
       "\n",
       "    .dataframe thead th {\n",
       "        text-align: right;\n",
       "    }\n",
       "</style>\n",
       "<table border=\"1\" class=\"dataframe\">\n",
       "  <thead>\n",
       "    <tr style=\"text-align: right;\">\n",
       "      <th></th>\n",
       "      <th>Gender</th>\n",
       "      <th>Married</th>\n",
       "      <th>Dependents</th>\n",
       "      <th>Education</th>\n",
       "      <th>Self_Employed</th>\n",
       "      <th>ApplicantIncome</th>\n",
       "      <th>CoapplicantIncome</th>\n",
       "      <th>LoanAmount</th>\n",
       "      <th>Loan_Amount_Term</th>\n",
       "      <th>Credit_History</th>\n",
       "      <th>Property_Area</th>\n",
       "    </tr>\n",
       "  </thead>\n",
       "  <tbody>\n",
       "    <tr>\n",
       "      <th>0</th>\n",
       "      <td>Male</td>\n",
       "      <td>No</td>\n",
       "      <td>0</td>\n",
       "      <td>Graduate</td>\n",
       "      <td>No</td>\n",
       "      <td>5849</td>\n",
       "      <td>0.0</td>\n",
       "      <td>NaN</td>\n",
       "      <td>360.0</td>\n",
       "      <td>1.0</td>\n",
       "      <td>Urban</td>\n",
       "    </tr>\n",
       "    <tr>\n",
       "      <th>1</th>\n",
       "      <td>Male</td>\n",
       "      <td>Yes</td>\n",
       "      <td>1</td>\n",
       "      <td>Graduate</td>\n",
       "      <td>No</td>\n",
       "      <td>4583</td>\n",
       "      <td>1508.0</td>\n",
       "      <td>128.0</td>\n",
       "      <td>360.0</td>\n",
       "      <td>1.0</td>\n",
       "      <td>Rural</td>\n",
       "    </tr>\n",
       "    <tr>\n",
       "      <th>2</th>\n",
       "      <td>Male</td>\n",
       "      <td>Yes</td>\n",
       "      <td>0</td>\n",
       "      <td>Graduate</td>\n",
       "      <td>Yes</td>\n",
       "      <td>3000</td>\n",
       "      <td>0.0</td>\n",
       "      <td>66.0</td>\n",
       "      <td>360.0</td>\n",
       "      <td>1.0</td>\n",
       "      <td>Urban</td>\n",
       "    </tr>\n",
       "    <tr>\n",
       "      <th>3</th>\n",
       "      <td>Male</td>\n",
       "      <td>Yes</td>\n",
       "      <td>0</td>\n",
       "      <td>Not Graduate</td>\n",
       "      <td>No</td>\n",
       "      <td>2583</td>\n",
       "      <td>2358.0</td>\n",
       "      <td>120.0</td>\n",
       "      <td>360.0</td>\n",
       "      <td>1.0</td>\n",
       "      <td>Urban</td>\n",
       "    </tr>\n",
       "    <tr>\n",
       "      <th>4</th>\n",
       "      <td>Male</td>\n",
       "      <td>No</td>\n",
       "      <td>0</td>\n",
       "      <td>Graduate</td>\n",
       "      <td>No</td>\n",
       "      <td>6000</td>\n",
       "      <td>0.0</td>\n",
       "      <td>141.0</td>\n",
       "      <td>360.0</td>\n",
       "      <td>1.0</td>\n",
       "      <td>Urban</td>\n",
       "    </tr>\n",
       "    <tr>\n",
       "      <th>...</th>\n",
       "      <td>...</td>\n",
       "      <td>...</td>\n",
       "      <td>...</td>\n",
       "      <td>...</td>\n",
       "      <td>...</td>\n",
       "      <td>...</td>\n",
       "      <td>...</td>\n",
       "      <td>...</td>\n",
       "      <td>...</td>\n",
       "      <td>...</td>\n",
       "      <td>...</td>\n",
       "    </tr>\n",
       "    <tr>\n",
       "      <th>609</th>\n",
       "      <td>Female</td>\n",
       "      <td>No</td>\n",
       "      <td>0</td>\n",
       "      <td>Graduate</td>\n",
       "      <td>No</td>\n",
       "      <td>2900</td>\n",
       "      <td>0.0</td>\n",
       "      <td>71.0</td>\n",
       "      <td>360.0</td>\n",
       "      <td>1.0</td>\n",
       "      <td>Rural</td>\n",
       "    </tr>\n",
       "    <tr>\n",
       "      <th>610</th>\n",
       "      <td>Male</td>\n",
       "      <td>Yes</td>\n",
       "      <td>3+</td>\n",
       "      <td>Graduate</td>\n",
       "      <td>No</td>\n",
       "      <td>4106</td>\n",
       "      <td>0.0</td>\n",
       "      <td>40.0</td>\n",
       "      <td>180.0</td>\n",
       "      <td>1.0</td>\n",
       "      <td>Rural</td>\n",
       "    </tr>\n",
       "    <tr>\n",
       "      <th>611</th>\n",
       "      <td>Male</td>\n",
       "      <td>Yes</td>\n",
       "      <td>1</td>\n",
       "      <td>Graduate</td>\n",
       "      <td>No</td>\n",
       "      <td>8072</td>\n",
       "      <td>240.0</td>\n",
       "      <td>253.0</td>\n",
       "      <td>360.0</td>\n",
       "      <td>1.0</td>\n",
       "      <td>Urban</td>\n",
       "    </tr>\n",
       "    <tr>\n",
       "      <th>612</th>\n",
       "      <td>Male</td>\n",
       "      <td>Yes</td>\n",
       "      <td>2</td>\n",
       "      <td>Graduate</td>\n",
       "      <td>No</td>\n",
       "      <td>7583</td>\n",
       "      <td>0.0</td>\n",
       "      <td>187.0</td>\n",
       "      <td>360.0</td>\n",
       "      <td>1.0</td>\n",
       "      <td>Urban</td>\n",
       "    </tr>\n",
       "    <tr>\n",
       "      <th>613</th>\n",
       "      <td>Female</td>\n",
       "      <td>No</td>\n",
       "      <td>0</td>\n",
       "      <td>Graduate</td>\n",
       "      <td>Yes</td>\n",
       "      <td>4583</td>\n",
       "      <td>0.0</td>\n",
       "      <td>133.0</td>\n",
       "      <td>360.0</td>\n",
       "      <td>0.0</td>\n",
       "      <td>Semiurban</td>\n",
       "    </tr>\n",
       "  </tbody>\n",
       "</table>\n",
       "<p>614 rows × 11 columns</p>\n",
       "</div>"
      ],
      "text/plain": [
       "     Gender Married Dependents     Education Self_Employed  ApplicantIncome  \\\n",
       "0      Male      No          0      Graduate            No             5849   \n",
       "1      Male     Yes          1      Graduate            No             4583   \n",
       "2      Male     Yes          0      Graduate           Yes             3000   \n",
       "3      Male     Yes          0  Not Graduate            No             2583   \n",
       "4      Male      No          0      Graduate            No             6000   \n",
       "..      ...     ...        ...           ...           ...              ...   \n",
       "609  Female      No          0      Graduate            No             2900   \n",
       "610    Male     Yes         3+      Graduate            No             4106   \n",
       "611    Male     Yes          1      Graduate            No             8072   \n",
       "612    Male     Yes          2      Graduate            No             7583   \n",
       "613  Female      No          0      Graduate           Yes             4583   \n",
       "\n",
       "     CoapplicantIncome  LoanAmount  Loan_Amount_Term  Credit_History  \\\n",
       "0                  0.0         NaN             360.0             1.0   \n",
       "1               1508.0       128.0             360.0             1.0   \n",
       "2                  0.0        66.0             360.0             1.0   \n",
       "3               2358.0       120.0             360.0             1.0   \n",
       "4                  0.0       141.0             360.0             1.0   \n",
       "..                 ...         ...               ...             ...   \n",
       "609                0.0        71.0             360.0             1.0   \n",
       "610                0.0        40.0             180.0             1.0   \n",
       "611              240.0       253.0             360.0             1.0   \n",
       "612                0.0       187.0             360.0             1.0   \n",
       "613                0.0       133.0             360.0             0.0   \n",
       "\n",
       "    Property_Area  \n",
       "0           Urban  \n",
       "1           Rural  \n",
       "2           Urban  \n",
       "3           Urban  \n",
       "4           Urban  \n",
       "..            ...  \n",
       "609         Rural  \n",
       "610         Rural  \n",
       "611         Urban  \n",
       "612         Urban  \n",
       "613     Semiurban  \n",
       "\n",
       "[614 rows x 11 columns]"
      ]
     },
     "execution_count": 4,
     "metadata": {},
     "output_type": "execute_result"
    }
   ],
   "source": [
    "#Removing Loan_Status because a custom label is to be created later\n",
    "df = df.drop(['Loan_ID', 'Loan_Status'], axis=1)\n",
    "df"
   ]
  },
  {
   "cell_type": "markdown",
   "id": "8f3b8a50-31f5-41a7-bc2a-f0e3919ca449",
   "metadata": {},
   "source": [
    "### Remove missing values"
   ]
  },
  {
   "cell_type": "code",
   "execution_count": 5,
   "id": "52ad17ca-27d4-4429-b946-3ba1ee9e2955",
   "metadata": {},
   "outputs": [
    {
     "data": {
      "text/plain": [
       "Gender               13\n",
       "Married               3\n",
       "Dependents           15\n",
       "Education             0\n",
       "Self_Employed        32\n",
       "ApplicantIncome       0\n",
       "CoapplicantIncome     0\n",
       "LoanAmount           22\n",
       "Loan_Amount_Term     14\n",
       "Credit_History       50\n",
       "Property_Area         0\n",
       "dtype: int64"
      ]
     },
     "execution_count": 5,
     "metadata": {},
     "output_type": "execute_result"
    },
    {
     "data": {
      "image/png": "[encoded data removed]",
      "text/plain": [
       "<Figure size 432x288 with 1 Axes>"
      ]
     },
     "metadata": {
      "needs_background": "light"
     },
     "output_type": "display_data"
    }
   ],
   "source": [
    "sns.heatmap(df.isnull(), cbar=False)\n",
    "df.isna().sum()"
   ]
  },
  {
   "cell_type": "code",
   "execution_count": 6,
   "id": "97fc2e75-e5c0-4203-a8f7-d7ff491b517d",
   "metadata": {},
   "outputs": [
    {
     "data": {
      "text/plain": [
       "<AxesSubplot:>"
      ]
     },
     "execution_count": 6,
     "metadata": {},
     "output_type": "execute_result"
    },
    {
     "data": {
      "image/png": "[encoded data removed]",
      "text/plain": [
       "<Figure size 432x288 with 1 Axes>"
      ]
     },
     "metadata": {
      "needs_background": "light"
     },
     "output_type": "display_data"
    }
   ],
   "source": [
    "df.Gender.value_counts().plot(kind='bar')"
   ]
  },
  {
   "cell_type": "code",
   "execution_count": 7,
   "id": "32076191-9bd1-4d18-9751-010a3a5bc850",
   "metadata": {},
   "outputs": [
    {
     "data": {
      "text/plain": [
       "Gender               13\n",
       "Married               3\n",
       "Dependents           15\n",
       "Education             0\n",
       "Self_Employed        32\n",
       "ApplicantIncome       0\n",
       "CoapplicantIncome     0\n",
       "LoanAmount           22\n",
       "Loan_Amount_Term     14\n",
       "Credit_History       50\n",
       "Property_Area         0\n",
       "dtype: int64"
      ]
     },
     "execution_count": 7,
     "metadata": {},
     "output_type": "execute_result"
    }
   ],
   "source": [
    "df.isna().sum()"
   ]
  },
  {
   "cell_type": "code",
   "execution_count": 8,
   "id": "705ee9f3-be49-44d1-8757-d24b8e5d1d9d",
   "metadata": {},
   "outputs": [
    {
     "data": {
      "text/html": [
       "<div>\n",
       "<style scoped>\n",
       "    .dataframe tbody tr th:only-of-type {\n",
       "        vertical-align: middle;\n",
       "    }\n",
       "\n",
       "    .dataframe tbody tr th {\n",
       "        vertical-align: top;\n",
       "    }\n",
       "\n",
       "    .dataframe thead th {\n",
       "        text-align: right;\n",
       "    }\n",
       "</style>\n",
       "<table border=\"1\" class=\"dataframe\">\n",
       "  <thead>\n",
       "    <tr style=\"text-align: right;\">\n",
       "      <th></th>\n",
       "      <th>Gender</th>\n",
       "      <th>Married</th>\n",
       "      <th>Dependents</th>\n",
       "      <th>Education</th>\n",
       "      <th>Self_Employed</th>\n",
       "      <th>ApplicantIncome</th>\n",
       "      <th>CoapplicantIncome</th>\n",
       "      <th>LoanAmount</th>\n",
       "      <th>Loan_Amount_Term</th>\n",
       "      <th>Credit_History</th>\n",
       "      <th>Property_Area</th>\n",
       "    </tr>\n",
       "  </thead>\n",
       "  <tbody>\n",
       "    <tr>\n",
       "      <th>0</th>\n",
       "      <td>Male</td>\n",
       "      <td>No</td>\n",
       "      <td>0</td>\n",
       "      <td>Graduate</td>\n",
       "      <td>No</td>\n",
       "      <td>5849</td>\n",
       "      <td>0.0</td>\n",
       "      <td>NaN</td>\n",
       "      <td>360.0</td>\n",
       "      <td>1.0</td>\n",
       "      <td>Urban</td>\n",
       "    </tr>\n",
       "    <tr>\n",
       "      <th>1</th>\n",
       "      <td>Male</td>\n",
       "      <td>Yes</td>\n",
       "      <td>1</td>\n",
       "      <td>Graduate</td>\n",
       "      <td>No</td>\n",
       "      <td>4583</td>\n",
       "      <td>1508.0</td>\n",
       "      <td>128.0</td>\n",
       "      <td>360.0</td>\n",
       "      <td>1.0</td>\n",
       "      <td>Rural</td>\n",
       "    </tr>\n",
       "    <tr>\n",
       "      <th>2</th>\n",
       "      <td>Male</td>\n",
       "      <td>Yes</td>\n",
       "      <td>0</td>\n",
       "      <td>Graduate</td>\n",
       "      <td>Yes</td>\n",
       "      <td>3000</td>\n",
       "      <td>0.0</td>\n",
       "      <td>66.0</td>\n",
       "      <td>360.0</td>\n",
       "      <td>1.0</td>\n",
       "      <td>Urban</td>\n",
       "    </tr>\n",
       "    <tr>\n",
       "      <th>3</th>\n",
       "      <td>Male</td>\n",
       "      <td>Yes</td>\n",
       "      <td>0</td>\n",
       "      <td>Not Graduate</td>\n",
       "      <td>No</td>\n",
       "      <td>2583</td>\n",
       "      <td>2358.0</td>\n",
       "      <td>120.0</td>\n",
       "      <td>360.0</td>\n",
       "      <td>1.0</td>\n",
       "      <td>Urban</td>\n",
       "    </tr>\n",
       "    <tr>\n",
       "      <th>4</th>\n",
       "      <td>Male</td>\n",
       "      <td>No</td>\n",
       "      <td>0</td>\n",
       "      <td>Graduate</td>\n",
       "      <td>No</td>\n",
       "      <td>6000</td>\n",
       "      <td>0.0</td>\n",
       "      <td>141.0</td>\n",
       "      <td>360.0</td>\n",
       "      <td>1.0</td>\n",
       "      <td>Urban</td>\n",
       "    </tr>\n",
       "    <tr>\n",
       "      <th>...</th>\n",
       "      <td>...</td>\n",
       "      <td>...</td>\n",
       "      <td>...</td>\n",
       "      <td>...</td>\n",
       "      <td>...</td>\n",
       "      <td>...</td>\n",
       "      <td>...</td>\n",
       "      <td>...</td>\n",
       "      <td>...</td>\n",
       "      <td>...</td>\n",
       "      <td>...</td>\n",
       "    </tr>\n",
       "    <tr>\n",
       "      <th>609</th>\n",
       "      <td>Female</td>\n",
       "      <td>No</td>\n",
       "      <td>0</td>\n",
       "      <td>Graduate</td>\n",
       "      <td>No</td>\n",
       "      <td>2900</td>\n",
       "      <td>0.0</td>\n",
       "      <td>71.0</td>\n",
       "      <td>360.0</td>\n",
       "      <td>1.0</td>\n",
       "      <td>Rural</td>\n",
       "    </tr>\n",
       "    <tr>\n",
       "      <th>610</th>\n",
       "      <td>Male</td>\n",
       "      <td>Yes</td>\n",
       "      <td>3+</td>\n",
       "      <td>Graduate</td>\n",
       "      <td>No</td>\n",
       "      <td>4106</td>\n",
       "      <td>0.0</td>\n",
       "      <td>40.0</td>\n",
       "      <td>180.0</td>\n",
       "      <td>1.0</td>\n",
       "      <td>Rural</td>\n",
       "    </tr>\n",
       "    <tr>\n",
       "      <th>611</th>\n",
       "      <td>Male</td>\n",
       "      <td>Yes</td>\n",
       "      <td>1</td>\n",
       "      <td>Graduate</td>\n",
       "      <td>No</td>\n",
       "      <td>8072</td>\n",
       "      <td>240.0</td>\n",
       "      <td>253.0</td>\n",
       "      <td>360.0</td>\n",
       "      <td>1.0</td>\n",
       "      <td>Urban</td>\n",
       "    </tr>\n",
       "    <tr>\n",
       "      <th>612</th>\n",
       "      <td>Male</td>\n",
       "      <td>Yes</td>\n",
       "      <td>2</td>\n",
       "      <td>Graduate</td>\n",
       "      <td>No</td>\n",
       "      <td>7583</td>\n",
       "      <td>0.0</td>\n",
       "      <td>187.0</td>\n",
       "      <td>360.0</td>\n",
       "      <td>1.0</td>\n",
       "      <td>Urban</td>\n",
       "    </tr>\n",
       "    <tr>\n",
       "      <th>613</th>\n",
       "      <td>Female</td>\n",
       "      <td>No</td>\n",
       "      <td>0</td>\n",
       "      <td>Graduate</td>\n",
       "      <td>Yes</td>\n",
       "      <td>4583</td>\n",
       "      <td>0.0</td>\n",
       "      <td>133.0</td>\n",
       "      <td>360.0</td>\n",
       "      <td>0.0</td>\n",
       "      <td>Semiurban</td>\n",
       "    </tr>\n",
       "  </tbody>\n",
       "</table>\n",
       "<p>614 rows × 11 columns</p>\n",
       "</div>"
      ],
      "text/plain": [
       "     Gender Married Dependents     Education Self_Employed  ApplicantIncome  \\\n",
       "0      Male      No          0      Graduate            No             5849   \n",
       "1      Male     Yes          1      Graduate            No             4583   \n",
       "2      Male     Yes          0      Graduate           Yes             3000   \n",
       "3      Male     Yes          0  Not Graduate            No             2583   \n",
       "4      Male      No          0      Graduate            No             6000   \n",
       "..      ...     ...        ...           ...           ...              ...   \n",
       "609  Female      No          0      Graduate            No             2900   \n",
       "610    Male     Yes         3+      Graduate            No             4106   \n",
       "611    Male     Yes          1      Graduate            No             8072   \n",
       "612    Male     Yes          2      Graduate            No             7583   \n",
       "613  Female      No          0      Graduate           Yes             4583   \n",
       "\n",
       "     CoapplicantIncome  LoanAmount  Loan_Amount_Term  Credit_History  \\\n",
       "0                  0.0         NaN             360.0             1.0   \n",
       "1               1508.0       128.0             360.0             1.0   \n",
       "2                  0.0        66.0             360.0             1.0   \n",
       "3               2358.0       120.0             360.0             1.0   \n",
       "4                  0.0       141.0             360.0             1.0   \n",
       "..                 ...         ...               ...             ...   \n",
       "609                0.0        71.0             360.0             1.0   \n",
       "610                0.0        40.0             180.0             1.0   \n",
       "611              240.0       253.0             360.0             1.0   \n",
       "612                0.0       187.0             360.0             1.0   \n",
       "613                0.0       133.0             360.0             0.0   \n",
       "\n",
       "    Property_Area  \n",
       "0           Urban  \n",
       "1           Rural  \n",
       "2           Urban  \n",
       "3           Urban  \n",
       "4           Urban  \n",
       "..            ...  \n",
       "609         Rural  \n",
       "610         Rural  \n",
       "611         Urban  \n",
       "612         Urban  \n",
       "613     Semiurban  \n",
       "\n",
       "[614 rows x 11 columns]"
      ]
     },
     "execution_count": 8,
     "metadata": {},
     "output_type": "execute_result"
    }
   ],
   "source": [
    "df"
   ]
  },
  {
   "cell_type": "code",
   "execution_count": 9,
   "id": "f358cd55-31fc-42fb-9702-4a4d02863042",
   "metadata": {},
   "outputs": [],
   "source": [
    "# Usage of most_frequent strategy for categorical variable -> Gender\n",
    "from sklearn.impute import SimpleImputer\n",
    "x_string = df.Gender.to_numpy().reshape(-1, 1)\n",
    "imp = SimpleImputer(missing_values=np.nan, strategy='most_frequent')\n",
    "df.Gender=imp.fit_transform(x_string)"
   ]
  },
  {
   "cell_type": "code",
   "execution_count": 10,
   "id": "59479e43-5c60-4cd7-b4a8-61c417894620",
   "metadata": {},
   "outputs": [
    {
     "data": {
      "text/plain": [
       "Gender                0\n",
       "Married               3\n",
       "Dependents           15\n",
       "Education             0\n",
       "Self_Employed        32\n",
       "ApplicantIncome       0\n",
       "CoapplicantIncome     0\n",
       "LoanAmount           22\n",
       "Loan_Amount_Term     14\n",
       "Credit_History       50\n",
       "Property_Area         0\n",
       "dtype: int64"
      ]
     },
     "execution_count": 10,
     "metadata": {},
     "output_type": "execute_result"
    }
   ],
   "source": [
    "df.isna().sum()"
   ]
  },
  {
   "cell_type": "code",
   "execution_count": 11,
   "id": "bb3827b6-0f6f-4937-aec6-f947f449cb2a",
   "metadata": {},
   "outputs": [],
   "source": [
    "# Usage of most_frequent strategy for categorical variable -> Married\n",
    "x_string = df.Married.to_numpy().reshape(-1, 1)\n",
    "imp = SimpleImputer(missing_values=np.nan, strategy='most_frequent')\n",
    "df.Married=imp.fit_transform(x_string)"
   ]
  },
  {
   "cell_type": "code",
   "execution_count": 12,
   "id": "65a3b434-0cbe-4b81-bf37-aacd7dd4c133",
   "metadata": {},
   "outputs": [
    {
     "data": {
      "text/plain": [
       "Gender                0\n",
       "Married               0\n",
       "Dependents           15\n",
       "Education             0\n",
       "Self_Employed        32\n",
       "ApplicantIncome       0\n",
       "CoapplicantIncome     0\n",
       "LoanAmount           22\n",
       "Loan_Amount_Term     14\n",
       "Credit_History       50\n",
       "Property_Area         0\n",
       "dtype: int64"
      ]
     },
     "execution_count": 12,
     "metadata": {},
     "output_type": "execute_result"
    }
   ],
   "source": [
    "df.isna().sum()"
   ]
  },
  {
   "cell_type": "code",
   "execution_count": 13,
   "id": "d643469e-9363-4600-932c-816c3b81871c",
   "metadata": {},
   "outputs": [],
   "source": [
    "# Usage of most_frequent strategy for categorical variable -> Dependents\n",
    "x_string = df.Dependents.to_numpy().reshape(-1, 1)\n",
    "imp = SimpleImputer(missing_values=np.nan, strategy='most_frequent')\n",
    "df.Dependents=imp.fit_transform(x_string)"
   ]
  },
  {
   "cell_type": "code",
   "execution_count": 14,
   "id": "b9c0369c-7a95-48a7-b4d3-8e3d58b8c1c3",
   "metadata": {},
   "outputs": [
    {
     "data": {
      "text/plain": [
       "Gender                0\n",
       "Married               0\n",
       "Dependents            0\n",
       "Education             0\n",
       "Self_Employed        32\n",
       "ApplicantIncome       0\n",
       "CoapplicantIncome     0\n",
       "LoanAmount           22\n",
       "Loan_Amount_Term     14\n",
       "Credit_History       50\n",
       "Property_Area         0\n",
       "dtype: int64"
      ]
     },
     "execution_count": 14,
     "metadata": {},
     "output_type": "execute_result"
    }
   ],
   "source": [
    "df.isna().sum()"
   ]
  },
  {
   "cell_type": "code",
   "execution_count": 15,
   "id": "20205729-836d-4a98-a6fe-40bfc283c950",
   "metadata": {},
   "outputs": [
    {
     "data": {
      "text/plain": [
       "<AxesSubplot:>"
      ]
     },
     "execution_count": 15,
     "metadata": {},
     "output_type": "execute_result"
    },
    {
     "data": {
      "image/png": "[encoded data removed]",
      "text/plain": [
       "<Figure size 432x288 with 1 Axes>"
      ]
     },
     "metadata": {
      "needs_background": "light"
     },
     "output_type": "display_data"
    }
   ],
   "source": [
    "df.Self_Employed .value_counts().plot(kind='bar')"
   ]
  },
  {
   "cell_type": "code",
   "execution_count": 16,
   "id": "6942e66f-0941-44d1-a1a2-f1c36ece5893",
   "metadata": {},
   "outputs": [],
   "source": [
    "# Usage of most_frequent strategy for categorical variable -> Self_Employed\n",
    "x_string = df.Self_Employed.to_numpy().reshape(-1, 1)\n",
    "imp = SimpleImputer(missing_values=np.nan, strategy='most_frequent')\n",
    "df.Self_Employed=imp.fit_transform(x_string)"
   ]
  },
  {
   "cell_type": "code",
   "execution_count": 17,
   "id": "6edd2a09-d77c-41c4-a1fb-57c696da93b2",
   "metadata": {},
   "outputs": [
    {
     "data": {
      "text/plain": [
       "Gender                0\n",
       "Married               0\n",
       "Dependents            0\n",
       "Education             0\n",
       "Self_Employed         0\n",
       "ApplicantIncome       0\n",
       "CoapplicantIncome     0\n",
       "LoanAmount           22\n",
       "Loan_Amount_Term     14\n",
       "Credit_History       50\n",
       "Property_Area         0\n",
       "dtype: int64"
      ]
     },
     "execution_count": 17,
     "metadata": {},
     "output_type": "execute_result"
    }
   ],
   "source": [
    "df.isna().sum()"
   ]
  },
  {
   "cell_type": "code",
   "execution_count": 18,
   "id": "07bd231e-3e70-4e65-9483-c68d102c2196",
   "metadata": {},
   "outputs": [
    {
     "data": {
      "text/plain": [
       "<AxesSubplot:>"
      ]
     },
     "execution_count": 18,
     "metadata": {},
     "output_type": "execute_result"
    },
    {
     "data": {
      "image/png": "[encoded data removed]",
      "text/plain": [
       "<Figure size 432x288 with 1 Axes>"
      ]
     },
     "metadata": {
      "needs_background": "light"
     },
     "output_type": "display_data"
    }
   ],
   "source": [
    "df.LoanAmount.hist(bins = 40)"
   ]
  },
  {
   "cell_type": "code",
   "execution_count": 19,
   "id": "883bbb74-62e5-492e-a31c-d9eaef954203",
   "metadata": {},
   "outputs": [
    {
     "data": {
      "text/plain": [
       "<AxesSubplot:>"
      ]
     },
     "execution_count": 19,
     "metadata": {},
     "output_type": "execute_result"
    },
    {
     "data": {
      "image/png": "[encoded data removed]",
      "text/plain": [
       "<Figure size 432x288 with 1 Axes>"
      ]
     },
     "metadata": {
      "needs_background": "light"
     },
     "output_type": "display_data"
    }
   ],
   "source": [
    "df.Loan_Amount_Term.value_counts().plot(kind='bar')"
   ]
  },
  {
   "cell_type": "code",
   "execution_count": 20,
   "id": "61fde652-a637-4260-9f46-3a2c033a7689",
   "metadata": {},
   "outputs": [],
   "source": [
    "# Usage of most_frequent strategy for categorical variable -> Loan_Amount_Term\n",
    "x_string = df.Loan_Amount_Term.to_numpy().reshape(-1, 1)\n",
    "imp = SimpleImputer(missing_values=np.nan, strategy='most_frequent')\n",
    "df.Loan_Amount_Term=imp.fit_transform(x_string)"
   ]
  },
  {
   "cell_type": "code",
   "execution_count": 21,
   "id": "7b1c4093-4861-40a2-a00a-e258dca95536",
   "metadata": {},
   "outputs": [
    {
     "name": "stdout",
     "output_type": "stream",
     "text": [
      "<class 'pandas.core.frame.DataFrame'>\n",
      "RangeIndex: 614 entries, 0 to 613\n",
      "Data columns (total 11 columns):\n",
      " #   Column             Non-Null Count  Dtype  \n",
      "---  ------             --------------  -----  \n",
      " 0   Gender             614 non-null    object \n",
      " 1   Married            614 non-null    object \n",
      " 2   Dependents         614 non-null    object \n",
      " 3   Education          614 non-null    object \n",
      " 4   Self_Employed      614 non-null    object \n",
      " 5   ApplicantIncome    614 non-null    int64  \n",
      " 6   CoapplicantIncome  614 non-null    float64\n",
      " 7   LoanAmount         592 non-null    float64\n",
      " 8   Loan_Amount_Term   614 non-null    float64\n",
      " 9   Credit_History     564 non-null    float64\n",
      " 10  Property_Area      614 non-null    object \n",
      "dtypes: float64(4), int64(1), object(6)\n",
      "memory usage: 52.9+ KB\n"
     ]
    }
   ],
   "source": [
    "df.info()"
   ]
  },
  {
   "cell_type": "code",
   "execution_count": 24,
   "id": "7d66eae7-6313-4d1b-a7b1-903ae5888628",
   "metadata": {},
   "outputs": [
    {
     "data": {
      "text/plain": [
       "Gender                0\n",
       "Married               0\n",
       "Dependents            0\n",
       "Education             0\n",
       "Self_Employed         0\n",
       "ApplicantIncome       0\n",
       "CoapplicantIncome     0\n",
       "LoanAmount           22\n",
       "Loan_Amount_Term      0\n",
       "Credit_History       50\n",
       "Property_Area         0\n",
       "dtype: int64"
      ]
     },
     "execution_count": 24,
     "metadata": {},
     "output_type": "execute_result"
    }
   ],
   "source": [
    "df.isna().sum()"
   ]
  },
  {
   "cell_type": "code",
   "execution_count": 25,
   "id": "50365d34-0792-4759-b90b-7397f6988d3b",
   "metadata": {},
   "outputs": [],
   "source": [
    "# Usage of most_frequent strategy for categorical variable -> LoanAmount\n",
    "x_string = df.LoanAmount.to_numpy().reshape(-1, 1)\n",
    "imp = SimpleImputer(missing_values=np.nan, strategy='median')\n",
    "df.LoanAmount=imp.fit_transform(x_string)"
   ]
  },
  {
   "cell_type": "code",
   "execution_count": 26,
   "id": "76197a5a-7ed3-4bc5-9a6d-59056728659e",
   "metadata": {},
   "outputs": [
    {
     "data": {
      "text/plain": [
       "<AxesSubplot:>"
      ]
     },
     "execution_count": 26,
     "metadata": {},
     "output_type": "execute_result"
    },
    {
     "data": {
      "image/png": "[encoded data removed]",
      "text/plain": [
       "<Figure size 432x288 with 1 Axes>"
      ]
     },
     "metadata": {
      "needs_background": "light"
     },
     "output_type": "display_data"
    }
   ],
   "source": [
    "df.Credit_History.value_counts().plot(kind='bar')"
   ]
  },
  {
   "cell_type": "code",
   "execution_count": 27,
   "id": "f4d76d8d-92fd-4bf4-8922-21e7aa044163",
   "metadata": {},
   "outputs": [],
   "source": [
    "df =  df.drop('Credit_History', axis = 1)"
   ]
  },
  {
   "cell_type": "code",
   "execution_count": 28,
   "id": "057a1c96-2a58-45ea-9b9b-4d6bb17494a6",
   "metadata": {},
   "outputs": [
    {
     "data": {
      "text/plain": [
       "Gender               0\n",
       "Married              0\n",
       "Dependents           0\n",
       "Education            0\n",
       "Self_Employed        0\n",
       "ApplicantIncome      0\n",
       "CoapplicantIncome    0\n",
       "LoanAmount           0\n",
       "Loan_Amount_Term     0\n",
       "Property_Area        0\n",
       "dtype: int64"
      ]
     },
     "execution_count": 28,
     "metadata": {},
     "output_type": "execute_result"
    }
   ],
   "source": [
    "df.isna().sum()"
   ]
  },
  {
   "cell_type": "markdown",
   "id": "f46c00bb-a05f-4bef-9800-feea2162c6a0",
   "metadata": {},
   "source": [
    "## Creation of custom dataset for leasing risk usecase"
   ]
  },
  {
   "cell_type": "markdown",
   "id": "2fa1bfea-fc4a-48d8-b6b7-065e4972c051",
   "metadata": {},
   "source": [
    "### Shaping Loan amount"
   ]
  },
  {
   "cell_type": "code",
   "execution_count": 29,
   "id": "64b0ab4b-2a37-420d-9ff6-4d7cb1513e18",
   "metadata": {},
   "outputs": [
    {
     "data": {
      "text/plain": [
       "<AxesSubplot:ylabel='Frequency'>"
      ]
     },
     "execution_count": 29,
     "metadata": {},
     "output_type": "execute_result"
    },
    {
     "data": {
      "image/png": "[encoded data removed]",
      "text/plain": [
       "<Figure size 432x288 with 1 Axes>"
      ]
     },
     "metadata": {
      "needs_background": "light"
     },
     "output_type": "display_data"
    }
   ],
   "source": [
    "df.LoanAmount.plot.hist(bins = 40)"
   ]
  },
  {
   "cell_type": "code",
   "execution_count": 30,
   "id": "2beb26b1-6511-4594-a43c-de7e565fc15e",
   "metadata": {},
   "outputs": [],
   "source": [
    "df.LoanAmount = df.LoanAmount.apply(lambda x: x*100.0 if x > 30.0 else x*3)"
   ]
  },
  {
   "cell_type": "code",
   "execution_count": 31,
   "id": "771cbfb2-28a4-47a5-bed4-358e180936ec",
   "metadata": {},
   "outputs": [],
   "source": [
    "df.LoanAmount  = df.LoanAmount.apply(lambda x: x*0.75 if x > 7000.0 else x*3)"
   ]
  },
  {
   "cell_type": "code",
   "execution_count": 32,
   "id": "cef24e3c-c630-43d9-b7cf-15810a3f7344",
   "metadata": {},
   "outputs": [],
   "source": [
    "df.LoanAmount = df.LoanAmount.apply(lambda x: x*0.60 if x > 12000.0 else x*1)"
   ]
  },
  {
   "cell_type": "code",
   "execution_count": 33,
   "id": "a9112948-71e2-4b63-bb1c-d053d6d20a87",
   "metadata": {},
   "outputs": [],
   "source": [
    "df.LoanAmount = df.LoanAmount.apply(lambda x: x*10.0 if x > 0.0 else x*1)"
   ]
  },
  {
   "cell_type": "code",
   "execution_count": 34,
   "id": "64cc860c-fb0d-4351-9f56-afbc8dc200bb",
   "metadata": {},
   "outputs": [],
   "source": [
    "df.LoanAmount  = df.LoanAmount.apply(lambda x: x*0.6 if x > 120000.0 else x*1)"
   ]
  },
  {
   "cell_type": "code",
   "execution_count": 35,
   "id": "0afcf034-c88b-4e97-bf0c-828ee572a8fc",
   "metadata": {},
   "outputs": [
    {
     "data": {
      "text/plain": [
       "<AxesSubplot:ylabel='Frequency'>"
      ]
     },
     "execution_count": 35,
     "metadata": {},
     "output_type": "execute_result"
    },
    {
     "data": {
      "image/png": "[encoded data removed]",
      "text/plain": [
       "<Figure size 432x288 with 1 Axes>"
      ]
     },
     "metadata": {
      "needs_background": "light"
     },
     "output_type": "display_data"
    }
   ],
   "source": [
    "df.LoanAmount.plot.hist(bins = 40)"
   ]
  },
  {
   "cell_type": "code",
   "execution_count": 36,
   "id": "d41203f4-f6ee-4239-9a8d-a14876ef3806",
   "metadata": {},
   "outputs": [],
   "source": [
    "df.LoanAmount  = df.LoanAmount.apply(lambda x: x*0.5 if x > 125000.0 else x*1)"
   ]
  },
  {
   "cell_type": "code",
   "execution_count": 37,
   "id": "c811f417-02cf-4a91-b55a-439bcc805dd6",
   "metadata": {},
   "outputs": [],
   "source": [
    "df.LoanAmount  = df.LoanAmount.apply(lambda x: x*17.0 if x < 40000.0 else x*1)"
   ]
  },
  {
   "cell_type": "code",
   "execution_count": 38,
   "id": "820a5375-5098-443b-a011-203052e89552",
   "metadata": {},
   "outputs": [],
   "source": [
    "df.LoanAmount = df.LoanAmount.apply(lambda x: x*2.0 if x < 30000.0 else x*1)"
   ]
  },
  {
   "cell_type": "code",
   "execution_count": 39,
   "id": "c00e13aa-9e37-4dcd-8515-fa8596b1b4e7",
   "metadata": {},
   "outputs": [],
   "source": [
    "df.LoanAmount = df.LoanAmount.apply(lambda x: x*1.4 if x > 50000.0 else x*1)"
   ]
  },
  {
   "cell_type": "code",
   "execution_count": 40,
   "id": "47050563-9fe2-4058-a0d8-2ba85d7b192e",
   "metadata": {},
   "outputs": [
    {
     "data": {
      "text/plain": [
       "<AxesSubplot:ylabel='Frequency'>"
      ]
     },
     "execution_count": 40,
     "metadata": {},
     "output_type": "execute_result"
    },
    {
     "data": {
      "image/png": "[encoded data removed]",
      "text/plain": [
       "<Figure size 432x288 with 1 Axes>"
      ]
     },
     "metadata": {
      "needs_background": "light"
     },
     "output_type": "display_data"
    }
   ],
   "source": [
    "df.LoanAmount.plot.hist(bins = 40)"
   ]
  },
  {
   "cell_type": "code",
   "execution_count": 41,
   "id": "a40cd3bf-a939-4978-8dfb-abed46d84c04",
   "metadata": {},
   "outputs": [],
   "source": [
    "df.LoanAmount = df.LoanAmount.apply(lambda x: x*2.0 if x < 50000.0 else x*1)"
   ]
  },
  {
   "cell_type": "code",
   "execution_count": 42,
   "id": "f3f8decb-ef13-44ba-9dea-61649114da1c",
   "metadata": {},
   "outputs": [],
   "source": [
    "df.LoanAmount = df.LoanAmount.apply(lambda x: x*0.6 if x > 90000.0 else x*1)"
   ]
  },
  {
   "cell_type": "code",
   "execution_count": 43,
   "id": "ab94a5e3-bf43-4e0f-8bcc-829b4d4315d9",
   "metadata": {},
   "outputs": [],
   "source": [
    "df.LoanAmount = df.LoanAmount.apply(lambda x: x*0.6 if x > 94000.0 else x*1)"
   ]
  },
  {
   "cell_type": "code",
   "execution_count": 44,
   "id": "87e246b4-3a1a-4862-afa9-da554eed6be5",
   "metadata": {},
   "outputs": [],
   "source": [
    "df.LoanAmount = df.LoanAmount.apply(lambda x: x*0.6 if x > 0.0 else x*1)"
   ]
  },
  {
   "cell_type": "code",
   "execution_count": 45,
   "id": "d951ce39-20bb-4adf-911b-af9a3f1d6452",
   "metadata": {},
   "outputs": [],
   "source": [
    "df.LoanAmount = df.LoanAmount.apply(lambda x: x*0.9 if x > 0.0 else x*1)"
   ]
  },
  {
   "cell_type": "code",
   "execution_count": 46,
   "id": "40a8a36b-e60e-4c43-94f8-fa7a86514158",
   "metadata": {},
   "outputs": [],
   "source": [
    "df.LoanAmount = df.LoanAmount.apply(lambda x: x*1.5 if x > 0.0 else x*1)"
   ]
  },
  {
   "cell_type": "code",
   "execution_count": 47,
   "id": "51c925fb-a274-43d9-b322-a2208787c4ae",
   "metadata": {},
   "outputs": [
    {
     "data": {
      "text/plain": [
       "<AxesSubplot:ylabel='Frequency'>"
      ]
     },
     "execution_count": 47,
     "metadata": {},
     "output_type": "execute_result"
    },
    {
     "data": {
      "image/png": "[encoded data removed]",
      "text/plain": [
       "<Figure size 432x288 with 1 Axes>"
      ]
     },
     "metadata": {
      "needs_background": "light"
     },
     "output_type": "display_data"
    }
   ],
   "source": [
    "df.LoanAmount.plot.hist(bins = 40)"
   ]
  },
  {
   "cell_type": "code",
   "execution_count": 48,
   "id": "2f240a08-a194-49c7-8daf-301fe9eefd34",
   "metadata": {},
   "outputs": [],
   "source": [
    "df['Fahrzeugwert'] = df.LoanAmount"
   ]
  },
  {
   "cell_type": "code",
   "execution_count": 49,
   "id": "4c0892f4-3d84-469f-92c3-4f1cfca51965",
   "metadata": {},
   "outputs": [],
   "source": [
    "df.Loan_Amount_Term = df.Loan_Amount_Term.apply(lambda x: x/10)"
   ]
  },
  {
   "cell_type": "code",
   "execution_count": 50,
   "id": "84c32359-c185-4b71-912b-b630305381b7",
   "metadata": {},
   "outputs": [
    {
     "data": {
      "text/plain": [
       "<AxesSubplot:>"
      ]
     },
     "execution_count": 50,
     "metadata": {},
     "output_type": "execute_result"
    },
    {
     "data": {
      "image/png": "[encoded data removed]",
      "text/plain": [
       "<Figure size 432x288 with 1 Axes>"
      ]
     },
     "metadata": {
      "needs_background": "light"
     },
     "output_type": "display_data"
    }
   ],
   "source": [
    "df.Loan_Amount_Term.value_counts().plot(kind='bar')"
   ]
  },
  {
   "cell_type": "code",
   "execution_count": 51,
   "id": "17a4bcfb-5494-4efa-97fd-b2b3490b4dd8",
   "metadata": {},
   "outputs": [],
   "source": [
    "df = df.loc[df['Loan_Amount_Term'] > 23.0]"
   ]
  },
  {
   "cell_type": "code",
   "execution_count": 52,
   "id": "6e7c67ed-0e71-47fd-8f57-4cd8784c41a9",
   "metadata": {},
   "outputs": [
    {
     "data": {
      "text/plain": [
       "<AxesSubplot:>"
      ]
     },
     "execution_count": 52,
     "metadata": {},
     "output_type": "execute_result"
    },
    {
     "data": {
      "image/png": "[encoded data removed]",
      "text/plain": [
       "<Figure size 432x288 with 1 Axes>"
      ]
     },
     "metadata": {
      "needs_background": "light"
     },
     "output_type": "display_data"
    }
   ],
   "source": [
    "df.Loan_Amount_Term.value_counts().plot(kind='bar')"
   ]
  },
  {
   "cell_type": "code",
   "execution_count": 53,
   "id": "c528f0ae-e880-4d14-99fd-08ba627154cf",
   "metadata": {},
   "outputs": [],
   "source": [
    "df['leasing_monat_48M'] = df.Fahrzeugwert / 48\n",
    "df['leasing_summe'] = df['leasing_monat_48M'] * df['Loan_Amount_Term']\n",
    "df['leasingrate'] = (df['leasing_summe'] / df['Loan_Amount_Term'])/2\n",
    "df['einkommen_025'] = df['ApplicantIncome'] * 0.25"
   ]
  },
  {
   "cell_type": "code",
   "execution_count": 54,
   "id": "aa82bf77-dfdb-40b4-ab9e-f861e56753fd",
   "metadata": {},
   "outputs": [],
   "source": [
    "df = df.drop(['LoanAmount', 'leasing_summe', 'leasing_monat_48M'], axis=1)"
   ]
  },
  {
   "cell_type": "markdown",
   "id": "c19c2661-5cae-4768-a5a2-5672c6ed0e6e",
   "metadata": {},
   "source": [
    "## Set the right dtype for features"
   ]
  },
  {
   "cell_type": "code",
   "execution_count": 106,
   "id": "3243cc8c-a9b5-4c8e-9617-7e3ad6f0614f",
   "metadata": {},
   "outputs": [
    {
     "name": "stdout",
     "output_type": "stream",
     "text": [
      "<class 'pandas.core.frame.DataFrame'>\n",
      "Int64Index: 558 entries, 0 to 613\n",
      "Data columns (total 13 columns):\n",
      " #   Column             Non-Null Count  Dtype  \n",
      "---  ------             --------------  -----  \n",
      " 0   Gender             558 non-null    object \n",
      " 1   Married            558 non-null    object \n",
      " 2   Dependents         558 non-null    object \n",
      " 3   Education          558 non-null    object \n",
      " 4   Self_Employed      558 non-null    object \n",
      " 5   ApplicantIncome    558 non-null    int64  \n",
      " 6   CoapplicantIncome  558 non-null    float64\n",
      " 7   Loan_Amount_Term   558 non-null    float64\n",
      " 8   Property_Area      558 non-null    object \n",
      " 9   Fahrzeugwert       558 non-null    float64\n",
      " 10  leasingrate        558 non-null    float64\n",
      " 11  einkommen_025      558 non-null    float64\n",
      " 12  label              558 non-null    object \n",
      "dtypes: float64(5), int64(1), object(7)\n",
      "memory usage: 61.0+ KB\n"
     ]
    }
   ],
   "source": [
    "df.info()"
   ]
  },
  {
   "cell_type": "code",
   "execution_count": 109,
   "id": "d00d0917-9d3d-482e-999f-6871c814d64c",
   "metadata": {},
   "outputs": [],
   "source": [
    "df = df.astype({\"Gender\": 'category', \"Married\": 'category', \"Dependents\": 'category', \"Education\": 'category', \"Self_Employed\": 'category', \"CoapplicantIncome\": 'int64', \"Loan_Amount_Term\": 'int64', \"Property_Area\": 'category'})"
   ]
  },
  {
   "cell_type": "code",
   "execution_count": 110,
   "id": "c7eefbc6-645f-4c39-8a08-09e387951a86",
   "metadata": {},
   "outputs": [
    {
     "name": "stdout",
     "output_type": "stream",
     "text": [
      "<class 'pandas.core.frame.DataFrame'>\n",
      "Int64Index: 558 entries, 0 to 613\n",
      "Data columns (total 13 columns):\n",
      " #   Column             Non-Null Count  Dtype   \n",
      "---  ------             --------------  -----   \n",
      " 0   Gender             558 non-null    category\n",
      " 1   Married            558 non-null    category\n",
      " 2   Dependents         558 non-null    category\n",
      " 3   Education          558 non-null    category\n",
      " 4   Self_Employed      558 non-null    category\n",
      " 5   ApplicantIncome    558 non-null    int64   \n",
      " 6   CoapplicantIncome  558 non-null    int64   \n",
      " 7   Loan_Amount_Term   558 non-null    int64   \n",
      " 8   Property_Area      558 non-null    category\n",
      " 9   Fahrzeugwert       558 non-null    float64 \n",
      " 10  leasingrate        558 non-null    float64 \n",
      " 11  einkommen_025      558 non-null    float64 \n",
      " 12  label              558 non-null    object  \n",
      "dtypes: category(6), float64(3), int64(3), object(1)\n",
      "memory usage: 39.0+ KB\n"
     ]
    }
   ],
   "source": [
    "df.info()"
   ]
  },
  {
   "cell_type": "markdown",
   "id": "ea9d7039-8fd9-4221-bfc7-48430ee67f2c",
   "metadata": {},
   "source": [
    "## Create custom label with conditions"
   ]
  },
  {
   "cell_type": "code",
   "execution_count": 55,
   "id": "ed2af2ff-ec99-4da7-9f5f-5d6817691841",
   "metadata": {},
   "outputs": [
    {
     "data": {
      "text/html": [
       "<div>\n",
       "<style scoped>\n",
       "    .dataframe tbody tr th:only-of-type {\n",
       "        vertical-align: middle;\n",
       "    }\n",
       "\n",
       "    .dataframe tbody tr th {\n",
       "        vertical-align: top;\n",
       "    }\n",
       "\n",
       "    .dataframe thead th {\n",
       "        text-align: right;\n",
       "    }\n",
       "</style>\n",
       "<table border=\"1\" class=\"dataframe\">\n",
       "  <thead>\n",
       "    <tr style=\"text-align: right;\">\n",
       "      <th></th>\n",
       "      <th>Gender</th>\n",
       "      <th>Married</th>\n",
       "      <th>Dependents</th>\n",
       "      <th>Education</th>\n",
       "      <th>Self_Employed</th>\n",
       "      <th>ApplicantIncome</th>\n",
       "      <th>CoapplicantIncome</th>\n",
       "      <th>Loan_Amount_Term</th>\n",
       "      <th>Property_Area</th>\n",
       "      <th>Fahrzeugwert</th>\n",
       "      <th>leasingrate</th>\n",
       "      <th>einkommen_025</th>\n",
       "    </tr>\n",
       "  </thead>\n",
       "  <tbody>\n",
       "    <tr>\n",
       "      <th>0</th>\n",
       "      <td>Male</td>\n",
       "      <td>No</td>\n",
       "      <td>0</td>\n",
       "      <td>Graduate</td>\n",
       "      <td>No</td>\n",
       "      <td>5849</td>\n",
       "      <td>0.0</td>\n",
       "      <td>36.0</td>\n",
       "      <td>Urban</td>\n",
       "      <td>65318.400</td>\n",
       "      <td>680.400000</td>\n",
       "      <td>1462.25</td>\n",
       "    </tr>\n",
       "    <tr>\n",
       "      <th>1</th>\n",
       "      <td>Male</td>\n",
       "      <td>Yes</td>\n",
       "      <td>1</td>\n",
       "      <td>Graduate</td>\n",
       "      <td>No</td>\n",
       "      <td>4583</td>\n",
       "      <td>1508.0</td>\n",
       "      <td>36.0</td>\n",
       "      <td>Rural</td>\n",
       "      <td>65318.400</td>\n",
       "      <td>680.400000</td>\n",
       "      <td>1145.75</td>\n",
       "    </tr>\n",
       "    <tr>\n",
       "      <th>2</th>\n",
       "      <td>Male</td>\n",
       "      <td>Yes</td>\n",
       "      <td>0</td>\n",
       "      <td>Graduate</td>\n",
       "      <td>Yes</td>\n",
       "      <td>3000</td>\n",
       "      <td>0.0</td>\n",
       "      <td>36.0</td>\n",
       "      <td>Urban</td>\n",
       "      <td>48498.912</td>\n",
       "      <td>505.197000</td>\n",
       "      <td>750.00</td>\n",
       "    </tr>\n",
       "    <tr>\n",
       "      <th>3</th>\n",
       "      <td>Male</td>\n",
       "      <td>Yes</td>\n",
       "      <td>0</td>\n",
       "      <td>Not Graduate</td>\n",
       "      <td>No</td>\n",
       "      <td>2583</td>\n",
       "      <td>2358.0</td>\n",
       "      <td>36.0</td>\n",
       "      <td>Urban</td>\n",
       "      <td>61236.000</td>\n",
       "      <td>637.875000</td>\n",
       "      <td>645.75</td>\n",
       "    </tr>\n",
       "    <tr>\n",
       "      <th>4</th>\n",
       "      <td>Male</td>\n",
       "      <td>No</td>\n",
       "      <td>0</td>\n",
       "      <td>Graduate</td>\n",
       "      <td>No</td>\n",
       "      <td>6000</td>\n",
       "      <td>0.0</td>\n",
       "      <td>36.0</td>\n",
       "      <td>Urban</td>\n",
       "      <td>71952.300</td>\n",
       "      <td>749.503125</td>\n",
       "      <td>1500.00</td>\n",
       "    </tr>\n",
       "    <tr>\n",
       "      <th>...</th>\n",
       "      <td>...</td>\n",
       "      <td>...</td>\n",
       "      <td>...</td>\n",
       "      <td>...</td>\n",
       "      <td>...</td>\n",
       "      <td>...</td>\n",
       "      <td>...</td>\n",
       "      <td>...</td>\n",
       "      <td>...</td>\n",
       "      <td>...</td>\n",
       "      <td>...</td>\n",
       "      <td>...</td>\n",
       "    </tr>\n",
       "    <tr>\n",
       "      <th>608</th>\n",
       "      <td>Male</td>\n",
       "      <td>Yes</td>\n",
       "      <td>0</td>\n",
       "      <td>Graduate</td>\n",
       "      <td>No</td>\n",
       "      <td>3232</td>\n",
       "      <td>1950.0</td>\n",
       "      <td>36.0</td>\n",
       "      <td>Rural</td>\n",
       "      <td>55112.400</td>\n",
       "      <td>574.087500</td>\n",
       "      <td>808.00</td>\n",
       "    </tr>\n",
       "    <tr>\n",
       "      <th>609</th>\n",
       "      <td>Female</td>\n",
       "      <td>No</td>\n",
       "      <td>0</td>\n",
       "      <td>Graduate</td>\n",
       "      <td>No</td>\n",
       "      <td>2900</td>\n",
       "      <td>0.0</td>\n",
       "      <td>36.0</td>\n",
       "      <td>Rural</td>\n",
       "      <td>60385.500</td>\n",
       "      <td>629.015625</td>\n",
       "      <td>725.00</td>\n",
       "    </tr>\n",
       "    <tr>\n",
       "      <th>611</th>\n",
       "      <td>Male</td>\n",
       "      <td>Yes</td>\n",
       "      <td>1</td>\n",
       "      <td>Graduate</td>\n",
       "      <td>No</td>\n",
       "      <td>8072</td>\n",
       "      <td>240.0</td>\n",
       "      <td>36.0</td>\n",
       "      <td>Urban</td>\n",
       "      <td>46478.124</td>\n",
       "      <td>484.147125</td>\n",
       "      <td>2018.00</td>\n",
       "    </tr>\n",
       "    <tr>\n",
       "      <th>612</th>\n",
       "      <td>Male</td>\n",
       "      <td>Yes</td>\n",
       "      <td>2</td>\n",
       "      <td>Graduate</td>\n",
       "      <td>No</td>\n",
       "      <td>7583</td>\n",
       "      <td>0.0</td>\n",
       "      <td>36.0</td>\n",
       "      <td>Urban</td>\n",
       "      <td>57255.660</td>\n",
       "      <td>596.413125</td>\n",
       "      <td>1895.75</td>\n",
       "    </tr>\n",
       "    <tr>\n",
       "      <th>613</th>\n",
       "      <td>Female</td>\n",
       "      <td>No</td>\n",
       "      <td>0</td>\n",
       "      <td>Graduate</td>\n",
       "      <td>Yes</td>\n",
       "      <td>4583</td>\n",
       "      <td>0.0</td>\n",
       "      <td>36.0</td>\n",
       "      <td>Semiurban</td>\n",
       "      <td>67869.900</td>\n",
       "      <td>706.978125</td>\n",
       "      <td>1145.75</td>\n",
       "    </tr>\n",
       "  </tbody>\n",
       "</table>\n",
       "<p>558 rows × 12 columns</p>\n",
       "</div>"
      ],
      "text/plain": [
       "     Gender Married Dependents     Education Self_Employed  ApplicantIncome  \\\n",
       "0      Male      No          0      Graduate            No             5849   \n",
       "1      Male     Yes          1      Graduate            No             4583   \n",
       "2      Male     Yes          0      Graduate           Yes             3000   \n",
       "3      Male     Yes          0  Not Graduate            No             2583   \n",
       "4      Male      No          0      Graduate            No             6000   \n",
       "..      ...     ...        ...           ...           ...              ...   \n",
       "608    Male     Yes          0      Graduate            No             3232   \n",
       "609  Female      No          0      Graduate            No             2900   \n",
       "611    Male     Yes          1      Graduate            No             8072   \n",
       "612    Male     Yes          2      Graduate            No             7583   \n",
       "613  Female      No          0      Graduate           Yes             4583   \n",
       "\n",
       "     CoapplicantIncome  Loan_Amount_Term Property_Area  Fahrzeugwert  \\\n",
       "0                  0.0              36.0         Urban     65318.400   \n",
       "1               1508.0              36.0         Rural     65318.400   \n",
       "2                  0.0              36.0         Urban     48498.912   \n",
       "3               2358.0              36.0         Urban     61236.000   \n",
       "4                  0.0              36.0         Urban     71952.300   \n",
       "..                 ...               ...           ...           ...   \n",
       "608             1950.0              36.0         Rural     55112.400   \n",
       "609                0.0              36.0         Rural     60385.500   \n",
       "611              240.0              36.0         Urban     46478.124   \n",
       "612                0.0              36.0         Urban     57255.660   \n",
       "613                0.0              36.0     Semiurban     67869.900   \n",
       "\n",
       "     leasingrate  einkommen_025  \n",
       "0     680.400000        1462.25  \n",
       "1     680.400000        1145.75  \n",
       "2     505.197000         750.00  \n",
       "3     637.875000         645.75  \n",
       "4     749.503125        1500.00  \n",
       "..           ...            ...  \n",
       "608   574.087500         808.00  \n",
       "609   629.015625         725.00  \n",
       "611   484.147125        2018.00  \n",
       "612   596.413125        1895.75  \n",
       "613   706.978125        1145.75  \n",
       "\n",
       "[558 rows x 12 columns]"
      ]
     },
     "execution_count": 55,
     "metadata": {},
     "output_type": "execute_result"
    }
   ],
   "source": [
    "df"
   ]
  },
  {
   "cell_type": "code",
   "execution_count": 103,
   "id": "a1684233-c522-4a7a-93cb-98ad98936e44",
   "metadata": {},
   "outputs": [
    {
     "data": {
      "text/html": [
       "<div>\n",
       "<style scoped>\n",
       "    .dataframe tbody tr th:only-of-type {\n",
       "        vertical-align: middle;\n",
       "    }\n",
       "\n",
       "    .dataframe tbody tr th {\n",
       "        vertical-align: top;\n",
       "    }\n",
       "\n",
       "    .dataframe thead th {\n",
       "        text-align: right;\n",
       "    }\n",
       "</style>\n",
       "<table border=\"1\" class=\"dataframe\">\n",
       "  <thead>\n",
       "    <tr style=\"text-align: right;\">\n",
       "      <th></th>\n",
       "      <th>Gender</th>\n",
       "      <th>Married</th>\n",
       "      <th>Dependents</th>\n",
       "      <th>Education</th>\n",
       "      <th>Self_Employed</th>\n",
       "      <th>ApplicantIncome</th>\n",
       "      <th>CoapplicantIncome</th>\n",
       "      <th>Loan_Amount_Term</th>\n",
       "      <th>Property_Area</th>\n",
       "      <th>Fahrzeugwert</th>\n",
       "      <th>leasingrate</th>\n",
       "      <th>einkommen_025</th>\n",
       "      <th>label</th>\n",
       "    </tr>\n",
       "  </thead>\n",
       "  <tbody>\n",
       "    <tr>\n",
       "      <th>0</th>\n",
       "      <td>Male</td>\n",
       "      <td>No</td>\n",
       "      <td>0</td>\n",
       "      <td>Graduate</td>\n",
       "      <td>No</td>\n",
       "      <td>5849</td>\n",
       "      <td>0.0</td>\n",
       "      <td>36.0</td>\n",
       "      <td>Urban</td>\n",
       "      <td>65318.400</td>\n",
       "      <td>680.400000</td>\n",
       "      <td>1462.25</td>\n",
       "      <td>No Risk</td>\n",
       "    </tr>\n",
       "    <tr>\n",
       "      <th>1</th>\n",
       "      <td>Male</td>\n",
       "      <td>Yes</td>\n",
       "      <td>1</td>\n",
       "      <td>Graduate</td>\n",
       "      <td>No</td>\n",
       "      <td>4583</td>\n",
       "      <td>1508.0</td>\n",
       "      <td>36.0</td>\n",
       "      <td>Rural</td>\n",
       "      <td>65318.400</td>\n",
       "      <td>680.400000</td>\n",
       "      <td>1145.75</td>\n",
       "      <td>No Risk</td>\n",
       "    </tr>\n",
       "    <tr>\n",
       "      <th>2</th>\n",
       "      <td>Male</td>\n",
       "      <td>Yes</td>\n",
       "      <td>0</td>\n",
       "      <td>Graduate</td>\n",
       "      <td>Yes</td>\n",
       "      <td>3000</td>\n",
       "      <td>0.0</td>\n",
       "      <td>36.0</td>\n",
       "      <td>Urban</td>\n",
       "      <td>48498.912</td>\n",
       "      <td>505.197000</td>\n",
       "      <td>750.00</td>\n",
       "      <td>No Risk</td>\n",
       "    </tr>\n",
       "    <tr>\n",
       "      <th>3</th>\n",
       "      <td>Male</td>\n",
       "      <td>Yes</td>\n",
       "      <td>0</td>\n",
       "      <td>Not Graduate</td>\n",
       "      <td>No</td>\n",
       "      <td>2583</td>\n",
       "      <td>2358.0</td>\n",
       "      <td>36.0</td>\n",
       "      <td>Urban</td>\n",
       "      <td>61236.000</td>\n",
       "      <td>637.875000</td>\n",
       "      <td>645.75</td>\n",
       "      <td>No Risk</td>\n",
       "    </tr>\n",
       "    <tr>\n",
       "      <th>4</th>\n",
       "      <td>Male</td>\n",
       "      <td>No</td>\n",
       "      <td>0</td>\n",
       "      <td>Graduate</td>\n",
       "      <td>No</td>\n",
       "      <td>6000</td>\n",
       "      <td>0.0</td>\n",
       "      <td>36.0</td>\n",
       "      <td>Urban</td>\n",
       "      <td>71952.300</td>\n",
       "      <td>749.503125</td>\n",
       "      <td>1500.00</td>\n",
       "      <td>No Risk</td>\n",
       "    </tr>\n",
       "    <tr>\n",
       "      <th>5</th>\n",
       "      <td>Male</td>\n",
       "      <td>Yes</td>\n",
       "      <td>2</td>\n",
       "      <td>Graduate</td>\n",
       "      <td>Yes</td>\n",
       "      <td>5417</td>\n",
       "      <td>4196.0</td>\n",
       "      <td>36.0</td>\n",
       "      <td>Urban</td>\n",
       "      <td>49050.036</td>\n",
       "      <td>510.937875</td>\n",
       "      <td>1354.25</td>\n",
       "      <td>No Risk</td>\n",
       "    </tr>\n",
       "    <tr>\n",
       "      <th>6</th>\n",
       "      <td>Male</td>\n",
       "      <td>Yes</td>\n",
       "      <td>0</td>\n",
       "      <td>Not Graduate</td>\n",
       "      <td>No</td>\n",
       "      <td>2333</td>\n",
       "      <td>1516.0</td>\n",
       "      <td>36.0</td>\n",
       "      <td>Urban</td>\n",
       "      <td>48478.500</td>\n",
       "      <td>504.984375</td>\n",
       "      <td>583.25</td>\n",
       "      <td>No Risk</td>\n",
       "    </tr>\n",
       "    <tr>\n",
       "      <th>7</th>\n",
       "      <td>Male</td>\n",
       "      <td>Yes</td>\n",
       "      <td>3+</td>\n",
       "      <td>Graduate</td>\n",
       "      <td>No</td>\n",
       "      <td>3036</td>\n",
       "      <td>2504.0</td>\n",
       "      <td>36.0</td>\n",
       "      <td>Semiurban</td>\n",
       "      <td>48376.440</td>\n",
       "      <td>503.921250</td>\n",
       "      <td>759.00</td>\n",
       "      <td>No Risk</td>\n",
       "    </tr>\n",
       "    <tr>\n",
       "      <th>8</th>\n",
       "      <td>Male</td>\n",
       "      <td>Yes</td>\n",
       "      <td>2</td>\n",
       "      <td>Graduate</td>\n",
       "      <td>No</td>\n",
       "      <td>4006</td>\n",
       "      <td>1526.0</td>\n",
       "      <td>36.0</td>\n",
       "      <td>Urban</td>\n",
       "      <td>51438.240</td>\n",
       "      <td>535.815000</td>\n",
       "      <td>1001.50</td>\n",
       "      <td>No Risk</td>\n",
       "    </tr>\n",
       "    <tr>\n",
       "      <th>9</th>\n",
       "      <td>Male</td>\n",
       "      <td>Yes</td>\n",
       "      <td>1</td>\n",
       "      <td>Graduate</td>\n",
       "      <td>No</td>\n",
       "      <td>12841</td>\n",
       "      <td>10968.0</td>\n",
       "      <td>36.0</td>\n",
       "      <td>Semiurban</td>\n",
       "      <td>64114.092</td>\n",
       "      <td>667.855125</td>\n",
       "      <td>3210.25</td>\n",
       "      <td>No Risk</td>\n",
       "    </tr>\n",
       "    <tr>\n",
       "      <th>10</th>\n",
       "      <td>Male</td>\n",
       "      <td>Yes</td>\n",
       "      <td>2</td>\n",
       "      <td>Graduate</td>\n",
       "      <td>No</td>\n",
       "      <td>3200</td>\n",
       "      <td>700.0</td>\n",
       "      <td>36.0</td>\n",
       "      <td>Urban</td>\n",
       "      <td>51438.240</td>\n",
       "      <td>535.815000</td>\n",
       "      <td>800.00</td>\n",
       "      <td>No Risk</td>\n",
       "    </tr>\n",
       "    <tr>\n",
       "      <th>11</th>\n",
       "      <td>Male</td>\n",
       "      <td>Yes</td>\n",
       "      <td>2</td>\n",
       "      <td>Graduate</td>\n",
       "      <td>No</td>\n",
       "      <td>2500</td>\n",
       "      <td>1840.0</td>\n",
       "      <td>36.0</td>\n",
       "      <td>Urban</td>\n",
       "      <td>55622.700</td>\n",
       "      <td>579.403125</td>\n",
       "      <td>625.00</td>\n",
       "      <td>No Risk</td>\n",
       "    </tr>\n",
       "    <tr>\n",
       "      <th>12</th>\n",
       "      <td>Male</td>\n",
       "      <td>Yes</td>\n",
       "      <td>2</td>\n",
       "      <td>Graduate</td>\n",
       "      <td>No</td>\n",
       "      <td>3073</td>\n",
       "      <td>8106.0</td>\n",
       "      <td>36.0</td>\n",
       "      <td>Urban</td>\n",
       "      <td>61236.000</td>\n",
       "      <td>637.875000</td>\n",
       "      <td>768.25</td>\n",
       "      <td>No Risk</td>\n",
       "    </tr>\n",
       "    <tr>\n",
       "      <th>13</th>\n",
       "      <td>Male</td>\n",
       "      <td>No</td>\n",
       "      <td>0</td>\n",
       "      <td>Graduate</td>\n",
       "      <td>No</td>\n",
       "      <td>1853</td>\n",
       "      <td>2840.0</td>\n",
       "      <td>36.0</td>\n",
       "      <td>Rural</td>\n",
       "      <td>58174.200</td>\n",
       "      <td>605.981250</td>\n",
       "      <td>463.25</td>\n",
       "      <td>Risk</td>\n",
       "    </tr>\n",
       "    <tr>\n",
       "      <th>15</th>\n",
       "      <td>Male</td>\n",
       "      <td>No</td>\n",
       "      <td>0</td>\n",
       "      <td>Graduate</td>\n",
       "      <td>No</td>\n",
       "      <td>4950</td>\n",
       "      <td>0.0</td>\n",
       "      <td>36.0</td>\n",
       "      <td>Urban</td>\n",
       "      <td>63787.500</td>\n",
       "      <td>664.453125</td>\n",
       "      <td>1237.50</td>\n",
       "      <td>No Risk</td>\n",
       "    </tr>\n",
       "    <tr>\n",
       "      <th>16</th>\n",
       "      <td>Male</td>\n",
       "      <td>No</td>\n",
       "      <td>1</td>\n",
       "      <td>Not Graduate</td>\n",
       "      <td>No</td>\n",
       "      <td>3596</td>\n",
       "      <td>0.0</td>\n",
       "      <td>24.0</td>\n",
       "      <td>Urban</td>\n",
       "      <td>51030.000</td>\n",
       "      <td>531.562500</td>\n",
       "      <td>899.00</td>\n",
       "      <td>No Risk</td>\n",
       "    </tr>\n",
       "    <tr>\n",
       "      <th>17</th>\n",
       "      <td>Female</td>\n",
       "      <td>No</td>\n",
       "      <td>0</td>\n",
       "      <td>Graduate</td>\n",
       "      <td>No</td>\n",
       "      <td>3510</td>\n",
       "      <td>0.0</td>\n",
       "      <td>36.0</td>\n",
       "      <td>Urban</td>\n",
       "      <td>64638.000</td>\n",
       "      <td>673.312500</td>\n",
       "      <td>877.50</td>\n",
       "      <td>No Risk</td>\n",
       "    </tr>\n",
       "    <tr>\n",
       "      <th>18</th>\n",
       "      <td>Male</td>\n",
       "      <td>Yes</td>\n",
       "      <td>0</td>\n",
       "      <td>Not Graduate</td>\n",
       "      <td>No</td>\n",
       "      <td>4887</td>\n",
       "      <td>0.0</td>\n",
       "      <td>36.0</td>\n",
       "      <td>Rural</td>\n",
       "      <td>67869.900</td>\n",
       "      <td>706.978125</td>\n",
       "      <td>1221.75</td>\n",
       "      <td>No Risk</td>\n",
       "    </tr>\n",
       "    <tr>\n",
       "      <th>19</th>\n",
       "      <td>Male</td>\n",
       "      <td>Yes</td>\n",
       "      <td>0</td>\n",
       "      <td>Graduate</td>\n",
       "      <td>No</td>\n",
       "      <td>2600</td>\n",
       "      <td>3500.0</td>\n",
       "      <td>36.0</td>\n",
       "      <td>Urban</td>\n",
       "      <td>58684.500</td>\n",
       "      <td>611.296875</td>\n",
       "      <td>650.00</td>\n",
       "      <td>No Risk</td>\n",
       "    </tr>\n",
       "    <tr>\n",
       "      <th>20</th>\n",
       "      <td>Male</td>\n",
       "      <td>Yes</td>\n",
       "      <td>0</td>\n",
       "      <td>Not Graduate</td>\n",
       "      <td>No</td>\n",
       "      <td>7660</td>\n",
       "      <td>0.0</td>\n",
       "      <td>36.0</td>\n",
       "      <td>Urban</td>\n",
       "      <td>53071.200</td>\n",
       "      <td>552.825000</td>\n",
       "      <td>1915.00</td>\n",
       "      <td>No Risk</td>\n",
       "    </tr>\n",
       "    <tr>\n",
       "      <th>21</th>\n",
       "      <td>Male</td>\n",
       "      <td>Yes</td>\n",
       "      <td>1</td>\n",
       "      <td>Graduate</td>\n",
       "      <td>No</td>\n",
       "      <td>5955</td>\n",
       "      <td>5625.0</td>\n",
       "      <td>36.0</td>\n",
       "      <td>Urban</td>\n",
       "      <td>57868.020</td>\n",
       "      <td>602.791875</td>\n",
       "      <td>1488.75</td>\n",
       "      <td>No Risk</td>\n",
       "    </tr>\n",
       "    <tr>\n",
       "      <th>22</th>\n",
       "      <td>Male</td>\n",
       "      <td>Yes</td>\n",
       "      <td>0</td>\n",
       "      <td>Not Graduate</td>\n",
       "      <td>No</td>\n",
       "      <td>2600</td>\n",
       "      <td>1911.0</td>\n",
       "      <td>36.0</td>\n",
       "      <td>Semiurban</td>\n",
       "      <td>59194.800</td>\n",
       "      <td>616.612500</td>\n",
       "      <td>650.00</td>\n",
       "      <td>No Risk</td>\n",
       "    </tr>\n",
       "    <tr>\n",
       "      <th>23</th>\n",
       "      <td>Male</td>\n",
       "      <td>Yes</td>\n",
       "      <td>2</td>\n",
       "      <td>Not Graduate</td>\n",
       "      <td>No</td>\n",
       "      <td>3365</td>\n",
       "      <td>1917.0</td>\n",
       "      <td>36.0</td>\n",
       "      <td>Rural</td>\n",
       "      <td>57153.600</td>\n",
       "      <td>595.350000</td>\n",
       "      <td>841.25</td>\n",
       "      <td>No Risk</td>\n",
       "    </tr>\n",
       "    <tr>\n",
       "      <th>24</th>\n",
       "      <td>Male</td>\n",
       "      <td>Yes</td>\n",
       "      <td>1</td>\n",
       "      <td>Graduate</td>\n",
       "      <td>No</td>\n",
       "      <td>3717</td>\n",
       "      <td>2925.0</td>\n",
       "      <td>36.0</td>\n",
       "      <td>Semiurban</td>\n",
       "      <td>46233.180</td>\n",
       "      <td>481.595625</td>\n",
       "      <td>929.25</td>\n",
       "      <td>No Risk</td>\n",
       "    </tr>\n",
       "    <tr>\n",
       "      <th>25</th>\n",
       "      <td>Male</td>\n",
       "      <td>Yes</td>\n",
       "      <td>0</td>\n",
       "      <td>Graduate</td>\n",
       "      <td>Yes</td>\n",
       "      <td>9560</td>\n",
       "      <td>0.0</td>\n",
       "      <td>36.0</td>\n",
       "      <td>Semiurban</td>\n",
       "      <td>58480.380</td>\n",
       "      <td>609.170625</td>\n",
       "      <td>2390.00</td>\n",
       "      <td>No Risk</td>\n",
       "    </tr>\n",
       "    <tr>\n",
       "      <th>26</th>\n",
       "      <td>Male</td>\n",
       "      <td>Yes</td>\n",
       "      <td>0</td>\n",
       "      <td>Graduate</td>\n",
       "      <td>No</td>\n",
       "      <td>2799</td>\n",
       "      <td>2253.0</td>\n",
       "      <td>36.0</td>\n",
       "      <td>Semiurban</td>\n",
       "      <td>62256.600</td>\n",
       "      <td>648.506250</td>\n",
       "      <td>699.75</td>\n",
       "      <td>No Risk</td>\n",
       "    </tr>\n",
       "    <tr>\n",
       "      <th>27</th>\n",
       "      <td>Male</td>\n",
       "      <td>Yes</td>\n",
       "      <td>2</td>\n",
       "      <td>Not Graduate</td>\n",
       "      <td>No</td>\n",
       "      <td>4226</td>\n",
       "      <td>1040.0</td>\n",
       "      <td>36.0</td>\n",
       "      <td>Urban</td>\n",
       "      <td>56133.000</td>\n",
       "      <td>584.718750</td>\n",
       "      <td>1056.50</td>\n",
       "      <td>No Risk</td>\n",
       "    </tr>\n",
       "    <tr>\n",
       "      <th>28</th>\n",
       "      <td>Male</td>\n",
       "      <td>No</td>\n",
       "      <td>0</td>\n",
       "      <td>Not Graduate</td>\n",
       "      <td>No</td>\n",
       "      <td>1442</td>\n",
       "      <td>0.0</td>\n",
       "      <td>36.0</td>\n",
       "      <td>Urban</td>\n",
       "      <td>71442.000</td>\n",
       "      <td>744.187500</td>\n",
       "      <td>360.50</td>\n",
       "      <td>Risk</td>\n",
       "    </tr>\n",
       "    <tr>\n",
       "      <th>29</th>\n",
       "      <td>Female</td>\n",
       "      <td>No</td>\n",
       "      <td>2</td>\n",
       "      <td>Graduate</td>\n",
       "      <td>No</td>\n",
       "      <td>3750</td>\n",
       "      <td>2083.0</td>\n",
       "      <td>36.0</td>\n",
       "      <td>Semiurban</td>\n",
       "      <td>61236.000</td>\n",
       "      <td>637.875000</td>\n",
       "      <td>937.50</td>\n",
       "      <td>No Risk</td>\n",
       "    </tr>\n",
       "    <tr>\n",
       "      <th>30</th>\n",
       "      <td>Male</td>\n",
       "      <td>Yes</td>\n",
       "      <td>1</td>\n",
       "      <td>Graduate</td>\n",
       "      <td>No</td>\n",
       "      <td>4166</td>\n",
       "      <td>3369.0</td>\n",
       "      <td>36.0</td>\n",
       "      <td>Urban</td>\n",
       "      <td>61542.180</td>\n",
       "      <td>641.064375</td>\n",
       "      <td>1041.50</td>\n",
       "      <td>No Risk</td>\n",
       "    </tr>\n",
       "    <tr>\n",
       "      <th>31</th>\n",
       "      <td>Male</td>\n",
       "      <td>No</td>\n",
       "      <td>0</td>\n",
       "      <td>Graduate</td>\n",
       "      <td>No</td>\n",
       "      <td>3167</td>\n",
       "      <td>0.0</td>\n",
       "      <td>36.0</td>\n",
       "      <td>Urban</td>\n",
       "      <td>62937.000</td>\n",
       "      <td>655.593750</td>\n",
       "      <td>791.75</td>\n",
       "      <td>No Risk</td>\n",
       "    </tr>\n",
       "    <tr>\n",
       "      <th>32</th>\n",
       "      <td>Male</td>\n",
       "      <td>No</td>\n",
       "      <td>1</td>\n",
       "      <td>Graduate</td>\n",
       "      <td>Yes</td>\n",
       "      <td>4692</td>\n",
       "      <td>0.0</td>\n",
       "      <td>36.0</td>\n",
       "      <td>Rural</td>\n",
       "      <td>54091.800</td>\n",
       "      <td>563.456250</td>\n",
       "      <td>1173.00</td>\n",
       "      <td>No Risk</td>\n",
       "    </tr>\n",
       "    <tr>\n",
       "      <th>33</th>\n",
       "      <td>Male</td>\n",
       "      <td>Yes</td>\n",
       "      <td>0</td>\n",
       "      <td>Graduate</td>\n",
       "      <td>No</td>\n",
       "      <td>3500</td>\n",
       "      <td>1667.0</td>\n",
       "      <td>36.0</td>\n",
       "      <td>Semiurban</td>\n",
       "      <td>58174.200</td>\n",
       "      <td>605.981250</td>\n",
       "      <td>875.00</td>\n",
       "      <td>No Risk</td>\n",
       "    </tr>\n",
       "    <tr>\n",
       "      <th>34</th>\n",
       "      <td>Male</td>\n",
       "      <td>No</td>\n",
       "      <td>3+</td>\n",
       "      <td>Graduate</td>\n",
       "      <td>No</td>\n",
       "      <td>12500</td>\n",
       "      <td>3000.0</td>\n",
       "      <td>36.0</td>\n",
       "      <td>Rural</td>\n",
       "      <td>58786.560</td>\n",
       "      <td>612.360000</td>\n",
       "      <td>3125.00</td>\n",
       "      <td>No Risk</td>\n",
       "    </tr>\n",
       "    <tr>\n",
       "      <th>35</th>\n",
       "      <td>Male</td>\n",
       "      <td>Yes</td>\n",
       "      <td>0</td>\n",
       "      <td>Graduate</td>\n",
       "      <td>No</td>\n",
       "      <td>2275</td>\n",
       "      <td>2067.0</td>\n",
       "      <td>36.0</td>\n",
       "      <td>Urban</td>\n",
       "      <td>65318.400</td>\n",
       "      <td>680.400000</td>\n",
       "      <td>568.75</td>\n",
       "      <td>Risk</td>\n",
       "    </tr>\n",
       "    <tr>\n",
       "      <th>36</th>\n",
       "      <td>Male</td>\n",
       "      <td>Yes</td>\n",
       "      <td>0</td>\n",
       "      <td>Graduate</td>\n",
       "      <td>No</td>\n",
       "      <td>1828</td>\n",
       "      <td>1330.0</td>\n",
       "      <td>36.0</td>\n",
       "      <td>Urban</td>\n",
       "      <td>51030.000</td>\n",
       "      <td>531.562500</td>\n",
       "      <td>457.00</td>\n",
       "      <td>Risk</td>\n",
       "    </tr>\n",
       "    <tr>\n",
       "      <th>37</th>\n",
       "      <td>Female</td>\n",
       "      <td>Yes</td>\n",
       "      <td>0</td>\n",
       "      <td>Graduate</td>\n",
       "      <td>No</td>\n",
       "      <td>3667</td>\n",
       "      <td>1459.0</td>\n",
       "      <td>36.0</td>\n",
       "      <td>Semiurban</td>\n",
       "      <td>73483.200</td>\n",
       "      <td>765.450000</td>\n",
       "      <td>916.75</td>\n",
       "      <td>No Risk</td>\n",
       "    </tr>\n",
       "    <tr>\n",
       "      <th>38</th>\n",
       "      <td>Male</td>\n",
       "      <td>No</td>\n",
       "      <td>0</td>\n",
       "      <td>Graduate</td>\n",
       "      <td>No</td>\n",
       "      <td>4166</td>\n",
       "      <td>7210.0</td>\n",
       "      <td>36.0</td>\n",
       "      <td>Urban</td>\n",
       "      <td>56337.120</td>\n",
       "      <td>586.845000</td>\n",
       "      <td>1041.50</td>\n",
       "      <td>No Risk</td>\n",
       "    </tr>\n",
       "    <tr>\n",
       "      <th>39</th>\n",
       "      <td>Male</td>\n",
       "      <td>No</td>\n",
       "      <td>0</td>\n",
       "      <td>Not Graduate</td>\n",
       "      <td>No</td>\n",
       "      <td>3748</td>\n",
       "      <td>1668.0</td>\n",
       "      <td>36.0</td>\n",
       "      <td>Semiurban</td>\n",
       "      <td>56133.000</td>\n",
       "      <td>584.718750</td>\n",
       "      <td>937.00</td>\n",
       "      <td>No Risk</td>\n",
       "    </tr>\n",
       "    <tr>\n",
       "      <th>40</th>\n",
       "      <td>Male</td>\n",
       "      <td>No</td>\n",
       "      <td>0</td>\n",
       "      <td>Graduate</td>\n",
       "      <td>No</td>\n",
       "      <td>3600</td>\n",
       "      <td>0.0</td>\n",
       "      <td>36.0</td>\n",
       "      <td>Urban</td>\n",
       "      <td>68040.000</td>\n",
       "      <td>708.750000</td>\n",
       "      <td>900.00</td>\n",
       "      <td>No Risk</td>\n",
       "    </tr>\n",
       "    <tr>\n",
       "      <th>41</th>\n",
       "      <td>Male</td>\n",
       "      <td>No</td>\n",
       "      <td>0</td>\n",
       "      <td>Graduate</td>\n",
       "      <td>No</td>\n",
       "      <td>1800</td>\n",
       "      <td>1213.0</td>\n",
       "      <td>36.0</td>\n",
       "      <td>Urban</td>\n",
       "      <td>57561.840</td>\n",
       "      <td>599.602500</td>\n",
       "      <td>450.00</td>\n",
       "      <td>Risk</td>\n",
       "    </tr>\n",
       "    <tr>\n",
       "      <th>42</th>\n",
       "      <td>Male</td>\n",
       "      <td>Yes</td>\n",
       "      <td>0</td>\n",
       "      <td>Graduate</td>\n",
       "      <td>No</td>\n",
       "      <td>2400</td>\n",
       "      <td>0.0</td>\n",
       "      <td>36.0</td>\n",
       "      <td>Urban</td>\n",
       "      <td>63787.500</td>\n",
       "      <td>664.453125</td>\n",
       "      <td>600.00</td>\n",
       "      <td>Risk</td>\n",
       "    </tr>\n",
       "    <tr>\n",
       "      <th>43</th>\n",
       "      <td>Male</td>\n",
       "      <td>Yes</td>\n",
       "      <td>0</td>\n",
       "      <td>Graduate</td>\n",
       "      <td>No</td>\n",
       "      <td>3941</td>\n",
       "      <td>2336.0</td>\n",
       "      <td>36.0</td>\n",
       "      <td>Semiurban</td>\n",
       "      <td>68380.200</td>\n",
       "      <td>712.293750</td>\n",
       "      <td>985.25</td>\n",
       "      <td>No Risk</td>\n",
       "    </tr>\n",
       "    <tr>\n",
       "      <th>44</th>\n",
       "      <td>Male</td>\n",
       "      <td>Yes</td>\n",
       "      <td>0</td>\n",
       "      <td>Not Graduate</td>\n",
       "      <td>Yes</td>\n",
       "      <td>4695</td>\n",
       "      <td>0.0</td>\n",
       "      <td>36.0</td>\n",
       "      <td>Urban</td>\n",
       "      <td>48988.800</td>\n",
       "      <td>510.300000</td>\n",
       "      <td>1173.75</td>\n",
       "      <td>Risk</td>\n",
       "    </tr>\n",
       "    <tr>\n",
       "      <th>45</th>\n",
       "      <td>Female</td>\n",
       "      <td>No</td>\n",
       "      <td>0</td>\n",
       "      <td>Graduate</td>\n",
       "      <td>No</td>\n",
       "      <td>3410</td>\n",
       "      <td>0.0</td>\n",
       "      <td>36.0</td>\n",
       "      <td>Urban</td>\n",
       "      <td>44906.400</td>\n",
       "      <td>467.775000</td>\n",
       "      <td>852.50</td>\n",
       "      <td>No Risk</td>\n",
       "    </tr>\n",
       "    <tr>\n",
       "      <th>46</th>\n",
       "      <td>Male</td>\n",
       "      <td>Yes</td>\n",
       "      <td>1</td>\n",
       "      <td>Graduate</td>\n",
       "      <td>No</td>\n",
       "      <td>5649</td>\n",
       "      <td>0.0</td>\n",
       "      <td>36.0</td>\n",
       "      <td>Urban</td>\n",
       "      <td>53887.680</td>\n",
       "      <td>561.330000</td>\n",
       "      <td>1412.25</td>\n",
       "      <td>No Risk</td>\n",
       "    </tr>\n",
       "    <tr>\n",
       "      <th>47</th>\n",
       "      <td>Male</td>\n",
       "      <td>Yes</td>\n",
       "      <td>0</td>\n",
       "      <td>Graduate</td>\n",
       "      <td>No</td>\n",
       "      <td>5821</td>\n",
       "      <td>0.0</td>\n",
       "      <td>36.0</td>\n",
       "      <td>Urban</td>\n",
       "      <td>73483.200</td>\n",
       "      <td>765.450000</td>\n",
       "      <td>1455.25</td>\n",
       "      <td>No Risk</td>\n",
       "    </tr>\n",
       "    <tr>\n",
       "      <th>48</th>\n",
       "      <td>Female</td>\n",
       "      <td>Yes</td>\n",
       "      <td>0</td>\n",
       "      <td>Graduate</td>\n",
       "      <td>No</td>\n",
       "      <td>2645</td>\n",
       "      <td>3440.0</td>\n",
       "      <td>36.0</td>\n",
       "      <td>Urban</td>\n",
       "      <td>61236.000</td>\n",
       "      <td>637.875000</td>\n",
       "      <td>661.25</td>\n",
       "      <td>No Risk</td>\n",
       "    </tr>\n",
       "    <tr>\n",
       "      <th>49</th>\n",
       "      <td>Female</td>\n",
       "      <td>No</td>\n",
       "      <td>0</td>\n",
       "      <td>Graduate</td>\n",
       "      <td>No</td>\n",
       "      <td>4000</td>\n",
       "      <td>2275.0</td>\n",
       "      <td>36.0</td>\n",
       "      <td>Semiurban</td>\n",
       "      <td>73483.200</td>\n",
       "      <td>765.450000</td>\n",
       "      <td>1000.00</td>\n",
       "      <td>No Risk</td>\n",
       "    </tr>\n",
       "    <tr>\n",
       "      <th>50</th>\n",
       "      <td>Female</td>\n",
       "      <td>Yes</td>\n",
       "      <td>0</td>\n",
       "      <td>Not Graduate</td>\n",
       "      <td>No</td>\n",
       "      <td>1928</td>\n",
       "      <td>1644.0</td>\n",
       "      <td>36.0</td>\n",
       "      <td>Semiurban</td>\n",
       "      <td>51030.000</td>\n",
       "      <td>531.562500</td>\n",
       "      <td>482.00</td>\n",
       "      <td>Risk</td>\n",
       "    </tr>\n",
       "  </tbody>\n",
       "</table>\n",
       "</div>"
      ],
      "text/plain": [
       "    Gender Married Dependents     Education Self_Employed  ApplicantIncome  \\\n",
       "0     Male      No          0      Graduate            No             5849   \n",
       "1     Male     Yes          1      Graduate            No             4583   \n",
       "2     Male     Yes          0      Graduate           Yes             3000   \n",
       "3     Male     Yes          0  Not Graduate            No             2583   \n",
       "4     Male      No          0      Graduate            No             6000   \n",
       "5     Male     Yes          2      Graduate           Yes             5417   \n",
       "6     Male     Yes          0  Not Graduate            No             2333   \n",
       "7     Male     Yes         3+      Graduate            No             3036   \n",
       "8     Male     Yes          2      Graduate            No             4006   \n",
       "9     Male     Yes          1      Graduate            No            12841   \n",
       "10    Male     Yes          2      Graduate            No             3200   \n",
       "11    Male     Yes          2      Graduate            No             2500   \n",
       "12    Male     Yes          2      Graduate            No             3073   \n",
       "13    Male      No          0      Graduate            No             1853   \n",
       "15    Male      No          0      Graduate            No             4950   \n",
       "16    Male      No          1  Not Graduate            No             3596   \n",
       "17  Female      No          0      Graduate            No             3510   \n",
       "18    Male     Yes          0  Not Graduate            No             4887   \n",
       "19    Male     Yes          0      Graduate            No             2600   \n",
       "20    Male     Yes          0  Not Graduate            No             7660   \n",
       "21    Male     Yes          1      Graduate            No             5955   \n",
       "22    Male     Yes          0  Not Graduate            No             2600   \n",
       "23    Male     Yes          2  Not Graduate            No             3365   \n",
       "24    Male     Yes          1      Graduate            No             3717   \n",
       "25    Male     Yes          0      Graduate           Yes             9560   \n",
       "26    Male     Yes          0      Graduate            No             2799   \n",
       "27    Male     Yes          2  Not Graduate            No             4226   \n",
       "28    Male      No          0  Not Graduate            No             1442   \n",
       "29  Female      No          2      Graduate            No             3750   \n",
       "30    Male     Yes          1      Graduate            No             4166   \n",
       "31    Male      No          0      Graduate            No             3167   \n",
       "32    Male      No          1      Graduate           Yes             4692   \n",
       "33    Male     Yes          0      Graduate            No             3500   \n",
       "34    Male      No         3+      Graduate            No            12500   \n",
       "35    Male     Yes          0      Graduate            No             2275   \n",
       "36    Male     Yes          0      Graduate            No             1828   \n",
       "37  Female     Yes          0      Graduate            No             3667   \n",
       "38    Male      No          0      Graduate            No             4166   \n",
       "39    Male      No          0  Not Graduate            No             3748   \n",
       "40    Male      No          0      Graduate            No             3600   \n",
       "41    Male      No          0      Graduate            No             1800   \n",
       "42    Male     Yes          0      Graduate            No             2400   \n",
       "43    Male     Yes          0      Graduate            No             3941   \n",
       "44    Male     Yes          0  Not Graduate           Yes             4695   \n",
       "45  Female      No          0      Graduate            No             3410   \n",
       "46    Male     Yes          1      Graduate            No             5649   \n",
       "47    Male     Yes          0      Graduate            No             5821   \n",
       "48  Female     Yes          0      Graduate            No             2645   \n",
       "49  Female      No          0      Graduate            No             4000   \n",
       "50  Female     Yes          0  Not Graduate            No             1928   \n",
       "\n",
       "    CoapplicantIncome  Loan_Amount_Term Property_Area  Fahrzeugwert  \\\n",
       "0                 0.0              36.0         Urban     65318.400   \n",
       "1              1508.0              36.0         Rural     65318.400   \n",
       "2                 0.0              36.0         Urban     48498.912   \n",
       "3              2358.0              36.0         Urban     61236.000   \n",
       "4                 0.0              36.0         Urban     71952.300   \n",
       "5              4196.0              36.0         Urban     49050.036   \n",
       "6              1516.0              36.0         Urban     48478.500   \n",
       "7              2504.0              36.0     Semiurban     48376.440   \n",
       "8              1526.0              36.0         Urban     51438.240   \n",
       "9             10968.0              36.0     Semiurban     64114.092   \n",
       "10              700.0              36.0         Urban     51438.240   \n",
       "11             1840.0              36.0         Urban     55622.700   \n",
       "12             8106.0              36.0         Urban     61236.000   \n",
       "13             2840.0              36.0         Rural     58174.200   \n",
       "15                0.0              36.0         Urban     63787.500   \n",
       "16                0.0              24.0         Urban     51030.000   \n",
       "17                0.0              36.0         Urban     64638.000   \n",
       "18                0.0              36.0         Rural     67869.900   \n",
       "19             3500.0              36.0         Urban     58684.500   \n",
       "20                0.0              36.0         Urban     53071.200   \n",
       "21             5625.0              36.0         Urban     57868.020   \n",
       "22             1911.0              36.0     Semiurban     59194.800   \n",
       "23             1917.0              36.0         Rural     57153.600   \n",
       "24             2925.0              36.0     Semiurban     46233.180   \n",
       "25                0.0              36.0     Semiurban     58480.380   \n",
       "26             2253.0              36.0     Semiurban     62256.600   \n",
       "27             1040.0              36.0         Urban     56133.000   \n",
       "28                0.0              36.0         Urban     71442.000   \n",
       "29             2083.0              36.0     Semiurban     61236.000   \n",
       "30             3369.0              36.0         Urban     61542.180   \n",
       "31                0.0              36.0         Urban     62937.000   \n",
       "32                0.0              36.0         Rural     54091.800   \n",
       "33             1667.0              36.0     Semiurban     58174.200   \n",
       "34             3000.0              36.0         Rural     58786.560   \n",
       "35             2067.0              36.0         Urban     65318.400   \n",
       "36             1330.0              36.0         Urban     51030.000   \n",
       "37             1459.0              36.0     Semiurban     73483.200   \n",
       "38             7210.0              36.0         Urban     56337.120   \n",
       "39             1668.0              36.0     Semiurban     56133.000   \n",
       "40                0.0              36.0         Urban     68040.000   \n",
       "41             1213.0              36.0         Urban     57561.840   \n",
       "42                0.0              36.0         Urban     63787.500   \n",
       "43             2336.0              36.0     Semiurban     68380.200   \n",
       "44                0.0              36.0         Urban     48988.800   \n",
       "45                0.0              36.0         Urban     44906.400   \n",
       "46                0.0              36.0         Urban     53887.680   \n",
       "47                0.0              36.0         Urban     73483.200   \n",
       "48             3440.0              36.0         Urban     61236.000   \n",
       "49             2275.0              36.0     Semiurban     73483.200   \n",
       "50             1644.0              36.0     Semiurban     51030.000   \n",
       "\n",
       "    leasingrate  einkommen_025    label  \n",
       "0    680.400000        1462.25  No Risk  \n",
       "1    680.400000        1145.75  No Risk  \n",
       "2    505.197000         750.00  No Risk  \n",
       "3    637.875000         645.75  No Risk  \n",
       "4    749.503125        1500.00  No Risk  \n",
       "5    510.937875        1354.25  No Risk  \n",
       "6    504.984375         583.25  No Risk  \n",
       "7    503.921250         759.00  No Risk  \n",
       "8    535.815000        1001.50  No Risk  \n",
       "9    667.855125        3210.25  No Risk  \n",
       "10   535.815000         800.00  No Risk  \n",
       "11   579.403125         625.00  No Risk  \n",
       "12   637.875000         768.25  No Risk  \n",
       "13   605.981250         463.25     Risk  \n",
       "15   664.453125        1237.50  No Risk  \n",
       "16   531.562500         899.00  No Risk  \n",
       "17   673.312500         877.50  No Risk  \n",
       "18   706.978125        1221.75  No Risk  \n",
       "19   611.296875         650.00  No Risk  \n",
       "20   552.825000        1915.00  No Risk  \n",
       "21   602.791875        1488.75  No Risk  \n",
       "22   616.612500         650.00  No Risk  \n",
       "23   595.350000         841.25  No Risk  \n",
       "24   481.595625         929.25  No Risk  \n",
       "25   609.170625        2390.00  No Risk  \n",
       "26   648.506250         699.75  No Risk  \n",
       "27   584.718750        1056.50  No Risk  \n",
       "28   744.187500         360.50     Risk  \n",
       "29   637.875000         937.50  No Risk  \n",
       "30   641.064375        1041.50  No Risk  \n",
       "31   655.593750         791.75  No Risk  \n",
       "32   563.456250        1173.00  No Risk  \n",
       "33   605.981250         875.00  No Risk  \n",
       "34   612.360000        3125.00  No Risk  \n",
       "35   680.400000         568.75     Risk  \n",
       "36   531.562500         457.00     Risk  \n",
       "37   765.450000         916.75  No Risk  \n",
       "38   586.845000        1041.50  No Risk  \n",
       "39   584.718750         937.00  No Risk  \n",
       "40   708.750000         900.00  No Risk  \n",
       "41   599.602500         450.00     Risk  \n",
       "42   664.453125         600.00     Risk  \n",
       "43   712.293750         985.25  No Risk  \n",
       "44   510.300000        1173.75     Risk  \n",
       "45   467.775000         852.50  No Risk  \n",
       "46   561.330000        1412.25  No Risk  \n",
       "47   765.450000        1455.25  No Risk  \n",
       "48   637.875000         661.25  No Risk  \n",
       "49   765.450000        1000.00  No Risk  \n",
       "50   531.562500         482.00     Risk  "
      ]
     },
     "execution_count": 103,
     "metadata": {},
     "output_type": "execute_result"
    }
   ],
   "source": [
    "conditions = [\n",
    "    (df['leasingrate'] > df['einkommen_025']) | (df['Self_Employed'] == 'Yes') & (df['Property_Area'] == 'Urban') & (df['Education'] == \"Not Graduate\"),\n",
    "    (df['Loan_Amount_Term'] > 0)\n",
    "    ]\n",
    "                                         \n",
    "values = ['Risk', 'No Risk']\n",
    "\n",
    "# create a new column and use np.select to assign values to it using -> lists as arguments\n",
    "df['label'] = np.select(conditions, values)\n",
    "\n",
    "df.head(50)"
   ]
  },
  {
   "cell_type": "code",
   "execution_count": 104,
   "id": "06c3e939-8502-45ce-b243-fae8973aeaaa",
   "metadata": {},
   "outputs": [
    {
     "data": {
      "text/plain": [
       "No Risk    471\n",
       "Risk        87\n",
       "Name: label, dtype: int64"
      ]
     },
     "execution_count": 104,
     "metadata": {},
     "output_type": "execute_result"
    },
    {
     "data": {
      "image/png": "[encoded data removed]",
      "text/plain": [
       "<Figure size 432x288 with 1 Axes>"
      ]
     },
     "metadata": {
      "needs_background": "light"
     },
     "output_type": "display_data"
    }
   ],
   "source": [
    "df.label.value_counts().plot(kind='bar')\n",
    "df.label.value_counts()"
   ]
  },
  {
   "cell_type": "code",
   "execution_count": 111,
   "id": "24585f47-808d-4a46-a17b-5fe0e3d1ad64",
   "metadata": {},
   "outputs": [
    {
     "name": "stdout",
     "output_type": "stream",
     "text": [
      "<class 'pandas.core.frame.DataFrame'>\n",
      "Int64Index: 558 entries, 0 to 613\n",
      "Data columns (total 13 columns):\n",
      " #   Column             Non-Null Count  Dtype   \n",
      "---  ------             --------------  -----   \n",
      " 0   Gender             558 non-null    category\n",
      " 1   Married            558 non-null    category\n",
      " 2   Dependents         558 non-null    category\n",
      " 3   Education          558 non-null    category\n",
      " 4   Self_Employed      558 non-null    category\n",
      " 5   ApplicantIncome    558 non-null    int64   \n",
      " 6   CoapplicantIncome  558 non-null    int64   \n",
      " 7   Loan_Amount_Term   558 non-null    int64   \n",
      " 8   Property_Area      558 non-null    category\n",
      " 9   Fahrzeugwert       558 non-null    float64 \n",
      " 10  leasingrate        558 non-null    float64 \n",
      " 11  einkommen_025      558 non-null    float64 \n",
      " 12  label              558 non-null    object  \n",
      "dtypes: category(6), float64(3), int64(3), object(1)\n",
      "memory usage: 39.0+ KB\n"
     ]
    }
   ],
   "source": [
    "df.info()"
   ]
  },
  {
   "cell_type": "code",
   "execution_count": 113,
   "id": "b684c54d-0fc4-470f-b5d7-9224b0707e35",
   "metadata": {},
   "outputs": [],
   "source": [
    "df.to_csv(r'/Users/cenkyagkan/Desktop/OMM/7.Semester/Applied Data Analytics/Leasing_risk/Final_data/dataset_leasingrisk.csv', index = False)"
   ]
  },
  {
   "cell_type": "code",
   "execution_count": 114,
   "id": "85020752-e7e2-43da-8b8d-d4ebfc542a87",
   "metadata": {},
   "outputs": [],
   "source": [
    "dfsub = df[['Gender', 'ApplicantIncome', 'leasingrate']]"
   ]
  },
  {
   "cell_type": "code",
   "execution_count": 115,
   "id": "5dc390d5-5aa9-4d6f-a32d-545c6ebd797b",
   "metadata": {},
   "outputs": [],
   "source": [
    "dfsub.to_csv(r'/Users/cenkyagkan/Desktop/OMM/7.Semester/Applied Data Analytics/Clustering/subdataset_customersegmentation.csv', index = False)"
   ]
  },
  {
   "cell_type": "code",
   "execution_count": null,
   "id": "05fbcc7c-3efd-4434-bb04-8a61c1038145",
   "metadata": {},
   "outputs": [],
   "source": []
  }
 ],
 "metadata": {
  "kernelspec": {
   "display_name": "Python 3",
   "language": "python",
   "name": "python3"
  },
  "language_info": {
   "codemirror_mode": {
    "name": "ipython",
    "version": 3
   },
   "file_extension": ".py",
   "mimetype": "text/x-python",
   "name": "python",
   "nbconvert_exporter": "python",
   "pygments_lexer": "ipython3",
   "version": "3.8.8"
  }
 },
 "nbformat": 4,
 "nbformat_minor": 5
}
