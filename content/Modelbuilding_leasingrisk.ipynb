{
 "cells": [
  {
   "cell_type": "markdown",
   "id": "a555dfc0-b9e3-4c06-b90d-9d871381e229",
   "metadata": {},
   "source": [
    "# 4. Modelbuilding"
   ]
  },
  {
   "cell_type": "code",
   "execution_count": null,
   "id": "c0e5f065-26ad-4472-a998-8516a56db6db",
   "metadata": {},
   "outputs": [],
   "source": []
  }
 ],
 "metadata": {
  "kernelspec": {
   "display_name": "Python 3",
   "language": "python",
   "name": "python3"
  },
  "language_info": {
   "codemirror_mode": {
    "name": "ipython",
    "version": 3
   },
   "file_extension": ".py",
   "mimetype": "text/x-python",
   "name": "python",
   "nbconvert_exporter": "python",
   "pygments_lexer": "ipython3",
   "version": "3.8.8"
  }
 },
 "nbformat": 4,
 "nbformat_minor": 5
}
